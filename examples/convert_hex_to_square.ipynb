{
 "cells": [
  {
   "cell_type": "markdown",
   "metadata": {},
   "source": [
    "# Convert hexagonal cameras into square grid and back"
   ]
  },
  {
   "cell_type": "code",
   "execution_count": 1,
   "metadata": {
    "execution": {
     "iopub.execute_input": "2021-01-20T12:49:41.637621Z",
     "iopub.status.busy": "2021-01-20T12:49:41.637081Z",
     "iopub.status.idle": "2021-01-20T12:49:43.283725Z",
     "shell.execute_reply": "2021-01-20T12:49:43.283128Z"
    }
   },
   "outputs": [
    {
     "name": "stderr",
     "output_type": "stream",
     "text": [
      "/usr/local/lib/python3.8/site-packages/setuptools_scm/git.py:68: UserWarning: \"/github/workspace\" is shallow and may cause errors\n",
      "  warnings.warn('\"{}\" is shallow and may cause errors'.format(wd.path))\n"
     ]
    }
   ],
   "source": [
    "from ctapipe.utils import get_dataset_path\n",
    "from ctapipe.image.geometry_converter import convert_geometry_hex1d_to_rect2d, convert_geometry_rect2d_back_to_hexe1d\n",
    "from ctapipe.visualization import CameraDisplay\n",
    "from ctapipe.io import EventSource\n",
    "import copy\n",
    "import matplotlib.pyplot as plt"
   ]
  },
  {
   "cell_type": "markdown",
   "metadata": {},
   "source": [
    "## Setup"
   ]
  },
  {
   "cell_type": "code",
   "execution_count": 2,
   "metadata": {
    "execution": {
     "iopub.execute_input": "2021-01-20T12:49:43.287802Z",
     "iopub.status.busy": "2021-01-20T12:49:43.287265Z",
     "iopub.status.idle": "2021-01-20T12:49:43.290695Z",
     "shell.execute_reply": "2021-01-20T12:49:43.290230Z"
    }
   },
   "outputs": [],
   "source": [
    "filename = get_dataset_path('gamma_test_large.simtel.gz')"
   ]
  },
  {
   "cell_type": "code",
   "execution_count": 3,
   "metadata": {
    "execution": {
     "iopub.execute_input": "2021-01-20T12:49:43.294266Z",
     "iopub.status.busy": "2021-01-20T12:49:43.293713Z",
     "iopub.status.idle": "2021-01-20T12:49:44.188317Z",
     "shell.execute_reply": "2021-01-20T12:49:44.187470Z"
    }
   },
   "outputs": [],
   "source": [
    "source = EventSource(filename, max_events=10, allowed_tels={1})"
   ]
  },
  {
   "cell_type": "code",
   "execution_count": 4,
   "metadata": {
    "execution": {
     "iopub.execute_input": "2021-01-20T12:49:44.210293Z",
     "iopub.status.busy": "2021-01-20T12:49:44.202903Z",
     "iopub.status.idle": "2021-01-20T12:49:46.723694Z",
     "shell.execute_reply": "2021-01-20T12:49:46.722718Z"
    }
   },
   "outputs": [],
   "source": [
    "events = [copy.deepcopy(event) for event in source]"
   ]
  },
  {
   "cell_type": "code",
   "execution_count": 5,
   "metadata": {
    "execution": {
     "iopub.execute_input": "2021-01-20T12:49:46.727619Z",
     "iopub.status.busy": "2021-01-20T12:49:46.727072Z",
     "iopub.status.idle": "2021-01-20T12:49:46.730337Z",
     "shell.execute_reply": "2021-01-20T12:49:46.730752Z"
    }
   },
   "outputs": [],
   "source": [
    "event = events[0]"
   ]
  },
  {
   "cell_type": "code",
   "execution_count": 6,
   "metadata": {
    "execution": {
     "iopub.execute_input": "2021-01-20T12:49:46.753676Z",
     "iopub.status.busy": "2021-01-20T12:49:46.734236Z",
     "iopub.status.idle": "2021-01-20T12:49:47.119866Z",
     "shell.execute_reply": "2021-01-20T12:49:47.119039Z"
    }
   },
   "outputs": [
    {
     "data": {
      "text/plain": [
       "<ctapipe.visualization.mpl_camera.CameraDisplay at 0x7f90f03494c0>"
      ]
     },
     "execution_count": 1,
     "metadata": {},
     "output_type": "execute_result"
    }
   ],
   "source": [
    "geometry = source.subarray.tel[1].camera.geometry\n",
    "image = event.r0.tel[1].waveform[0].sum(axis=1)\n",
    "CameraDisplay(geometry, image)"
   ]
  },
  {
   "cell_type": "markdown",
   "metadata": {},
   "source": [
    "## Conversion into square geometry"
   ]
  },
  {
   "cell_type": "markdown",
   "metadata": {},
   "source": [
    "**A key must be speficied to be able to convert back to hexagonal afterwards**   \n",
    "The conversion geometry is stored in `ctapipe.image.geometry_convert.rot_buffer`"
   ]
  },
  {
   "cell_type": "code",
   "execution_count": 7,
   "metadata": {
    "execution": {
     "iopub.execute_input": "2021-01-20T12:49:47.124090Z",
     "iopub.status.busy": "2021-01-20T12:49:47.123559Z",
     "iopub.status.idle": "2021-01-20T12:49:47.619940Z",
     "shell.execute_reply": "2021-01-20T12:49:47.619435Z"
    }
   },
   "outputs": [],
   "source": [
    "key = 0\n",
    "square_geom, square_image = convert_geometry_hex1d_to_rect2d(geometry, image, key=key)"
   ]
  },
  {
   "cell_type": "code",
   "execution_count": 8,
   "metadata": {
    "execution": {
     "iopub.execute_input": "2021-01-20T12:49:47.624795Z",
     "iopub.status.busy": "2021-01-20T12:49:47.623688Z",
     "iopub.status.idle": "2021-01-20T12:49:47.629334Z",
     "shell.execute_reply": "2021-01-20T12:49:47.628852Z"
    }
   },
   "outputs": [
    {
     "data": {
      "text/plain": [
       "<matplotlib.image.AxesImage at 0x7f90f0257d60>"
      ]
     },
     "execution_count": 1,
     "metadata": {},
     "output_type": "execute_result"
    }
   ],
   "source": [
    "plt.imshow(square_image)"
   ]
  },
  {
   "cell_type": "markdown",
   "metadata": {},
   "source": [
    "## Conversion back to hexagonal geometry"
   ]
  },
  {
   "cell_type": "code",
   "execution_count": 9,
   "metadata": {
    "execution": {
     "iopub.execute_input": "2021-01-20T12:49:47.634070Z",
     "iopub.status.busy": "2021-01-20T12:49:47.633321Z",
     "iopub.status.idle": "2021-01-20T12:49:47.635911Z",
     "shell.execute_reply": "2021-01-20T12:49:47.635425Z"
    }
   },
   "outputs": [],
   "source": [
    "hex_geom, hex_image = convert_geometry_rect2d_back_to_hexe1d(square_geom, square_image, key=key)"
   ]
  },
  {
   "cell_type": "code",
   "execution_count": 10,
   "metadata": {
    "execution": {
     "iopub.execute_input": "2021-01-20T12:49:47.850659Z",
     "iopub.status.busy": "2021-01-20T12:49:47.813934Z",
     "iopub.status.idle": "2021-01-20T12:49:48.126644Z",
     "shell.execute_reply": "2021-01-20T12:49:48.127198Z"
    }
   },
   "outputs": [
    {
     "data": {
      "text/plain": [
       "<ctapipe.visualization.mpl_camera.CameraDisplay at 0x7f90f0257160>"
      ]
     },
     "execution_count": 1,
     "metadata": {},
     "output_type": "execute_result"
    }
   ],
   "source": [
    "CameraDisplay(hex_geom, hex_image)"
   ]
  },
  {
   "cell_type": "markdown",
   "metadata": {},
   "source": [
    "Let's check that the images are exactly the same:"
   ]
  },
  {
   "cell_type": "code",
   "execution_count": 11,
   "metadata": {
    "execution": {
     "iopub.execute_input": "2021-01-20T12:49:48.131210Z",
     "iopub.status.busy": "2021-01-20T12:49:48.130673Z",
     "iopub.status.idle": "2021-01-20T12:49:48.133633Z",
     "shell.execute_reply": "2021-01-20T12:49:48.134333Z"
    }
   },
   "outputs": [],
   "source": [
    "assert (hex_image == image).all()"
   ]
  },
  {
   "cell_type": "code",
   "execution_count": 12,
   "metadata": {
    "execution": {
     "iopub.execute_input": "2021-01-20T12:49:48.138497Z",
     "iopub.status.busy": "2021-01-20T12:49:48.137612Z",
     "iopub.status.idle": "2021-01-20T12:49:48.141489Z",
     "shell.execute_reply": "2021-01-20T12:49:48.142183Z"
    }
   },
   "outputs": [],
   "source": [
    "assert hex_geom == geometry"
   ]
  }
 ],
 "metadata": {
  "kernelspec": {
   "display_name": "Python 3",
   "language": "python",
   "name": "python3"
  },
  "language_info": {
   "codemirror_mode": {
    "name": "ipython",
    "version": 3
   },
   "file_extension": ".py",
   "mimetype": "text/x-python",
   "name": "python",
   "nbconvert_exporter": "python",
   "pygments_lexer": "ipython3",
   "version": "3.8.2"
  }
 },
 "nbformat": 4,
 "nbformat_minor": 2
}
