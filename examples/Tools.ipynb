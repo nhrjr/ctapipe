{
 "cells": [
  {
   "cell_type": "markdown",
   "metadata": {},
   "source": [
    "# Creating command-line Tools"
   ]
  },
  {
   "cell_type": "code",
   "execution_count": 1,
   "metadata": {
    "execution": {
     "iopub.execute_input": "2021-01-20T12:49:13.267873Z",
     "iopub.status.busy": "2021-01-20T12:49:13.266826Z",
     "iopub.status.idle": "2021-01-20T12:49:14.060260Z",
     "shell.execute_reply": "2021-01-20T12:49:14.059221Z"
    }
   },
   "outputs": [
    {
     "name": "stderr",
     "output_type": "stream",
     "text": [
      "/usr/local/lib/python3.8/site-packages/setuptools_scm/git.py:68: UserWarning: \"/github/workspace\" is shallow and may cause errors\n",
      "  warnings.warn('\"{}\" is shallow and may cause errors'.format(wd.path))\n"
     ]
    }
   ],
   "source": [
    "from ctapipe.core import Tool, Component, TelescopeComponent\n",
    "from ctapipe.core.traits import (\n",
    "    Integer, Float, List, Dict, Unicode,\n",
    "    TraitError, observe, FloatTelescopeParameter,\n",
    "    Path,\n",
    ")\n",
    "import logging\n",
    "from time import sleep\n",
    "from astropy import units as u\n",
    "from ctapipe.utils import get_dataset_path"
   ]
  },
  {
   "cell_type": "code",
   "execution_count": 2,
   "metadata": {
    "execution": {
     "iopub.execute_input": "2021-01-20T12:49:14.064575Z",
     "iopub.status.busy": "2021-01-20T12:49:14.064032Z",
     "iopub.status.idle": "2021-01-20T12:49:16.485244Z",
     "shell.execute_reply": "2021-01-20T12:49:16.484431Z"
    }
   },
   "outputs": [
    {
     "name": "stderr",
     "output_type": "stream",
     "text": [
      "\r",
      "Downloading gamma_test.simtel.gz:   0%|          | 0.00/14.4M [00:00<?, ?B/s]"
     ]
    },
    {
     "name": "stderr",
     "output_type": "stream",
     "text": [
      "\r",
      "Downloading gamma_test.simtel.gz:   0%|          | 20.5k/14.4M [00:00<01:48, 133kB/s]"
     ]
    },
    {
     "name": "stderr",
     "output_type": "stream",
     "text": [
      "\r",
      "Downloading gamma_test.simtel.gz:   0%|          | 51.2k/14.4M [00:00<01:25, 168kB/s]"
     ]
    },
    {
     "name": "stderr",
     "output_type": "stream",
     "text": [
      "\r",
      "Downloading gamma_test.simtel.gz:   1%|          | 92.2k/14.4M [00:00<01:09, 207kB/s]"
     ]
    },
    {
     "name": "stderr",
     "output_type": "stream",
     "text": [
      "\r",
      "Downloading gamma_test.simtel.gz:   1%|▏         | 195k/14.4M [00:00<00:37, 378kB/s] "
     ]
    },
    {
     "name": "stderr",
     "output_type": "stream",
     "text": [
      "\r",
      "Downloading gamma_test.simtel.gz:   2%|▏         | 276k/14.4M [00:00<00:33, 427kB/s]"
     ]
    },
    {
     "name": "stderr",
     "output_type": "stream",
     "text": [
      "\r",
      "Downloading gamma_test.simtel.gz:   4%|▎         | 532k/14.4M [00:00<00:16, 827kB/s]"
     ]
    },
    {
     "name": "stderr",
     "output_type": "stream",
     "text": [
      "\r",
      "Downloading gamma_test.simtel.gz:   7%|▋         | 1.05M/14.4M [00:01<00:08, 1.63MB/s]"
     ]
    },
    {
     "name": "stderr",
     "output_type": "stream",
     "text": [
      "\r",
      "Downloading gamma_test.simtel.gz:  14%|█▍        | 2.08M/14.4M [00:01<00:03, 3.15MB/s]"
     ]
    },
    {
     "name": "stderr",
     "output_type": "stream",
     "text": [
      "\r",
      "Downloading gamma_test.simtel.gz:  29%|██▊       | 4.12M/14.4M [00:01<00:01, 6.16MB/s]"
     ]
    },
    {
     "name": "stderr",
     "output_type": "stream",
     "text": [
      "\r",
      "Downloading gamma_test.simtel.gz:  48%|████▊     | 6.93M/14.4M [00:01<00:00, 9.67MB/s]"
     ]
    },
    {
     "name": "stderr",
     "output_type": "stream",
     "text": [
      "\r",
      "Downloading gamma_test.simtel.gz:  68%|██████▊   | 9.82M/14.4M [00:01<00:00, 12.2MB/s]"
     ]
    },
    {
     "name": "stderr",
     "output_type": "stream",
     "text": [
      "\r",
      "Downloading gamma_test.simtel.gz:  88%|████████▊ | 12.6M/14.4M [00:01<00:00, 13.9MB/s]"
     ]
    }
   ],
   "source": [
    "GAMMA_FILE = get_dataset_path('gamma_test.simtel.gz')"
   ]
  },
  {
   "cell_type": "markdown",
   "metadata": {},
   "source": [
    "see https://github.com/ipython/traitlets/blob/master/examples/myapp.py"
   ]
  },
  {
   "cell_type": "markdown",
   "metadata": {},
   "source": [
    "## Setup:\n",
    "\n",
    "Create a few `Component`s that we will use later in a `Tool`:"
   ]
  },
  {
   "cell_type": "code",
   "execution_count": 3,
   "metadata": {
    "execution": {
     "iopub.execute_input": "2021-01-20T12:49:16.498297Z",
     "iopub.status.busy": "2021-01-20T12:49:16.497330Z",
     "iopub.status.idle": "2021-01-20T12:49:16.499620Z",
     "shell.execute_reply": "2021-01-20T12:49:16.499116Z"
    }
   },
   "outputs": [],
   "source": [
    "class MyComponent(Component):\n",
    "    \"\"\" A Component that does stuff \"\"\"\n",
    "\n",
    "    value = Integer(default_value=-1, help=\"Value to use\").tag(config=True)\n",
    "\n",
    "    def do_thing(self):\n",
    "        self.log.debug(\"Did thing\")\n",
    "\n",
    "\n",
    "# in order to have 2 of the same components at once\n",
    "class SecondaryMyComponent(MyComponent):\n",
    "    pass\n",
    "\n",
    "\n",
    "class AdvancedComponent(Component):\n",
    "    \"\"\" An advanced technique \"\"\"\n",
    "\n",
    "    value1 = Integer(default_value=-1, help=\"Value to use\").tag(config=True)\n",
    "    infile = Path(\n",
    "        help=\"input file name\", \n",
    "        exists=None,  # set to True to require existing, False for requiring non-existing\n",
    "        directory_ok=False,\n",
    "    ).tag(config=True)\n",
    "    outfile = Path(\n",
    "        help=\"output file name\",\n",
    "        exists=False, directory_ok=False\n",
    "    ).tag(config=True)\n",
    "    \n",
    "    def __init__(self, config=None, parent=None, **kwargs):\n",
    "        super().__init__(config=config, parent=parent, **kwargs)\n",
    "        # components can have sub components, but these must have \n",
    "        # then parent=self as argument and be assigned as member\n",
    "        # so the full config can be received later\n",
    "        self.subcompent = MyComponent(parent=self)\n",
    "\n",
    "    @observe(\"outfile\")\n",
    "    def on_outfile_changed(self, change):\n",
    "        self.log.warning(\"Outfile was changed to '{}'\".format(change))\n",
    "\n",
    "\n",
    "class TelescopeWiseComponent(TelescopeComponent):\n",
    "    \"\"\" a component that contains parameters that are per-telescope configurable \"\"\"\n",
    "\n",
    "    param = FloatTelescopeParameter(\n",
    "        help=\"Something configurable with telescope patterns\", default_value=5.0\n",
    "    ).tag(config=True)"
   ]
  },
  {
   "cell_type": "code",
   "execution_count": 4,
   "metadata": {
    "execution": {
     "iopub.execute_input": "2021-01-20T12:49:16.510360Z",
     "iopub.status.busy": "2021-01-20T12:49:16.509727Z",
     "iopub.status.idle": "2021-01-20T12:49:16.512570Z",
     "shell.execute_reply": "2021-01-20T12:49:16.513031Z"
    }
   },
   "outputs": [
    {
     "data": {
      "text/html": [
       "<b>MyComponent</b>\n",
       "<p>  A Component that does stuff  </p>\n",
       "<table>\n",
       "<tr><th>value</th>\n",
       "<td>-1</td>\n",
       "<td style=\"text-align:left\"><i>Value to use (default: -1)</i></td></tr>\n",
       "</table>"
      ],
      "text/plain": [
       "<__main__.MyComponent at 0x7f737eca2820>"
      ]
     },
     "execution_count": 1,
     "metadata": {},
     "output_type": "execute_result"
    }
   ],
   "source": [
    "MyComponent()"
   ]
  },
  {
   "cell_type": "code",
   "execution_count": 5,
   "metadata": {
    "execution": {
     "iopub.execute_input": "2021-01-20T12:49:16.518760Z",
     "iopub.status.busy": "2021-01-20T12:49:16.517809Z",
     "iopub.status.idle": "2021-01-20T12:49:16.520548Z",
     "shell.execute_reply": "2021-01-20T12:49:16.521004Z"
    }
   },
   "outputs": [
    {
     "data": {
      "text/html": [
       "<b>AdvancedComponent</b>\n",
       "<p>  An advanced technique  </p>\n",
       "<table>\n",
       "<tr><th>infile</th>\n",
       "<td>None</td>\n",
       "<td style=\"text-align:left\"><i>input file name (default: None)</i></td></tr>\n",
       "<tr><th>outfile</th>\n",
       "<td>None</td>\n",
       "<td style=\"text-align:left\"><i>output file name (default: None)</i></td></tr>\n",
       "<tr><th>value1</th>\n",
       "<td>-1</td>\n",
       "<td style=\"text-align:left\"><i>Value to use (default: -1)</i></td></tr>\n",
       "</table>"
      ],
      "text/plain": [
       "<__main__.AdvancedComponent at 0x7f737eca2fd0>"
      ]
     },
     "execution_count": 1,
     "metadata": {},
     "output_type": "execute_result"
    }
   ],
   "source": [
    "AdvancedComponent()"
   ]
  },
  {
   "cell_type": "markdown",
   "metadata": {},
   "source": [
    "`TelescopeComponents` need to have a subarray given to them in order to work (since they need one to turn a `TelescopeParameter` into a concrete list of values for each telescope.  Here we will give a dummy one:"
   ]
  },
  {
   "cell_type": "code",
   "execution_count": 6,
   "metadata": {
    "execution": {
     "iopub.execute_input": "2021-01-20T12:49:16.526111Z",
     "iopub.status.busy": "2021-01-20T12:49:16.525526Z",
     "iopub.status.idle": "2021-01-20T12:49:21.666140Z",
     "shell.execute_reply": "2021-01-20T12:49:21.665469Z"
    }
   },
   "outputs": [
    {
     "name": "stderr",
     "output_type": "stream",
     "text": [
      "\r",
      "Downloading gamma_test.simtel.gz: 100%|██████████| 14.4M/14.4M [00:01<00:00, 7.23MB/s]"
     ]
    },
    {
     "name": "stderr",
     "output_type": "stream",
     "text": [
      "\n"
     ]
    },
    {
     "name": "stderr",
     "output_type": "stream",
     "text": [
      "Resorting to default CameraReadout, File does not exist: (LSTCam.camreadout)\n"
     ]
    },
    {
     "name": "stderr",
     "output_type": "stream",
     "text": [
      "\r",
      "Downloading optics.ecsv.txt:   0%|          | 0.00/1.04k [00:00<?, ?B/s]"
     ]
    },
    {
     "name": "stderr",
     "output_type": "stream",
     "text": [
      "\r",
      "Downloading optics.ecsv.txt: 100%|██████████| 1.04k/1.04k [00:00<00:00, 172kB/s]"
     ]
    },
    {
     "name": "stderr",
     "output_type": "stream",
     "text": [
      "\n"
     ]
    },
    {
     "name": "stderr",
     "output_type": "stream",
     "text": [
      "\r",
      "Downloading NectarCam.camgeom.fits.gz:   0%|          | 0.00/23.1k [00:00<?, ?B/s]"
     ]
    },
    {
     "name": "stderr",
     "output_type": "stream",
     "text": [
      "\r",
      "Downloading NectarCam.camgeom.fits.gz:  89%|████████▊ | 20.5k/23.1k [00:00<00:00, 130kB/s]"
     ]
    },
    {
     "name": "stderr",
     "output_type": "stream",
     "text": [
      "\r",
      "Downloading NectarCam.camgeom.fits.gz: 100%|██████████| 23.1k/23.1k [00:00<00:00, 137kB/s]"
     ]
    },
    {
     "name": "stderr",
     "output_type": "stream",
     "text": [
      "\n"
     ]
    },
    {
     "name": "stderr",
     "output_type": "stream",
     "text": [
      "Resorting to default CameraReadout, File does not exist: (NectarCam.camreadout)\n"
     ]
    },
    {
     "name": "stdout",
     "output_type": "stream",
     "text": [
      "Subarray : Junk\n",
      "Num Tels : 2\n",
      "Footprint: 0.00 km2\n",
      "\n",
      "       Type       Count Tel IDs\n",
      "----------------- ----- -------\n",
      "   LST_LST_LSTCam     1 1      \n",
      "MST_MST_NectarCam     1 2      \n"
     ]
    }
   ],
   "source": [
    "from ctapipe.instrument import SubarrayDescription, TelescopeDescription\n",
    "\n",
    "subarray = SubarrayDescription(\n",
    "    \"Junk\",\n",
    "    tel_positions={1: (0.0, 0.0, 0.0) * u.m, 2: (1.0, 1.0, 0.0) * u.m},\n",
    "    tel_descriptions={\n",
    "        1: TelescopeDescription.from_name(\"LST\", \"LSTCam\"),\n",
    "        2: TelescopeDescription.from_name(\"MST\", \"NectarCam\"),\n",
    "    },\n",
    ")\n",
    "subarray.info()"
   ]
  },
  {
   "cell_type": "code",
   "execution_count": 7,
   "metadata": {
    "execution": {
     "iopub.execute_input": "2021-01-20T12:49:21.674134Z",
     "iopub.status.busy": "2021-01-20T12:49:21.673661Z",
     "iopub.status.idle": "2021-01-20T12:49:21.679738Z",
     "shell.execute_reply": "2021-01-20T12:49:21.679182Z"
    }
   },
   "outputs": [
    {
     "data": {
      "text/html": [
       "<b>TelescopeWiseComponent</b>\n",
       "<p>  a component that contains parameters that are per-telescope configurable  </p>\n",
       "<table>\n",
       "<tr><th>param</th>\n",
       "<td><span style='color:blue'>[('type', '*', 5.0)]</span></td>\n",
       "<td style=\"text-align:left\"><i>Something configurable with telescope patterns (default: traitlets.Undefined)</i></td></tr>\n",
       "</table>"
      ],
      "text/plain": [
       "<__main__.TelescopeWiseComponent at 0x7f737eca29a0>"
      ]
     },
     "execution_count": 1,
     "metadata": {},
     "output_type": "execute_result"
    }
   ],
   "source": [
    "TelescopeWiseComponent(subarray=subarray)"
   ]
  },
  {
   "cell_type": "markdown",
   "metadata": {},
   "source": [
    "This TelescopeParameters can then be set using a list of patterns like:\n",
    "```python\n",
    "component.param = [ \n",
    "    (\"type\", \"LST*\",3.0), \n",
    "    (\"type\", \"MST*\", 2.0), \n",
    "    (id, 25, 4.0) \n",
    "]\n",
    "```\n",
    "\n",
    "These get translated into per-telescope-id values once the subarray is registered.  After that one acccess the per-telescope id values via:\n",
    "```python\n",
    "component.param.tel[tel_id]\n",
    "```"
   ]
  },
  {
   "cell_type": "markdown",
   "metadata": {},
   "source": [
    "## Now create an executable Tool that contains the Components"
   ]
  },
  {
   "cell_type": "code",
   "execution_count": 8,
   "metadata": {
    "execution": {
     "iopub.execute_input": "2021-01-20T12:49:21.687458Z",
     "iopub.status.busy": "2021-01-20T12:49:21.686278Z",
     "iopub.status.idle": "2021-01-20T12:49:21.688001Z",
     "shell.execute_reply": "2021-01-20T12:49:21.688370Z"
    }
   },
   "outputs": [],
   "source": [
    "class MyTool(Tool):\n",
    "    name=\"mytool\"\n",
    "    description=\"do some things and stuff\"\n",
    "    aliases = dict(\n",
    "        infile='AdvancedComponent.infile',\n",
    "        iterations='MyTool.iterations'\n",
    "    )\n",
    "\n",
    "    # Which classes are registered for configuration\n",
    "    classes = List([MyComponent, AdvancedComponent, SecondaryMyComponent, TelescopeWiseComponent])\n",
    "\n",
    "    # local configuration parameters\n",
    "    iterations = Integer(5,help=\"Number of times to run\",allow_none=False).tag(config=True)\n",
    "\n",
    "    def setup(self):\n",
    "        self.comp = MyComponent(parent=self)\n",
    "        self.comp2 = SecondaryMyComponent(parent=self)\n",
    "        self.comp3 = TelescopeWiseComponent(parent=self, subarray=subarray)\n",
    "        self.advanced = AdvancedComponent(parent=self)\n",
    "\n",
    "\n",
    "    def start(self):\n",
    "        self.log.info(\"Performing {} iterations...\".format(self.iterations))\n",
    "        for ii in range(self.iterations):\n",
    "            self.log.info(\"ITERATION {}\".format(ii))\n",
    "            self.comp.do_thing()\n",
    "            self.comp2.do_thing()\n",
    "            sleep(0.1)\n",
    "            \n",
    "    def finish(self):\n",
    "        self.log.warning(\"Shutting down.\")\n",
    "    "
   ]
  },
  {
   "cell_type": "markdown",
   "metadata": {},
   "source": [
    "## Get Help info\n",
    "\n",
    "The following allows you to print the help info within a Jupyter notebook, but this same inforamtion would be displayed if the user types:\n",
    "```\n",
    "  mytool --help\n",
    "```"
   ]
  },
  {
   "cell_type": "code",
   "execution_count": 9,
   "metadata": {
    "execution": {
     "iopub.execute_input": "2021-01-20T12:49:21.693266Z",
     "iopub.status.busy": "2021-01-20T12:49:21.692280Z",
     "iopub.status.idle": "2021-01-20T12:49:21.695396Z",
     "shell.execute_reply": "2021-01-20T12:49:21.694939Z"
    }
   },
   "outputs": [],
   "source": [
    "tool=MyTool()"
   ]
  },
  {
   "cell_type": "code",
   "execution_count": 10,
   "metadata": {
    "execution": {
     "iopub.execute_input": "2021-01-20T12:49:21.702590Z",
     "iopub.status.busy": "2021-01-20T12:49:21.701350Z",
     "iopub.status.idle": "2021-01-20T12:49:21.704492Z",
     "shell.execute_reply": "2021-01-20T12:49:21.703991Z"
    }
   },
   "outputs": [
    {
     "name": "stdout",
     "output_type": "stream",
     "text": [
      "do some things and stuff\n",
      "\n",
      "Options\n",
      "=======\n",
      "The options below are convenience aliases to configurable class-options,\n",
      "as listed in the \"Equivalent to\" description-line of the aliases.\n",
      "To see all configurable class-options for some <cmd>, use:\n",
      "    <cmd> --help-all\n",
      "\n",
      "--debug\n",
      "    Set log-level to debug, for the most verbose logging.\n",
      "    Equivalent to: [--Application.log_level=10]\n",
      "--show-config\n",
      "    Show the application's configuration (human-readable format)\n",
      "    Equivalent to: [--Application.show_config=True]\n",
      "--show-config-json\n",
      "    Show the application's configuration (json format)\n",
      "    Equivalent to: [--Application.show_config_json=True]\n",
      "-q\n",
      "    Disable console logging.\n",
      "    Equivalent to: [--Tool.quiet=True]\n",
      "--no-q\n",
      "    set Tool.quiet=False\n",
      "    Equivalent to: [--Tool.quiet=False]\n",
      "--infile=<Path>\n",
      "    input file name\n",
      "    Default: None\n",
      "    Equivalent to: [--AdvancedComponent.infile]\n",
      "--iterations=<Int>\n",
      "    Number of times to run\n",
      "    Default: 5\n",
      "    Equivalent to: [--MyTool.iterations]\n",
      "--config=<Path>\n",
      "    name of a configuration file with parameters to load in addition to command-\n",
      "    line parameters\n",
      "    Default: None\n",
      "    Equivalent to: [--Tool.config_file]\n",
      "--log-level=<Enum>\n",
      "    Set the log level by value or name.\n",
      "    Choices: any of [0, 10, 20, 30, 40, 50, 'DEBUG', 'INFO', 'WARN', 'ERROR', 'CRITICAL']\n",
      "    Default: 30\n",
      "    Equivalent to: [--Tool.log_level]\n",
      "--log-file=<Path>\n",
      "    Filename for the log\n",
      "    Default: None\n",
      "    Equivalent to: [--Tool.log_file]\n",
      "--log=<Path>\n",
      "    Filename for the log\n",
      "    Default: None\n",
      "    Equivalent to: [--Tool.log_file]\n",
      "-l=<Path>\n",
      "    Filename for the log\n",
      "    Default: None\n",
      "    Equivalent to: [--Tool.log_file]\n",
      "--log-file-level=<Enum>\n",
      "    Logging Level for File Logging\n",
      "    Choices: any of [0, 10, 20, 30, 40, 50, 'DEBUG', 'INFO', 'WARN', 'ERROR', 'CRITICAL']\n",
      "    Default: 'INFO'\n",
      "    Equivalent to: [--Tool.log_file_level]\n",
      "\n",
      "To see all available configurables, use `--help-all`.\n",
      "\n"
     ]
    }
   ],
   "source": [
    "tool.print_help()"
   ]
  },
  {
   "cell_type": "markdown",
   "metadata": {},
   "source": [
    "The following  is equivalant to the user typing `mytool --help-all`"
   ]
  },
  {
   "cell_type": "code",
   "execution_count": 11,
   "metadata": {
    "execution": {
     "iopub.execute_input": "2021-01-20T12:49:21.715481Z",
     "iopub.status.busy": "2021-01-20T12:49:21.714324Z",
     "iopub.status.idle": "2021-01-20T12:49:21.717720Z",
     "shell.execute_reply": "2021-01-20T12:49:21.717235Z"
    }
   },
   "outputs": [
    {
     "name": "stdout",
     "output_type": "stream",
     "text": [
      "do some things and stuff\n",
      "\n",
      "Options\n",
      "=======\n",
      "The options below are convenience aliases to configurable class-options,\n",
      "as listed in the \"Equivalent to\" description-line of the aliases.\n",
      "To see all configurable class-options for some <cmd>, use:\n",
      "    <cmd> --help-all\n",
      "\n",
      "--debug\n",
      "    Set log-level to debug, for the most verbose logging.\n",
      "    Equivalent to: [--Application.log_level=10]\n",
      "--show-config\n",
      "    Show the application's configuration (human-readable format)\n",
      "    Equivalent to: [--Application.show_config=True]\n",
      "--show-config-json\n",
      "    Show the application's configuration (json format)\n",
      "    Equivalent to: [--Application.show_config_json=True]\n",
      "-q\n",
      "    Disable console logging.\n",
      "    Equivalent to: [--Tool.quiet=True]\n",
      "--no-q\n",
      "    set Tool.quiet=False\n",
      "    Equivalent to: [--Tool.quiet=False]\n",
      "--infile=<Path>\n",
      "    input file name\n",
      "    Default: None\n",
      "    Equivalent to: [--AdvancedComponent.infile]\n",
      "--iterations=<Int>\n",
      "    Number of times to run\n",
      "    Default: 5\n",
      "    Equivalent to: [--MyTool.iterations]\n",
      "--config=<Path>\n",
      "    name of a configuration file with parameters to load in addition to command-\n",
      "    line parameters\n",
      "    Default: None\n",
      "    Equivalent to: [--Tool.config_file]\n",
      "--log-level=<Enum>\n",
      "    Set the log level by value or name.\n",
      "    Choices: any of [0, 10, 20, 30, 40, 50, 'DEBUG', 'INFO', 'WARN', 'ERROR', 'CRITICAL']\n",
      "    Default: 30\n",
      "    Equivalent to: [--Tool.log_level]\n",
      "--log-file=<Path>\n",
      "    Filename for the log\n",
      "    Default: None\n",
      "    Equivalent to: [--Tool.log_file]\n",
      "--log=<Path>\n",
      "    Filename for the log\n",
      "    Default: None\n",
      "    Equivalent to: [--Tool.log_file]\n",
      "-l=<Path>\n",
      "    Filename for the log\n",
      "    Default: None\n",
      "    Equivalent to: [--Tool.log_file]\n",
      "--log-file-level=<Enum>\n",
      "    Logging Level for File Logging\n",
      "    Choices: any of [0, 10, 20, 30, 40, 50, 'DEBUG', 'INFO', 'WARN', 'ERROR', 'CRITICAL']\n",
      "    Default: 'INFO'\n",
      "    Equivalent to: [--Tool.log_file_level]\n",
      "\n",
      "Class options\n",
      "=============\n",
      "The command-line option below sets the respective configurable class-parameter:\n",
      "    --Class.parameter=value\n",
      "This line is evaluated in Python, so simple expressions are allowed.\n",
      "For instance, to set `C.a=[0,1,2]`, you may type this:\n",
      "    --C.a='range(3)'\n",
      "\n",
      "Application(SingletonConfigurable) options\n",
      "------------------------------------------\n",
      "--Application.log_datefmt=<Unicode>\n",
      "    The date format used by logging formatters for %(asctime)s\n",
      "    Default: '%Y-%m-%d %H:%M:%S'\n",
      "--Application.log_format=<Unicode>\n",
      "    The Logging format template\n",
      "    Default: '[%(name)s]%(highlevel)s %(message)s'\n",
      "--Application.log_level=<Enum>\n",
      "    Set the log level by value or name.\n",
      "    Choices: any of [0, 10, 20, 30, 40, 50, 'DEBUG', 'INFO', 'WARN', 'ERROR', 'CRITICAL']\n",
      "    Default: 30\n",
      "--Application.show_config=<Bool>\n",
      "    Instead of starting the Application, dump configuration to stdout\n",
      "    Default: False\n",
      "--Application.show_config_json=<Bool>\n",
      "    Instead of starting the Application, dump configuration to stdout (as JSON)\n",
      "    Default: False\n",
      "\n",
      "Tool(Application) options\n",
      "-------------------------\n",
      "--Tool.config_file=<Path>\n",
      "    name of a configuration file with parameters to load in addition to command-\n",
      "    line parameters\n",
      "    Default: None\n",
      "--Tool.log_config=<key-1>=<value-1>...\n",
      "    Default: {'version': 1, 'disable_existing_loggers': False, 'formatters...\n",
      "--Tool.log_datefmt=<Unicode>\n",
      "    The date format used by logging formatters for %(asctime)s\n",
      "    Default: '%Y-%m-%d %H:%M:%S'\n",
      "--Tool.log_file=<Path>\n",
      "    Filename for the log\n",
      "    Default: None\n",
      "--Tool.log_file_level=<Enum>\n",
      "    Logging Level for File Logging\n",
      "    Choices: any of [0, 10, 20, 30, 40, 50, 'DEBUG', 'INFO', 'WARN', 'ERROR', 'CRITICAL']\n",
      "    Default: 'INFO'\n",
      "--Tool.log_format=<Unicode>\n",
      "    The Logging format template\n",
      "    Default: '[%(name)s]%(highlevel)s %(message)s'\n",
      "--Tool.log_level=<Enum>\n",
      "    Set the log level by value or name.\n",
      "    Choices: any of [0, 10, 20, 30, 40, 50, 'DEBUG', 'INFO', 'WARN', 'ERROR', 'CRITICAL']\n",
      "    Default: 30\n",
      "--Tool.provenance_log=<Path>\n",
      "    Default: None\n",
      "--Tool.quiet=<Bool>\n",
      "    Default: False\n",
      "--Tool.show_config=<Bool>\n",
      "    Instead of starting the Application, dump configuration to stdout\n",
      "    Default: False\n",
      "--Tool.show_config_json=<Bool>\n",
      "    Instead of starting the Application, dump configuration to stdout (as JSON)\n",
      "    Default: False\n",
      "\n",
      "MyTool(Tool) options\n",
      "--------------------\n",
      "--MyTool.config_file=<Path>\n",
      "    name of a configuration file with parameters to load in addition to command-\n",
      "    line parameters\n",
      "    Default: None\n",
      "--MyTool.iterations=<Int>\n",
      "    Number of times to run\n",
      "    Default: 5\n",
      "--MyTool.log_config=<key-1>=<value-1>...\n",
      "    Default: {'version': 1, 'disable_existing_loggers': False, 'formatters...\n",
      "--MyTool.log_datefmt=<Unicode>\n",
      "    The date format used by logging formatters for %(asctime)s\n",
      "    Default: '%Y-%m-%d %H:%M:%S'\n",
      "--MyTool.log_file=<Path>\n",
      "    Filename for the log\n",
      "    Default: None\n",
      "--MyTool.log_file_level=<Enum>\n",
      "    Logging Level for File Logging\n",
      "    Choices: any of [0, 10, 20, 30, 40, 50, 'DEBUG', 'INFO', 'WARN', 'ERROR', 'CRITICAL']\n",
      "    Default: 'INFO'\n",
      "--MyTool.log_format=<Unicode>\n",
      "    The Logging format template\n",
      "    Default: '[%(name)s]%(highlevel)s %(message)s'\n",
      "--MyTool.log_level=<Enum>\n",
      "    Set the log level by value or name.\n",
      "    Choices: any of [0, 10, 20, 30, 40, 50, 'DEBUG', 'INFO', 'WARN', 'ERROR', 'CRITICAL']\n",
      "    Default: 30\n",
      "--MyTool.provenance_log=<Path>\n",
      "    Default: None\n",
      "--MyTool.quiet=<Bool>\n",
      "    Default: False\n",
      "--MyTool.show_config=<Bool>\n",
      "    Instead of starting the Application, dump configuration to stdout\n",
      "    Default: False\n",
      "--MyTool.show_config_json=<Bool>\n",
      "    Instead of starting the Application, dump configuration to stdout (as JSON)\n",
      "    Default: False\n",
      "\n",
      "MyComponent(Component) options\n",
      "------------------------------\n",
      "--MyComponent.value=<Int>\n",
      "    Value to use\n",
      "    Default: -1\n",
      "\n",
      "AdvancedComponent(Component) options\n",
      "------------------------------------\n",
      "--AdvancedComponent.infile=<Path>\n",
      "    input file name\n",
      "    Default: None\n",
      "--AdvancedComponent.outfile=<Path>\n",
      "    output file name\n",
      "    Default: None\n",
      "--AdvancedComponent.value1=<Int>\n",
      "    Value to use\n",
      "    Default: -1\n",
      "\n",
      "SecondaryMyComponent(MyComponent) options\n",
      "-----------------------------------------\n",
      "--SecondaryMyComponent.value=<Int>\n",
      "    Value to use\n",
      "    Default: -1\n",
      "\n",
      "TelescopeWiseComponent(TelescopeComponent) options\n",
      "--------------------------------------------------\n",
      "--TelescopeWiseComponent.param=<floattelescopeparameter-item-1>...\n",
      "    Something configurable with telescope patterns\n",
      "    Default: [('type', '*', 5.0)]\n",
      "\n"
     ]
    }
   ],
   "source": [
    "tool.print_help(classes=True)"
   ]
  },
  {
   "cell_type": "markdown",
   "metadata": {},
   "source": [
    "## Run the tool\n",
    "\n",
    "here we pass in argv since it is a Notebook, but if argv is not specified it's read from `sys.argv`, so the following is the same as running:\n",
    "\n",
    "```sh\n",
    "mytool --log_level=INFO --infile gamma_test.simtel.gz --iterations=3\n",
    "```\n",
    "\n",
    "As Tools are intended to be exectutables, they are raising `SystemExit` on exit.\n",
    "Here, we use them to demonstrate how it would work, so we catch the `SystemExit`."
   ]
  },
  {
   "cell_type": "code",
   "execution_count": 12,
   "metadata": {
    "execution": {
     "iopub.execute_input": "2021-01-20T12:49:21.726351Z",
     "iopub.status.busy": "2021-01-20T12:49:21.725299Z",
     "iopub.status.idle": "2021-01-20T12:49:22.254622Z",
     "shell.execute_reply": "2021-01-20T12:49:22.253116Z"
    },
    "scrolled": false
   },
   "outputs": [
    {
     "name": "stderr",
     "output_type": "stream",
     "text": [
      "2021-01-20 12:49:22,241 \u001b[1;33mWARNING\u001b[0m [ctapipe.mytool] (<ipython-input-1-d7fc398e7046>.finish): Shutting down.\n"
     ]
    }
   ],
   "source": [
    "try:\n",
    "    tool.run(argv=['--infile',  str(GAMMA_FILE)])\n",
    "except SystemExit as e:\n",
    "    assert e.code == 0, f'Tool returned with error status {e}'"
   ]
  },
  {
   "cell_type": "code",
   "execution_count": 13,
   "metadata": {
    "execution": {
     "iopub.execute_input": "2021-01-20T12:49:22.262685Z",
     "iopub.status.busy": "2021-01-20T12:49:22.259915Z",
     "iopub.status.idle": "2021-01-20T12:49:22.598363Z",
     "shell.execute_reply": "2021-01-20T12:49:22.597433Z"
    }
   },
   "outputs": [
    {
     "name": "stderr",
     "output_type": "stream",
     "text": [
      "/usr/local/lib/python3.8/site-packages/traitlets/config/application.py:204: RuntimeWarning: No Handler found on <Logger ctapipe.mytool (WARNING)>, setting log_format will have no effect\n",
      "  warnings.warn(\n"
     ]
    },
    {
     "name": "stderr",
     "output_type": "stream",
     "text": [
      "2021-01-20 12:49:22,269 \u001b[1;32mINFO\u001b[0m [ctapipe.mytool] (tool.initialize): ctapipe version 0.1.dev1+gf1cd0bb\n"
     ]
    },
    {
     "name": "stderr",
     "output_type": "stream",
     "text": [
      "2021-01-20 12:49:22,269 \u001b[1;32mINFO\u001b[0m [ctapipe.mytool] (tool.run): Starting: mytool\n"
     ]
    },
    {
     "name": "stderr",
     "output_type": "stream",
     "text": [
      "2021-01-20 12:49:22,283 \u001b[1;32mINFO\u001b[0m [ctapipe.mytool] (<ipython-input-1-d7fc398e7046>.start): Performing 3 iterations...\n"
     ]
    },
    {
     "name": "stderr",
     "output_type": "stream",
     "text": [
      "2021-01-20 12:49:22,284 \u001b[1;32mINFO\u001b[0m [ctapipe.mytool] (<ipython-input-1-d7fc398e7046>.start): ITERATION 0\n"
     ]
    },
    {
     "name": "stderr",
     "output_type": "stream",
     "text": [
      "2021-01-20 12:49:22,385 \u001b[1;32mINFO\u001b[0m [ctapipe.mytool] (<ipython-input-1-d7fc398e7046>.start): ITERATION 1\n"
     ]
    },
    {
     "name": "stderr",
     "output_type": "stream",
     "text": [
      "2021-01-20 12:49:22,486 \u001b[1;32mINFO\u001b[0m [ctapipe.mytool] (<ipython-input-1-d7fc398e7046>.start): ITERATION 2\n"
     ]
    },
    {
     "name": "stderr",
     "output_type": "stream",
     "text": [
      "2021-01-20 12:49:22,587 \u001b[1;33mWARNING\u001b[0m [ctapipe.mytool] (<ipython-input-1-d7fc398e7046>.finish): Shutting down.\n"
     ]
    },
    {
     "name": "stderr",
     "output_type": "stream",
     "text": [
      "2021-01-20 12:49:22,588 \u001b[1;32mINFO\u001b[0m [ctapipe.mytool] (tool.run): Finished: mytool\n"
     ]
    },
    {
     "name": "stderr",
     "output_type": "stream",
     "text": [
      "2021-01-20 12:49:22,591 \u001b[1;32mINFO\u001b[0m [ctapipe.mytool] (tool.write_provenance): Output: \n"
     ]
    },
    {
     "name": "stderr",
     "output_type": "stream",
     "text": [
      "2021-01-20 12:49:22,592 \u001b[1;32mINFO\u001b[0m [ctapipe.mytool] (tool.write_provenance): Output: \n"
     ]
    }
   ],
   "source": [
    "tool.log_format = \"%(asctime)s : %(levelname)s [%(name)s %(funcName)s] %(message)s\" \n",
    "\n",
    "\n",
    "try:\n",
    "    tool.run(argv=['--log-level','INFO','--infile', str(GAMMA_FILE), '--iterations','3'])\n",
    "except SystemExit as e:\n",
    "    assert e.code == 0, f'Tool returned with error status {e}'"
   ]
  },
  {
   "cell_type": "markdown",
   "metadata": {},
   "source": [
    "here we change the log-level to DEBUG:"
   ]
  },
  {
   "cell_type": "code",
   "execution_count": 14,
   "metadata": {
    "execution": {
     "iopub.execute_input": "2021-01-20T12:49:22.607759Z",
     "iopub.status.busy": "2021-01-20T12:49:22.604388Z",
     "iopub.status.idle": "2021-01-20T12:49:22.965934Z",
     "shell.execute_reply": "2021-01-20T12:49:22.966396Z"
    },
    "scrolled": false
   },
   "outputs": [
    {
     "name": "stderr",
     "output_type": "stream",
     "text": [
      "2021-01-20 12:49:22,608 \u001b[1;34mDEBUG\u001b[0m [ctapipe.mytool] (application._config_changed): Config changed: {'AdvancedComponent': {'infile': '/github/home/.cache/ctapipe/gamma_test.simtel.gz'}, 'attach_subarray': <LazyConfigValue {}>, 'MyTool': {'log_level': '\u001b[1;34mDEBUG\u001b[0m', 'iterations': 3}}\n"
     ]
    },
    {
     "name": "stderr",
     "output_type": "stream",
     "text": [
      "2021-01-20 12:49:22,611 \u001b[1;32mINFO\u001b[0m [ctapipe.mytool] (tool.initialize): ctapipe version 0.1.dev1+gf1cd0bb\n"
     ]
    },
    {
     "name": "stderr",
     "output_type": "stream",
     "text": [
      "2021-01-20 12:49:22,612 \u001b[1;32mINFO\u001b[0m [ctapipe.mytool] (tool.run): Starting: mytool\n"
     ]
    },
    {
     "name": "stderr",
     "output_type": "stream",
     "text": [
      "2021-01-20 12:49:22,621 \u001b[1;34mDEBUG\u001b[0m [ctapipe.core.provenance] (provenance.start_activity): started activity: mytool\n"
     ]
    },
    {
     "name": "stderr",
     "output_type": "stream",
     "text": [
      "2021-01-20 12:49:22,624 \u001b[1;34mDEBUG\u001b[0m [ctapipe.core.traits] (traits.attach_subarray): argument '*' matched: ['LST_LST_LSTCam', 'MST_MST_NectarCam']\n"
     ]
    },
    {
     "name": "stderr",
     "output_type": "stream",
     "text": [
      "2021-01-20 12:49:22,627 \u001b[1;34mDEBUG\u001b[0m [ctapipe.mytool] (tool.run): CONFIG: {'MyTool': {'config_file': None, 'iterations': 3, 'log_config': {'version': 1, 'disable_existing_loggers': False, 'formatters': {'file': {'()': <class 'ctapipe.core.logging.PlainFormatter'>, 'fmt': '%(asctime)s %(levelname)s [%(name)s] (%(module)s.%(funcName)s): %(message)s'}, 'console': {'()': <class 'ctapipe.core.logging.ColoredFormatter'>, 'fmt': '%(asctime)s %(levelname)s [%(name)s] (%(module)s.%(funcName)s): %(message)s'}}, 'handlers': {'ctapipe-console': {'class': 'logging.StreamHandler', 'formatter': 'console', 'stream': 'ext://sys.stderr', 'level': 10}, 'console': {'class': 'logging.StreamHandler', 'formatter': 'console', 'stream': 'ext://sys.stderr', 'level': 'NOTSET'}}, 'loggers': {'ctapipe': {'level': 10, 'handlers': ['ctapipe-console'], 'propagate': False}}}, 'log_datefmt': '%Y-%m-%d %H:%M:%S', 'log_file': None, 'log_file_level': 'INFO', 'log_format': '%(asctime)s : %(levelname)s [%(name)s %(funcName)s] %(message)s', 'log_level': 10, 'provenance_log': PosixPath('/github/workspace/docs/examples/mytool.provenance.log'), 'quiet': False, 'show_config': False, 'show_config_json': False, 'MyComponent': {'value': -1}, 'SecondaryMyComponent': {'value': -1}, 'TelescopeWiseComponent': {'param': [('type', '*', 5.0)]}, 'AdvancedComponent': {'infile': PosixPath('/github/home/.cache/ctapipe/gamma_test.simtel.gz'), 'outfile': None, 'value1': -1, 'MyComponent': {'value': -1}}}}\n"
     ]
    },
    {
     "name": "stderr",
     "output_type": "stream",
     "text": [
      "2021-01-20 12:49:22,628 \u001b[1;32mINFO\u001b[0m [ctapipe.mytool] (<ipython-input-1-d7fc398e7046>.start): Performing 3 iterations...\n"
     ]
    },
    {
     "name": "stderr",
     "output_type": "stream",
     "text": [
      "2021-01-20 12:49:22,629 \u001b[1;32mINFO\u001b[0m [ctapipe.mytool] (<ipython-input-1-d7fc398e7046>.start): ITERATION 0\n"
     ]
    },
    {
     "name": "stderr",
     "output_type": "stream",
     "text": [
      "2021-01-20 12:49:22,631 \u001b[1;34mDEBUG\u001b[0m [ctapipe.mytool.MyComponent] (<ipython-input-1-a087b1827cdf>.do_thing): Did thing\n"
     ]
    },
    {
     "name": "stderr",
     "output_type": "stream",
     "text": [
      "2021-01-20 12:49:22,632 \u001b[1;34mDEBUG\u001b[0m [ctapipe.mytool.SecondaryMyComponent] (<ipython-input-1-a087b1827cdf>.do_thing): Did thing\n"
     ]
    },
    {
     "name": "stderr",
     "output_type": "stream",
     "text": [
      "2021-01-20 12:49:22,734 \u001b[1;32mINFO\u001b[0m [ctapipe.mytool] (<ipython-input-1-d7fc398e7046>.start): ITERATION 1\n"
     ]
    },
    {
     "name": "stderr",
     "output_type": "stream",
     "text": [
      "2021-01-20 12:49:22,736 \u001b[1;34mDEBUG\u001b[0m [ctapipe.mytool.MyComponent] (<ipython-input-1-a087b1827cdf>.do_thing): Did thing\n"
     ]
    },
    {
     "name": "stderr",
     "output_type": "stream",
     "text": [
      "2021-01-20 12:49:22,737 \u001b[1;34mDEBUG\u001b[0m [ctapipe.mytool.SecondaryMyComponent] (<ipython-input-1-a087b1827cdf>.do_thing): Did thing\n"
     ]
    },
    {
     "name": "stderr",
     "output_type": "stream",
     "text": [
      "2021-01-20 12:49:22,840 \u001b[1;32mINFO\u001b[0m [ctapipe.mytool] (<ipython-input-1-d7fc398e7046>.start): ITERATION 2\n"
     ]
    },
    {
     "name": "stderr",
     "output_type": "stream",
     "text": [
      "2021-01-20 12:49:22,841 \u001b[1;34mDEBUG\u001b[0m [ctapipe.mytool.MyComponent] (<ipython-input-1-a087b1827cdf>.do_thing): Did thing\n"
     ]
    },
    {
     "name": "stderr",
     "output_type": "stream",
     "text": [
      "2021-01-20 12:49:22,843 \u001b[1;34mDEBUG\u001b[0m [ctapipe.mytool.SecondaryMyComponent] (<ipython-input-1-a087b1827cdf>.do_thing): Did thing\n"
     ]
    },
    {
     "name": "stderr",
     "output_type": "stream",
     "text": [
      "2021-01-20 12:49:22,946 \u001b[1;33mWARNING\u001b[0m [ctapipe.mytool] (<ipython-input-1-d7fc398e7046>.finish): Shutting down.\n"
     ]
    },
    {
     "name": "stderr",
     "output_type": "stream",
     "text": [
      "2021-01-20 12:49:22,947 \u001b[1;32mINFO\u001b[0m [ctapipe.mytool] (tool.run): Finished: mytool\n"
     ]
    },
    {
     "name": "stderr",
     "output_type": "stream",
     "text": [
      "2021-01-20 12:49:22,950 \u001b[1;34mDEBUG\u001b[0m [ctapipe.core.provenance] (provenance.finish_activity): finished activity: mytool\n"
     ]
    },
    {
     "name": "stderr",
     "output_type": "stream",
     "text": [
      "2021-01-20 12:49:22,953 \u001b[1;32mINFO\u001b[0m [ctapipe.mytool] (tool.write_provenance): Output: \n"
     ]
    },
    {
     "name": "stderr",
     "output_type": "stream",
     "text": [
      "2021-01-20 12:49:22,954 \u001b[1;32mINFO\u001b[0m [ctapipe.mytool] (tool.write_provenance): Output: \n"
     ]
    },
    {
     "name": "stderr",
     "output_type": "stream",
     "text": [
      "2021-01-20 12:49:22,955 \u001b[1;32mINFO\u001b[0m [ctapipe.mytool] (tool.write_provenance): Output: \n"
     ]
    },
    {
     "name": "stderr",
     "output_type": "stream",
     "text": [
      "2021-01-20 12:49:22,957 \u001b[1;34mDEBUG\u001b[0m [ctapipe.mytool] (tool.write_provenance): PROVENANCE: '[\n",
      "   {\n",
      "      \"activity_name\": \"mytool\",\n",
      "      \"activity_uuid\": \"c2220cdd-64fa-453b-aa62-371f8f2b492f\",\n",
      "      \"start\": {\n",
      "         \"time_utc\": \"2021-01-20T12:49:21.726\"\n",
      "      },\n",
      "      \"stop\": {\n",
      "         \"time_utc\": \"2021-01-20T12:49:22.243\"\n",
      "      },\n",
      "      \"system\": {\n",
      "         \"ctapipe_version\": \"0.1.dev1+gf1cd0bb\",\n",
      "         \"ctapipe_resources_version\": \"not installed\",\n",
      "         \"eventio_version\": \"1.4.2\",\n",
      "         \"ctapipe_svc_path\": null,\n",
      "         \"executable\": \"/usr/local/bin/python3\",\n",
      "         \"platform\": {\n",
      "            \"architecture_bits\": \"64bit\",\n",
      "            \"architecture_linkage\": \"\",\n",
      "            \"machine\": \"x86_64\",\n",
      "            \"processor\": \"\",\n",
      "            \"node\": \"6ca3fe3bdc1b\",\n",
      "            \"version\": \"#38~18.04.1-Ubuntu SMP Wed Jan 6 18:26:30 UTC 2021\",\n",
      "            \"system\": \"Linux\",\n",
      "            \"release\": \"5.4.0-1036-azure\",\n",
      "            \"libcver\": [\n",
      "               \"glibc\",\n",
      "               \"2.28\"\n",
      "            ],\n",
      "            \"num_cpus\": 2,\n",
      "            \"boot_time\": \"2021-01-20T12:44:08.000\"\n",
      "         },\n",
      "         \"python\": {\n",
      "            \"version_string\": \"3.8.2 (default, Feb 26 2020, 15:09:34) \\n[GCC 8.3.0]\",\n",
      "            \"version\": [\n",
      "               \"3\",\n",
      "               \"8\",\n",
      "               \"2\"\n",
      "            ],\n",
      "            \"compiler\": \"GCC 8.3.0\",\n",
      "            \"implementation\": \"CPython\"\n",
      "         },\n",
      "         \"environment\": {\n",
      "            \"CONDA_DEFAULT_ENV\": null,\n",
      "            \"CONDA_PREFIX\": null,\n",
      "            \"CONDA_PYTHON_EXE\": null,\n",
      "            \"CONDA_EXE\": null,\n",
      "            \"CONDA_PROMPT_MODIFIER\": null,\n",
      "            \"CONDA_SHLVL\": null,\n",
      "            \"PATH\": \"/usr/local/bin:/usr/local/sbin:/usr/local/bin:/usr/sbin:/usr/bin:/sbin:/bin\",\n",
      "            \"LD_LIBRARY_PATH\": null,\n",
      "            \"DYLD_LIBRARY_PATH\": null,\n",
      "            \"USER\": null,\n",
      "            \"HOME\": \"/github/home\",\n",
      "            \"SHELL\": null\n",
      "         },\n",
      "         \"arguments\": [\n",
      "            \"/usr/local/lib/python3.8/site-packages/ipykernel_launcher.py\",\n",
      "            \"-f\",\n",
      "            \"/tmp/tmppi_g3_18.json\",\n",
      "            \"--HistoryManager.hist_file=:memory:\"\n",
      "         ],\n",
      "         \"start_time_utc\": \"2021-01-20T12:49:21.734\"\n",
      "      },\n",
      "      \"input\": [],\n",
      "      \"output\": [],\n",
      "      \"config\": {\n",
      "         \"MyTool\": {\n",
      "            \"config_file\": null,\n",
      "            \"iterations\": 5,\n",
      "            \"log_config\": {\n",
      "               \"version\": 1,\n",
      "               \"disable_existing_loggers\": false,\n",
      "               \"formatters\": {\n",
      "                  \"file\": {\n",
      "                     \"()\": null,\n",
      "                     \"fmt\": \"%(asctime)s %(levelname)s [%(name)s] (%(module)s.%(funcName)s): %(message)s\"\n",
      "                  },\n",
      "                  \"console\": {\n",
      "                     \"()\": null,\n",
      "                     \"fmt\": \"%(asctime)s %(levelname)s [%(name)s] (%(module)s.%(funcName)s): %(message)s\"\n",
      "                  }\n",
      "               },\n",
      "               \"handlers\": {\n",
      "                  \"ctapipe-console\": {\n",
      "                     \"class\": \"logging.StreamHandler\",\n",
      "                     \"formatter\": \"console\",\n",
      "                     \"stream\": \"ext://sys.stderr\",\n",
      "                     \"level\": 10\n",
      "                  },\n",
      "                  \"console\": {\n",
      "                     \"class\": \"logging.StreamHandler\",\n",
      "                     \"formatter\": \"console\",\n",
      "                     \"stream\": \"ext://sys.stderr\",\n",
      "                     \"level\": \"NOTSET\"\n",
      "                  }\n",
      "               },\n",
      "               \"loggers\": {\n",
      "                  \"ctapipe\": {\n",
      "                     \"level\": 10,\n",
      "                     \"handlers\": [\n",
      "                        \"ctapipe-console\"\n",
      "                     ],\n",
      "                     \"propagate\": false\n",
      "                  }\n",
      "               }\n",
      "            },\n",
      "            \"log_datefmt\": \"%Y-%m-%d %H:%M:%S\",\n",
      "            \"log_file\": null,\n",
      "            \"log_file_level\": \"INFO\",\n",
      "            \"log_format\": \"[%(name)s]%(highlevel)s %(message)s\",\n",
      "            \"log_level\": 30,\n",
      "            \"provenance_log\": \"/github/workspace/docs/examples/mytool.provenance.log\",\n",
      "            \"quiet\": false,\n",
      "            \"show_config\": false,\n",
      "            \"show_config_json\": false,\n",
      "            \"MyComponent\": {\n",
      "               \"value\": -1\n",
      "            },\n",
      "            \"SecondaryMyComponent\": {\n",
      "               \"value\": -1\n",
      "            },\n",
      "            \"TelescopeWiseComponent\": {\n",
      "               \"param\": [\n",
      "                  [\n",
      "                     \"type\",\n",
      "                     \"*\",\n",
      "                     5.0\n",
      "                  ]\n",
      "               ]\n",
      "            },\n",
      "            \"AdvancedComponent\": {\n",
      "               \"infile\": \"/github/home/.cache/ctapipe/gamma_test.simtel.gz\",\n",
      "               \"outfile\": null,\n",
      "               \"value1\": -1,\n",
      "               \"MyComponent\": {\n",
      "                  \"value\": -1\n",
      "               }\n",
      "            }\n",
      "         }\n",
      "      },\n",
      "      \"status\": \"completed\",\n",
      "      \"duration_min\": 0.008616666666583228\n",
      "   },\n",
      "   {\n",
      "      \"activity_name\": \"mytool\",\n",
      "      \"activity_uuid\": \"44811c99-1ac0-41df-970b-af6b7ac2b020\",\n",
      "      \"start\": {\n",
      "         \"time_utc\": \"2021-01-20T12:49:22.272\"\n",
      "      },\n",
      "      \"stop\": {\n",
      "         \"time_utc\": \"2021-01-20T12:49:22.589\"\n",
      "      },\n",
      "      \"system\": {\n",
      "         \"ctapipe_version\": \"0.1.dev1+gf1cd0bb\",\n",
      "         \"ctapipe_resources_version\": \"not installed\",\n",
      "         \"eventio_version\": \"1.4.2\",\n",
      "         \"ctapipe_svc_path\": null,\n",
      "         \"executable\": \"/usr/local/bin/python3\",\n",
      "         \"platform\": {\n",
      "            \"architecture_bits\": \"64bit\",\n",
      "            \"architecture_linkage\": \"\",\n",
      "            \"machine\": \"x86_64\",\n",
      "            \"processor\": \"\",\n",
      "            \"node\": \"6ca3fe3bdc1b\",\n",
      "            \"version\": \"#38~18.04.1-Ubuntu SMP Wed Jan 6 18:26:30 UTC 2021\",\n",
      "            \"system\": \"Linux\",\n",
      "            \"release\": \"5.4.0-1036-azure\",\n",
      "            \"libcver\": [\n",
      "               \"glibc\",\n",
      "               \"2.28\"\n",
      "            ],\n",
      "            \"num_cpus\": 2,\n",
      "            \"boot_time\": \"2021-01-20T12:44:08.000\"\n",
      "         },\n",
      "         \"python\": {\n",
      "            \"version_string\": \"3.8.2 (default, Feb 26 2020, 15:09:34) \\n[GCC 8.3.0]\",\n",
      "            \"version\": [\n",
      "               \"3\",\n",
      "               \"8\",\n",
      "               \"2\"\n",
      "            ],\n",
      "            \"compiler\": \"GCC 8.3.0\",\n",
      "            \"implementation\": \"CPython\"\n",
      "         },\n",
      "         \"environment\": {\n",
      "            \"CONDA_DEFAULT_ENV\": null,\n",
      "            \"CONDA_PREFIX\": null,\n",
      "            \"CONDA_PYTHON_EXE\": null,\n",
      "            \"CONDA_EXE\": null,\n",
      "            \"CONDA_PROMPT_MODIFIER\": null,\n",
      "            \"CONDA_SHLVL\": null,\n",
      "            \"PATH\": \"/usr/local/bin:/usr/local/sbin:/usr/local/bin:/usr/sbin:/usr/bin:/sbin:/bin\",\n",
      "            \"LD_LIBRARY_PATH\": null,\n",
      "            \"DYLD_LIBRARY_PATH\": null,\n",
      "            \"USER\": null,\n",
      "            \"HOME\": \"/github/home\",\n",
      "            \"SHELL\": null\n",
      "         },\n",
      "         \"arguments\": [\n",
      "            \"/usr/local/lib/python3.8/site-packages/ipykernel_launcher.py\",\n",
      "            \"-f\",\n",
      "            \"/tmp/tmppi_g3_18.json\",\n",
      "            \"--HistoryManager.hist_file=:memory:\"\n",
      "         ],\n",
      "         \"start_time_utc\": \"2021-01-20T12:49:22.279\"\n",
      "      },\n",
      "      \"input\": [],\n",
      "      \"output\": [],\n",
      "      \"config\": {\n",
      "         \"MyTool\": {\n",
      "            \"config_file\": null,\n",
      "            \"iterations\": 3,\n",
      "            \"log_config\": {\n",
      "               \"version\": 1,\n",
      "               \"disable_existing_loggers\": false,\n",
      "               \"formatters\": {\n",
      "                  \"file\": {\n",
      "                     \"()\": null,\n",
      "                     \"fmt\": \"%(asctime)s %(levelname)s [%(name)s] (%(module)s.%(funcName)s): %(message)s\"\n",
      "                  },\n",
      "                  \"console\": {\n",
      "                     \"()\": null,\n",
      "                     \"fmt\": \"%(asctime)s %(levelname)s [%(name)s] (%(module)s.%(funcName)s): %(message)s\"\n",
      "                  }\n",
      "               },\n",
      "               \"handlers\": {\n",
      "                  \"ctapipe-console\": {\n",
      "                     \"class\": \"logging.StreamHandler\",\n",
      "                     \"formatter\": \"console\",\n",
      "                     \"stream\": \"ext://sys.stderr\",\n",
      "                     \"level\": 10\n",
      "                  },\n",
      "                  \"console\": {\n",
      "                     \"class\": \"logging.StreamHandler\",\n",
      "                     \"formatter\": \"console\",\n",
      "                     \"stream\": \"ext://sys.stderr\",\n",
      "                     \"level\": \"NOTSET\"\n",
      "                  }\n",
      "               },\n",
      "               \"loggers\": {\n",
      "                  \"ctapipe\": {\n",
      "                     \"level\": 10,\n",
      "                     \"handlers\": [\n",
      "                        \"ctapipe-console\"\n",
      "                     ],\n",
      "                     \"propagate\": false\n",
      "                  }\n",
      "               }\n",
      "            },\n",
      "            \"log_datefmt\": \"%Y-%m-%d %H:%M:%S\",\n",
      "            \"log_file\": null,\n",
      "            \"log_file_level\": \"INFO\",\n",
      "            \"log_format\": \"%(asctime)s : %(levelname)s [%(name)s %(funcName)s] %(message)s\",\n",
      "            \"log_level\": 20,\n",
      "            \"provenance_log\": \"/github/workspace/docs/examples/mytool.provenance.log\",\n",
      "            \"quiet\": false,\n",
      "            \"show_config\": false,\n",
      "            \"show_config_json\": false,\n",
      "            \"MyComponent\": {\n",
      "               \"value\": -1\n",
      "            },\n",
      "            \"SecondaryMyComponent\": {\n",
      "               \"value\": -1\n",
      "            },\n",
      "            \"TelescopeWiseComponent\": {\n",
      "               \"param\": [\n",
      "                  [\n",
      "                     \"type\",\n",
      "                     \"*\",\n",
      "                     5.0\n",
      "                  ]\n",
      "               ]\n",
      "            },\n",
      "            \"AdvancedComponent\": {\n",
      "               \"infile\": \"/github/home/.cache/ctapipe/gamma_test.simtel.gz\",\n",
      "               \"outfile\": null,\n",
      "               \"value1\": -1,\n",
      "               \"MyComponent\": {\n",
      "                  \"value\": -1\n",
      "               }\n",
      "            }\n",
      "         }\n",
      "      },\n",
      "      \"status\": \"completed\",\n",
      "      \"duration_min\": 0.0052833333333879295\n",
      "   },\n",
      "   {\n",
      "      \"activity_name\": \"mytool\",\n",
      "      \"activity_uuid\": \"23bb3cbd-63cf-4388-8a7b-56a31646d3e4\",\n",
      "      \"start\": {\n",
      "         \"time_utc\": \"2021-01-20T12:49:22.614\"\n",
      "      },\n",
      "      \"stop\": {\n",
      "         \"time_utc\": \"2021-01-20T12:49:22.949\"\n",
      "      },\n",
      "      \"system\": {\n",
      "         \"ctapipe_version\": \"0.1.dev1+gf1cd0bb\",\n",
      "         \"ctapipe_resources_version\": \"not installed\",\n",
      "         \"eventio_version\": \"1.4.2\",\n",
      "         \"ctapipe_svc_path\": null,\n",
      "         \"executable\": \"/usr/local/bin/python3\",\n",
      "         \"platform\": {\n",
      "            \"architecture_bits\": \"64bit\",\n",
      "            \"architecture_linkage\": \"\",\n",
      "            \"machine\": \"x86_64\",\n",
      "            \"processor\": \"\",\n",
      "            \"node\": \"6ca3fe3bdc1b\",\n",
      "            \"version\": \"#38~18.04.1-Ubuntu SMP Wed Jan 6 18:26:30 UTC 2021\",\n",
      "            \"system\": \"Linux\",\n",
      "            \"release\": \"5.4.0-1036-azure\",\n",
      "            \"libcver\": [\n",
      "               \"glibc\",\n",
      "               \"2.28\"\n",
      "            ],\n",
      "            \"num_cpus\": 2,\n",
      "            \"boot_time\": \"2021-01-20T12:44:08.000\"\n",
      "         },\n",
      "         \"python\": {\n",
      "            \"version_string\": \"3.8.2 (default, Feb 26 2020, 15:09:34) \\n[GCC 8.3.0]\",\n",
      "            \"version\": [\n",
      "               \"3\",\n",
      "               \"8\",\n",
      "               \"2\"\n",
      "            ],\n",
      "            \"compiler\": \"GCC 8.3.0\",\n",
      "            \"implementation\": \"CPython\"\n",
      "         },\n",
      "         \"environment\": {\n",
      "            \"CONDA_DEFAULT_ENV\": null,\n",
      "            \"CONDA_PREFIX\": null,\n",
      "            \"CONDA_PYTHON_EXE\": null,\n",
      "            \"CONDA_EXE\": null,\n",
      "            \"CONDA_PROMPT_MODIFIER\": null,\n",
      "            \"CONDA_SHLVL\": null,\n",
      "            \"PATH\": \"/usr/local/bin:/usr/local/sbin:/usr/local/bin:/usr/sbin:/usr/bin:/sbin:/bin\",\n",
      "            \"LD_LIBRARY_PATH\": null,\n",
      "            \"DYLD_LIBRARY_PATH\": null,\n",
      "            \"USER\": null,\n",
      "            \"HOME\": \"/github/home\",\n",
      "            \"SHELL\": null\n",
      "         },\n",
      "         \"arguments\": [\n",
      "            \"/usr/local/lib/python3.8/site-packages/ipykernel_launcher.py\",\n",
      "            \"-f\",\n",
      "            \"/tmp/tmppi_g3_18.json\",\n",
      "            \"--HistoryManager.hist_file=:memory:\"\n",
      "         ],\n",
      "         \"start_time_utc\": \"2021-01-20T12:49:22.622\"\n",
      "      },\n",
      "      \"input\": [],\n",
      "      \"output\": [],\n",
      "      \"config\": {\n",
      "         \"MyTool\": {\n",
      "            \"config_file\": null,\n",
      "            \"iterations\": 3,\n",
      "            \"log_config\": {\n",
      "               \"version\": 1,\n",
      "               \"disable_existing_loggers\": false,\n",
      "               \"formatters\": {\n",
      "                  \"file\": {\n",
      "                     \"()\": null,\n",
      "                     \"fmt\": \"%(asctime)s %(levelname)s [%(name)s] (%(module)s.%(funcName)s): %(message)s\"\n",
      "                  },\n",
      "                  \"console\": {\n",
      "                     \"()\": null,\n",
      "                     \"fmt\": \"%(asctime)s %(levelname)s [%(name)s] (%(module)s.%(funcName)s): %(message)s\"\n",
      "                  }\n",
      "               },\n",
      "               \"handlers\": {\n",
      "                  \"ctapipe-console\": {\n",
      "                     \"class\": \"logging.StreamHandler\",\n",
      "                     \"formatter\": \"console\",\n",
      "                     \"stream\": \"ext://sys.stderr\",\n",
      "                     \"level\": 10\n",
      "                  },\n",
      "                  \"console\": {\n",
      "                     \"class\": \"logging.StreamHandler\",\n",
      "                     \"formatter\": \"console\",\n",
      "                     \"stream\": \"ext://sys.stderr\",\n",
      "                     \"level\": \"NOTSET\"\n",
      "                  }\n",
      "               },\n",
      "               \"loggers\": {\n",
      "                  \"ctapipe\": {\n",
      "                     \"level\": 10,\n",
      "                     \"handlers\": [\n",
      "                        \"ctapipe-console\"\n",
      "                     ],\n",
      "                     \"propagate\": false\n",
      "                  }\n",
      "               }\n",
      "            },\n",
      "            \"log_datefmt\": \"%Y-%m-%d %H:%M:%S\",\n",
      "            \"log_file\": null,\n",
      "            \"log_file_level\": \"INFO\",\n",
      "            \"log_format\": \"%(asctime)s : %(levelname)s [%(name)s %(funcName)s] %(message)s\",\n",
      "            \"log_level\": 10,\n",
      "            \"provenance_log\": \"/github/workspace/docs/examples/mytool.provenance.log\",\n",
      "            \"quiet\": false,\n",
      "            \"show_config\": false,\n",
      "            \"show_config_json\": false,\n",
      "            \"MyComponent\": {\n",
      "               \"value\": -1\n",
      "            },\n",
      "            \"SecondaryMyComponent\": {\n",
      "               \"value\": -1\n",
      "            },\n",
      "            \"TelescopeWiseComponent\": {\n",
      "               \"param\": [\n",
      "                  [\n",
      "                     \"type\",\n",
      "                     \"*\",\n",
      "                     5.0\n",
      "                  ]\n",
      "               ]\n",
      "            },\n",
      "            \"AdvancedComponent\": {\n",
      "               \"infile\": \"/github/home/.cache/ctapipe/gamma_test.simtel.gz\",\n",
      "               \"outfile\": null,\n",
      "               \"value1\": -1,\n",
      "               \"MyComponent\": {\n",
      "                  \"value\": -1\n",
      "               }\n",
      "            }\n",
      "         }\n",
      "      },\n",
      "      \"status\": \"completed\",\n",
      "      \"duration_min\": 0.005583333333269991\n",
      "   }\n",
      "]'\n"
     ]
    },
    {
     "name": "stderr",
     "output_type": "stream",
     "text": [
      "2021-01-20 12:49:22,959 \u001b[1;34mDEBUG\u001b[0m [ctapipe.mytool] (application.exit): Exiting application: mytool\n"
     ]
    }
   ],
   "source": [
    "try:\n",
    "    tool.run(argv=['--log-level','DEBUG','--infile', str(GAMMA_FILE)])\n",
    "except SystemExit as e:\n",
    "    assert e.code == 0, f'Tool returned with error status {e}'"
   ]
  },
  {
   "cell_type": "markdown",
   "metadata": {},
   "source": [
    "you can also set parameters directly in the class, rather than using the argument/configfile parser. This is useful if you are calling the Tool from a script rather than the command-line"
   ]
  },
  {
   "cell_type": "code",
   "execution_count": 15,
   "metadata": {
    "execution": {
     "iopub.execute_input": "2021-01-20T12:49:22.975963Z",
     "iopub.status.busy": "2021-01-20T12:49:22.972305Z",
     "iopub.status.idle": "2021-01-20T12:49:23.332447Z",
     "shell.execute_reply": "2021-01-20T12:49:23.331743Z"
    },
    "scrolled": false
   },
   "outputs": [
    {
     "name": "stderr",
     "output_type": "stream",
     "text": [
      "2021-01-20 12:49:22,974 \u001b[1;34mDEBUG\u001b[0m [ctapipe.mytool] (application._config_changed): Config changed: {'AdvancedComponent': {'infile': '/github/home/.cache/ctapipe/gamma_test.simtel.gz'}, 'attach_subarray': <LazyConfigValue {}>, 'MyTool': {'log_level': '\u001b[1;34mDEBUG\u001b[0m', 'iterations': 3}}\n"
     ]
    },
    {
     "name": "stderr",
     "output_type": "stream",
     "text": [
      "2021-01-20 12:49:22,976 \u001b[1;34mDEBUG\u001b[0m [ctapipe.mytool] (application._config_changed): Config changed: {'AdvancedComponent': {'infile': '/github/home/.cache/ctapipe/gamma_test.simtel.gz'}, 'attach_subarray': <LazyConfigValue {}>, 'MyTool': {'log_level': '\u001b[1;34mDEBUG\u001b[0m', 'iterations': 3}}\n"
     ]
    },
    {
     "name": "stderr",
     "output_type": "stream",
     "text": [
      "2021-01-20 12:49:22,978 \u001b[1;32mINFO\u001b[0m [ctapipe.mytool] (tool.initialize): ctapipe version 0.1.dev1+gf1cd0bb\n"
     ]
    },
    {
     "name": "stderr",
     "output_type": "stream",
     "text": [
      "2021-01-20 12:49:22,979 \u001b[1;32mINFO\u001b[0m [ctapipe.mytool] (tool.run): Starting: mytool\n"
     ]
    },
    {
     "name": "stderr",
     "output_type": "stream",
     "text": [
      "2021-01-20 12:49:22,987 \u001b[1;34mDEBUG\u001b[0m [ctapipe.core.provenance] (provenance.start_activity): started activity: mytool\n"
     ]
    },
    {
     "name": "stderr",
     "output_type": "stream",
     "text": [
      "2021-01-20 12:49:22,992 \u001b[1;34mDEBUG\u001b[0m [ctapipe.core.traits] (traits.attach_subarray): argument '*' matched: ['LST_LST_LSTCam', 'MST_MST_NectarCam']\n"
     ]
    },
    {
     "name": "stderr",
     "output_type": "stream",
     "text": [
      "2021-01-20 12:49:22,994 \u001b[1;34mDEBUG\u001b[0m [ctapipe.mytool] (tool.run): CONFIG: {'MyTool': {'config_file': None, 'iterations': 3, 'log_config': {'version': 1, 'disable_existing_loggers': False, 'formatters': {'file': {'()': <class 'ctapipe.core.logging.PlainFormatter'>, 'fmt': '%(asctime)s %(levelname)s [%(name)s] (%(module)s.%(funcName)s): %(message)s'}, 'console': {'()': <class 'ctapipe.core.logging.ColoredFormatter'>, 'fmt': '%(asctime)s %(levelname)s [%(name)s] (%(module)s.%(funcName)s): %(message)s'}}, 'handlers': {'ctapipe-console': {'class': 'logging.StreamHandler', 'formatter': 'console', 'stream': 'ext://sys.stderr', 'level': 10}, 'console': {'class': 'logging.StreamHandler', 'formatter': 'console', 'stream': 'ext://sys.stderr', 'level': 'NOTSET'}}, 'loggers': {'ctapipe': {'level': 10, 'handlers': ['ctapipe-console'], 'propagate': False}}}, 'log_datefmt': '%Y-%m-%d %H:%M:%S', 'log_file': None, 'log_file_level': 'INFO', 'log_format': '%(asctime)s : %(levelname)s [%(name)s %(funcName)s] %(message)s', 'log_level': 10, 'provenance_log': PosixPath('/github/workspace/docs/examples/mytool.provenance.log'), 'quiet': False, 'show_config': False, 'show_config_json': False, 'MyComponent': {'value': -1}, 'SecondaryMyComponent': {'value': -1}, 'TelescopeWiseComponent': {'param': [('type', '*', 5.0)]}, 'AdvancedComponent': {'infile': PosixPath('/github/home/.cache/ctapipe/gamma_test.simtel.gz'), 'outfile': None, 'value1': -1, 'MyComponent': {'value': -1}}}}\n"
     ]
    },
    {
     "name": "stderr",
     "output_type": "stream",
     "text": [
      "2021-01-20 12:49:22,996 \u001b[1;32mINFO\u001b[0m [ctapipe.mytool] (<ipython-input-1-d7fc398e7046>.start): Performing 3 iterations...\n"
     ]
    },
    {
     "name": "stderr",
     "output_type": "stream",
     "text": [
      "2021-01-20 12:49:22,996 \u001b[1;32mINFO\u001b[0m [ctapipe.mytool] (<ipython-input-1-d7fc398e7046>.start): ITERATION 0\n"
     ]
    },
    {
     "name": "stderr",
     "output_type": "stream",
     "text": [
      "2021-01-20 12:49:22,998 \u001b[1;34mDEBUG\u001b[0m [ctapipe.mytool.MyComponent] (<ipython-input-1-a087b1827cdf>.do_thing): Did thing\n"
     ]
    },
    {
     "name": "stderr",
     "output_type": "stream",
     "text": [
      "2021-01-20 12:49:22,999 \u001b[1;34mDEBUG\u001b[0m [ctapipe.mytool.SecondaryMyComponent] (<ipython-input-1-a087b1827cdf>.do_thing): Did thing\n"
     ]
    },
    {
     "name": "stderr",
     "output_type": "stream",
     "text": [
      "2021-01-20 12:49:23,100 \u001b[1;32mINFO\u001b[0m [ctapipe.mytool] (<ipython-input-1-d7fc398e7046>.start): ITERATION 1\n"
     ]
    },
    {
     "name": "stderr",
     "output_type": "stream",
     "text": [
      "2021-01-20 12:49:23,101 \u001b[1;34mDEBUG\u001b[0m [ctapipe.mytool.MyComponent] (<ipython-input-1-a087b1827cdf>.do_thing): Did thing\n"
     ]
    },
    {
     "name": "stderr",
     "output_type": "stream",
     "text": [
      "2021-01-20 12:49:23,102 \u001b[1;34mDEBUG\u001b[0m [ctapipe.mytool.SecondaryMyComponent] (<ipython-input-1-a087b1827cdf>.do_thing): Did thing\n"
     ]
    },
    {
     "name": "stderr",
     "output_type": "stream",
     "text": [
      "2021-01-20 12:49:23,205 \u001b[1;32mINFO\u001b[0m [ctapipe.mytool] (<ipython-input-1-d7fc398e7046>.start): ITERATION 2\n"
     ]
    },
    {
     "name": "stderr",
     "output_type": "stream",
     "text": [
      "2021-01-20 12:49:23,206 \u001b[1;34mDEBUG\u001b[0m [ctapipe.mytool.MyComponent] (<ipython-input-1-a087b1827cdf>.do_thing): Did thing\n"
     ]
    },
    {
     "name": "stderr",
     "output_type": "stream",
     "text": [
      "2021-01-20 12:49:23,208 \u001b[1;34mDEBUG\u001b[0m [ctapipe.mytool.SecondaryMyComponent] (<ipython-input-1-a087b1827cdf>.do_thing): Did thing\n"
     ]
    },
    {
     "name": "stderr",
     "output_type": "stream",
     "text": [
      "2021-01-20 12:49:23,310 \u001b[1;33mWARNING\u001b[0m [ctapipe.mytool] (<ipython-input-1-d7fc398e7046>.finish): Shutting down.\n"
     ]
    },
    {
     "name": "stderr",
     "output_type": "stream",
     "text": [
      "2021-01-20 12:49:23,311 \u001b[1;32mINFO\u001b[0m [ctapipe.mytool] (tool.run): Finished: mytool\n"
     ]
    },
    {
     "name": "stderr",
     "output_type": "stream",
     "text": [
      "2021-01-20 12:49:23,315 \u001b[1;34mDEBUG\u001b[0m [ctapipe.core.provenance] (provenance.finish_activity): finished activity: mytool\n"
     ]
    },
    {
     "name": "stderr",
     "output_type": "stream",
     "text": [
      "2021-01-20 12:49:23,318 \u001b[1;32mINFO\u001b[0m [ctapipe.mytool] (tool.write_provenance): Output: \n"
     ]
    },
    {
     "name": "stderr",
     "output_type": "stream",
     "text": [
      "2021-01-20 12:49:23,319 \u001b[1;32mINFO\u001b[0m [ctapipe.mytool] (tool.write_provenance): Output: \n"
     ]
    },
    {
     "name": "stderr",
     "output_type": "stream",
     "text": [
      "2021-01-20 12:49:23,321 \u001b[1;32mINFO\u001b[0m [ctapipe.mytool] (tool.write_provenance): Output: \n"
     ]
    },
    {
     "name": "stderr",
     "output_type": "stream",
     "text": [
      "2021-01-20 12:49:23,321 \u001b[1;32mINFO\u001b[0m [ctapipe.mytool] (tool.write_provenance): Output: \n"
     ]
    },
    {
     "name": "stderr",
     "output_type": "stream",
     "text": [
      "2021-01-20 12:49:23,323 \u001b[1;34mDEBUG\u001b[0m [ctapipe.mytool] (tool.write_provenance): PROVENANCE: '[\n",
      "   {\n",
      "      \"activity_name\": \"mytool\",\n",
      "      \"activity_uuid\": \"c2220cdd-64fa-453b-aa62-371f8f2b492f\",\n",
      "      \"start\": {\n",
      "         \"time_utc\": \"2021-01-20T12:49:21.726\"\n",
      "      },\n",
      "      \"stop\": {\n",
      "         \"time_utc\": \"2021-01-20T12:49:22.243\"\n",
      "      },\n",
      "      \"system\": {\n",
      "         \"ctapipe_version\": \"0.1.dev1+gf1cd0bb\",\n",
      "         \"ctapipe_resources_version\": \"not installed\",\n",
      "         \"eventio_version\": \"1.4.2\",\n",
      "         \"ctapipe_svc_path\": null,\n",
      "         \"executable\": \"/usr/local/bin/python3\",\n",
      "         \"platform\": {\n",
      "            \"architecture_bits\": \"64bit\",\n",
      "            \"architecture_linkage\": \"\",\n",
      "            \"machine\": \"x86_64\",\n",
      "            \"processor\": \"\",\n",
      "            \"node\": \"6ca3fe3bdc1b\",\n",
      "            \"version\": \"#38~18.04.1-Ubuntu SMP Wed Jan 6 18:26:30 UTC 2021\",\n",
      "            \"system\": \"Linux\",\n",
      "            \"release\": \"5.4.0-1036-azure\",\n",
      "            \"libcver\": [\n",
      "               \"glibc\",\n",
      "               \"2.28\"\n",
      "            ],\n",
      "            \"num_cpus\": 2,\n",
      "            \"boot_time\": \"2021-01-20T12:44:08.000\"\n",
      "         },\n",
      "         \"python\": {\n",
      "            \"version_string\": \"3.8.2 (default, Feb 26 2020, 15:09:34) \\n[GCC 8.3.0]\",\n",
      "            \"version\": [\n",
      "               \"3\",\n",
      "               \"8\",\n",
      "               \"2\"\n",
      "            ],\n",
      "            \"compiler\": \"GCC 8.3.0\",\n",
      "            \"implementation\": \"CPython\"\n",
      "         },\n",
      "         \"environment\": {\n",
      "            \"CONDA_DEFAULT_ENV\": null,\n",
      "            \"CONDA_PREFIX\": null,\n",
      "            \"CONDA_PYTHON_EXE\": null,\n",
      "            \"CONDA_EXE\": null,\n",
      "            \"CONDA_PROMPT_MODIFIER\": null,\n",
      "            \"CONDA_SHLVL\": null,\n",
      "            \"PATH\": \"/usr/local/bin:/usr/local/sbin:/usr/local/bin:/usr/sbin:/usr/bin:/sbin:/bin\",\n",
      "            \"LD_LIBRARY_PATH\": null,\n",
      "            \"DYLD_LIBRARY_PATH\": null,\n",
      "            \"USER\": null,\n",
      "            \"HOME\": \"/github/home\",\n",
      "            \"SHELL\": null\n",
      "         },\n",
      "         \"arguments\": [\n",
      "            \"/usr/local/lib/python3.8/site-packages/ipykernel_launcher.py\",\n",
      "            \"-f\",\n",
      "            \"/tmp/tmppi_g3_18.json\",\n",
      "            \"--HistoryManager.hist_file=:memory:\"\n",
      "         ],\n",
      "         \"start_time_utc\": \"2021-01-20T12:49:21.734\"\n",
      "      },\n",
      "      \"input\": [],\n",
      "      \"output\": [],\n",
      "      \"config\": {\n",
      "         \"MyTool\": {\n",
      "            \"config_file\": null,\n",
      "            \"iterations\": 5,\n",
      "            \"log_config\": {\n",
      "               \"version\": 1,\n",
      "               \"disable_existing_loggers\": false,\n",
      "               \"formatters\": {\n",
      "                  \"file\": {\n",
      "                     \"()\": null,\n",
      "                     \"fmt\": \"%(asctime)s %(levelname)s [%(name)s] (%(module)s.%(funcName)s): %(message)s\"\n",
      "                  },\n",
      "                  \"console\": {\n",
      "                     \"()\": null,\n",
      "                     \"fmt\": \"%(asctime)s %(levelname)s [%(name)s] (%(module)s.%(funcName)s): %(message)s\"\n",
      "                  }\n",
      "               },\n",
      "               \"handlers\": {\n",
      "                  \"ctapipe-console\": {\n",
      "                     \"class\": \"logging.StreamHandler\",\n",
      "                     \"formatter\": \"console\",\n",
      "                     \"stream\": \"ext://sys.stderr\",\n",
      "                     \"level\": 10\n",
      "                  },\n",
      "                  \"console\": {\n",
      "                     \"class\": \"logging.StreamHandler\",\n",
      "                     \"formatter\": \"console\",\n",
      "                     \"stream\": \"ext://sys.stderr\",\n",
      "                     \"level\": \"NOTSET\"\n",
      "                  }\n",
      "               },\n",
      "               \"loggers\": {\n",
      "                  \"ctapipe\": {\n",
      "                     \"level\": 10,\n",
      "                     \"handlers\": [\n",
      "                        \"ctapipe-console\"\n",
      "                     ],\n",
      "                     \"propagate\": false\n",
      "                  }\n",
      "               }\n",
      "            },\n",
      "            \"log_datefmt\": \"%Y-%m-%d %H:%M:%S\",\n",
      "            \"log_file\": null,\n",
      "            \"log_file_level\": \"INFO\",\n",
      "            \"log_format\": \"[%(name)s]%(highlevel)s %(message)s\",\n",
      "            \"log_level\": 30,\n",
      "            \"provenance_log\": \"/github/workspace/docs/examples/mytool.provenance.log\",\n",
      "            \"quiet\": false,\n",
      "            \"show_config\": false,\n",
      "            \"show_config_json\": false,\n",
      "            \"MyComponent\": {\n",
      "               \"value\": -1\n",
      "            },\n",
      "            \"SecondaryMyComponent\": {\n",
      "               \"value\": -1\n",
      "            },\n",
      "            \"TelescopeWiseComponent\": {\n",
      "               \"param\": [\n",
      "                  [\n",
      "                     \"type\",\n",
      "                     \"*\",\n",
      "                     5.0\n",
      "                  ]\n",
      "               ]\n",
      "            },\n",
      "            \"AdvancedComponent\": {\n",
      "               \"infile\": \"/github/home/.cache/ctapipe/gamma_test.simtel.gz\",\n",
      "               \"outfile\": null,\n",
      "               \"value1\": -1,\n",
      "               \"MyComponent\": {\n",
      "                  \"value\": -1\n",
      "               }\n",
      "            }\n",
      "         }\n",
      "      },\n",
      "      \"status\": \"completed\",\n",
      "      \"duration_min\": 0.008616666666583228\n",
      "   },\n",
      "   {\n",
      "      \"activity_name\": \"mytool\",\n",
      "      \"activity_uuid\": \"44811c99-1ac0-41df-970b-af6b7ac2b020\",\n",
      "      \"start\": {\n",
      "         \"time_utc\": \"2021-01-20T12:49:22.272\"\n",
      "      },\n",
      "      \"stop\": {\n",
      "         \"time_utc\": \"2021-01-20T12:49:22.589\"\n",
      "      },\n",
      "      \"system\": {\n",
      "         \"ctapipe_version\": \"0.1.dev1+gf1cd0bb\",\n",
      "         \"ctapipe_resources_version\": \"not installed\",\n",
      "         \"eventio_version\": \"1.4.2\",\n",
      "         \"ctapipe_svc_path\": null,\n",
      "         \"executable\": \"/usr/local/bin/python3\",\n",
      "         \"platform\": {\n",
      "            \"architecture_bits\": \"64bit\",\n",
      "            \"architecture_linkage\": \"\",\n",
      "            \"machine\": \"x86_64\",\n",
      "            \"processor\": \"\",\n",
      "            \"node\": \"6ca3fe3bdc1b\",\n",
      "            \"version\": \"#38~18.04.1-Ubuntu SMP Wed Jan 6 18:26:30 UTC 2021\",\n",
      "            \"system\": \"Linux\",\n",
      "            \"release\": \"5.4.0-1036-azure\",\n",
      "            \"libcver\": [\n",
      "               \"glibc\",\n",
      "               \"2.28\"\n",
      "            ],\n",
      "            \"num_cpus\": 2,\n",
      "            \"boot_time\": \"2021-01-20T12:44:08.000\"\n",
      "         },\n",
      "         \"python\": {\n",
      "            \"version_string\": \"3.8.2 (default, Feb 26 2020, 15:09:34) \\n[GCC 8.3.0]\",\n",
      "            \"version\": [\n",
      "               \"3\",\n",
      "               \"8\",\n",
      "               \"2\"\n",
      "            ],\n",
      "            \"compiler\": \"GCC 8.3.0\",\n",
      "            \"implementation\": \"CPython\"\n",
      "         },\n",
      "         \"environment\": {\n",
      "            \"CONDA_DEFAULT_ENV\": null,\n",
      "            \"CONDA_PREFIX\": null,\n",
      "            \"CONDA_PYTHON_EXE\": null,\n",
      "            \"CONDA_EXE\": null,\n",
      "            \"CONDA_PROMPT_MODIFIER\": null,\n",
      "            \"CONDA_SHLVL\": null,\n",
      "            \"PATH\": \"/usr/local/bin:/usr/local/sbin:/usr/local/bin:/usr/sbin:/usr/bin:/sbin:/bin\",\n",
      "            \"LD_LIBRARY_PATH\": null,\n",
      "            \"DYLD_LIBRARY_PATH\": null,\n",
      "            \"USER\": null,\n",
      "            \"HOME\": \"/github/home\",\n",
      "            \"SHELL\": null\n",
      "         },\n",
      "         \"arguments\": [\n",
      "            \"/usr/local/lib/python3.8/site-packages/ipykernel_launcher.py\",\n",
      "            \"-f\",\n",
      "            \"/tmp/tmppi_g3_18.json\",\n",
      "            \"--HistoryManager.hist_file=:memory:\"\n",
      "         ],\n",
      "         \"start_time_utc\": \"2021-01-20T12:49:22.279\"\n",
      "      },\n",
      "      \"input\": [],\n",
      "      \"output\": [],\n",
      "      \"config\": {\n",
      "         \"MyTool\": {\n",
      "            \"config_file\": null,\n",
      "            \"iterations\": 3,\n",
      "            \"log_config\": {\n",
      "               \"version\": 1,\n",
      "               \"disable_existing_loggers\": false,\n",
      "               \"formatters\": {\n",
      "                  \"file\": {\n",
      "                     \"()\": null,\n",
      "                     \"fmt\": \"%(asctime)s %(levelname)s [%(name)s] (%(module)s.%(funcName)s): %(message)s\"\n",
      "                  },\n",
      "                  \"console\": {\n",
      "                     \"()\": null,\n",
      "                     \"fmt\": \"%(asctime)s %(levelname)s [%(name)s] (%(module)s.%(funcName)s): %(message)s\"\n",
      "                  }\n",
      "               },\n",
      "               \"handlers\": {\n",
      "                  \"ctapipe-console\": {\n",
      "                     \"class\": \"logging.StreamHandler\",\n",
      "                     \"formatter\": \"console\",\n",
      "                     \"stream\": \"ext://sys.stderr\",\n",
      "                     \"level\": 10\n",
      "                  },\n",
      "                  \"console\": {\n",
      "                     \"class\": \"logging.StreamHandler\",\n",
      "                     \"formatter\": \"console\",\n",
      "                     \"stream\": \"ext://sys.stderr\",\n",
      "                     \"level\": \"NOTSET\"\n",
      "                  }\n",
      "               },\n",
      "               \"loggers\": {\n",
      "                  \"ctapipe\": {\n",
      "                     \"level\": 10,\n",
      "                     \"handlers\": [\n",
      "                        \"ctapipe-console\"\n",
      "                     ],\n",
      "                     \"propagate\": false\n",
      "                  }\n",
      "               }\n",
      "            },\n",
      "            \"log_datefmt\": \"%Y-%m-%d %H:%M:%S\",\n",
      "            \"log_file\": null,\n",
      "            \"log_file_level\": \"INFO\",\n",
      "            \"log_format\": \"%(asctime)s : %(levelname)s [%(name)s %(funcName)s] %(message)s\",\n",
      "            \"log_level\": 20,\n",
      "            \"provenance_log\": \"/github/workspace/docs/examples/mytool.provenance.log\",\n",
      "            \"quiet\": false,\n",
      "            \"show_config\": false,\n",
      "            \"show_config_json\": false,\n",
      "            \"MyComponent\": {\n",
      "               \"value\": -1\n",
      "            },\n",
      "            \"SecondaryMyComponent\": {\n",
      "               \"value\": -1\n",
      "            },\n",
      "            \"TelescopeWiseComponent\": {\n",
      "               \"param\": [\n",
      "                  [\n",
      "                     \"type\",\n",
      "                     \"*\",\n",
      "                     5.0\n",
      "                  ]\n",
      "               ]\n",
      "            },\n",
      "            \"AdvancedComponent\": {\n",
      "               \"infile\": \"/github/home/.cache/ctapipe/gamma_test.simtel.gz\",\n",
      "               \"outfile\": null,\n",
      "               \"value1\": -1,\n",
      "               \"MyComponent\": {\n",
      "                  \"value\": -1\n",
      "               }\n",
      "            }\n",
      "         }\n",
      "      },\n",
      "      \"status\": \"completed\",\n",
      "      \"duration_min\": 0.0052833333333879295\n",
      "   },\n",
      "   {\n",
      "      \"activity_name\": \"mytool\",\n",
      "      \"activity_uuid\": \"23bb3cbd-63cf-4388-8a7b-56a31646d3e4\",\n",
      "      \"start\": {\n",
      "         \"time_utc\": \"2021-01-20T12:49:22.614\"\n",
      "      },\n",
      "      \"stop\": {\n",
      "         \"time_utc\": \"2021-01-20T12:49:22.949\"\n",
      "      },\n",
      "      \"system\": {\n",
      "         \"ctapipe_version\": \"0.1.dev1+gf1cd0bb\",\n",
      "         \"ctapipe_resources_version\": \"not installed\",\n",
      "         \"eventio_version\": \"1.4.2\",\n",
      "         \"ctapipe_svc_path\": null,\n",
      "         \"executable\": \"/usr/local/bin/python3\",\n",
      "         \"platform\": {\n",
      "            \"architecture_bits\": \"64bit\",\n",
      "            \"architecture_linkage\": \"\",\n",
      "            \"machine\": \"x86_64\",\n",
      "            \"processor\": \"\",\n",
      "            \"node\": \"6ca3fe3bdc1b\",\n",
      "            \"version\": \"#38~18.04.1-Ubuntu SMP Wed Jan 6 18:26:30 UTC 2021\",\n",
      "            \"system\": \"Linux\",\n",
      "            \"release\": \"5.4.0-1036-azure\",\n",
      "            \"libcver\": [\n",
      "               \"glibc\",\n",
      "               \"2.28\"\n",
      "            ],\n",
      "            \"num_cpus\": 2,\n",
      "            \"boot_time\": \"2021-01-20T12:44:08.000\"\n",
      "         },\n",
      "         \"python\": {\n",
      "            \"version_string\": \"3.8.2 (default, Feb 26 2020, 15:09:34) \\n[GCC 8.3.0]\",\n",
      "            \"version\": [\n",
      "               \"3\",\n",
      "               \"8\",\n",
      "               \"2\"\n",
      "            ],\n",
      "            \"compiler\": \"GCC 8.3.0\",\n",
      "            \"implementation\": \"CPython\"\n",
      "         },\n",
      "         \"environment\": {\n",
      "            \"CONDA_DEFAULT_ENV\": null,\n",
      "            \"CONDA_PREFIX\": null,\n",
      "            \"CONDA_PYTHON_EXE\": null,\n",
      "            \"CONDA_EXE\": null,\n",
      "            \"CONDA_PROMPT_MODIFIER\": null,\n",
      "            \"CONDA_SHLVL\": null,\n",
      "            \"PATH\": \"/usr/local/bin:/usr/local/sbin:/usr/local/bin:/usr/sbin:/usr/bin:/sbin:/bin\",\n",
      "            \"LD_LIBRARY_PATH\": null,\n",
      "            \"DYLD_LIBRARY_PATH\": null,\n",
      "            \"USER\": null,\n",
      "            \"HOME\": \"/github/home\",\n",
      "            \"SHELL\": null\n",
      "         },\n",
      "         \"arguments\": [\n",
      "            \"/usr/local/lib/python3.8/site-packages/ipykernel_launcher.py\",\n",
      "            \"-f\",\n",
      "            \"/tmp/tmppi_g3_18.json\",\n",
      "            \"--HistoryManager.hist_file=:memory:\"\n",
      "         ],\n",
      "         \"start_time_utc\": \"2021-01-20T12:49:22.622\"\n",
      "      },\n",
      "      \"input\": [],\n",
      "      \"output\": [],\n",
      "      \"config\": {\n",
      "         \"MyTool\": {\n",
      "            \"config_file\": null,\n",
      "            \"iterations\": 3,\n",
      "            \"log_config\": {\n",
      "               \"version\": 1,\n",
      "               \"disable_existing_loggers\": false,\n",
      "               \"formatters\": {\n",
      "                  \"file\": {\n",
      "                     \"()\": null,\n",
      "                     \"fmt\": \"%(asctime)s %(levelname)s [%(name)s] (%(module)s.%(funcName)s): %(message)s\"\n",
      "                  },\n",
      "                  \"console\": {\n",
      "                     \"()\": null,\n",
      "                     \"fmt\": \"%(asctime)s %(levelname)s [%(name)s] (%(module)s.%(funcName)s): %(message)s\"\n",
      "                  }\n",
      "               },\n",
      "               \"handlers\": {\n",
      "                  \"ctapipe-console\": {\n",
      "                     \"class\": \"logging.StreamHandler\",\n",
      "                     \"formatter\": \"console\",\n",
      "                     \"stream\": \"ext://sys.stderr\",\n",
      "                     \"level\": 10\n",
      "                  },\n",
      "                  \"console\": {\n",
      "                     \"class\": \"logging.StreamHandler\",\n",
      "                     \"formatter\": \"console\",\n",
      "                     \"stream\": \"ext://sys.stderr\",\n",
      "                     \"level\": \"NOTSET\"\n",
      "                  }\n",
      "               },\n",
      "               \"loggers\": {\n",
      "                  \"ctapipe\": {\n",
      "                     \"level\": 10,\n",
      "                     \"handlers\": [\n",
      "                        \"ctapipe-console\"\n",
      "                     ],\n",
      "                     \"propagate\": false\n",
      "                  }\n",
      "               }\n",
      "            },\n",
      "            \"log_datefmt\": \"%Y-%m-%d %H:%M:%S\",\n",
      "            \"log_file\": null,\n",
      "            \"log_file_level\": \"INFO\",\n",
      "            \"log_format\": \"%(asctime)s : %(levelname)s [%(name)s %(funcName)s] %(message)s\",\n",
      "            \"log_level\": 10,\n",
      "            \"provenance_log\": \"/github/workspace/docs/examples/mytool.provenance.log\",\n",
      "            \"quiet\": false,\n",
      "            \"show_config\": false,\n",
      "            \"show_config_json\": false,\n",
      "            \"MyComponent\": {\n",
      "               \"value\": -1\n",
      "            },\n",
      "            \"SecondaryMyComponent\": {\n",
      "               \"value\": -1\n",
      "            },\n",
      "            \"TelescopeWiseComponent\": {\n",
      "               \"param\": [\n",
      "                  [\n",
      "                     \"type\",\n",
      "                     \"*\",\n",
      "                     5.0\n",
      "                  ]\n",
      "               ]\n",
      "            },\n",
      "            \"AdvancedComponent\": {\n",
      "               \"infile\": \"/github/home/.cache/ctapipe/gamma_test.simtel.gz\",\n",
      "               \"outfile\": null,\n",
      "               \"value1\": -1,\n",
      "               \"MyComponent\": {\n",
      "                  \"value\": -1\n",
      "               }\n",
      "            }\n",
      "         }\n",
      "      },\n",
      "      \"status\": \"completed\",\n",
      "      \"duration_min\": 0.005583333333269991\n",
      "   },\n",
      "   {\n",
      "      \"activity_name\": \"mytool\",\n",
      "      \"activity_uuid\": \"d6580c5d-12ba-4465-b3f3-5d7264d0332f\",\n",
      "      \"start\": {\n",
      "         \"time_utc\": \"2021-01-20T12:49:22.980\"\n",
      "      },\n",
      "      \"stop\": {\n",
      "         \"time_utc\": \"2021-01-20T12:49:23.312\"\n",
      "      },\n",
      "      \"system\": {\n",
      "         \"ctapipe_version\": \"0.1.dev1+gf1cd0bb\",\n",
      "         \"ctapipe_resources_version\": \"not installed\",\n",
      "         \"eventio_version\": \"1.4.2\",\n",
      "         \"ctapipe_svc_path\": null,\n",
      "         \"executable\": \"/usr/local/bin/python3\",\n",
      "         \"platform\": {\n",
      "            \"architecture_bits\": \"64bit\",\n",
      "            \"architecture_linkage\": \"\",\n",
      "            \"machine\": \"x86_64\",\n",
      "            \"processor\": \"\",\n",
      "            \"node\": \"6ca3fe3bdc1b\",\n",
      "            \"version\": \"#38~18.04.1-Ubuntu SMP Wed Jan 6 18:26:30 UTC 2021\",\n",
      "            \"system\": \"Linux\",\n",
      "            \"release\": \"5.4.0-1036-azure\",\n",
      "            \"libcver\": [\n",
      "               \"glibc\",\n",
      "               \"2.28\"\n",
      "            ],\n",
      "            \"num_cpus\": 2,\n",
      "            \"boot_time\": \"2021-01-20T12:44:08.000\"\n",
      "         },\n",
      "         \"python\": {\n",
      "            \"version_string\": \"3.8.2 (default, Feb 26 2020, 15:09:34) \\n[GCC 8.3.0]\",\n",
      "            \"version\": [\n",
      "               \"3\",\n",
      "               \"8\",\n",
      "               \"2\"\n",
      "            ],\n",
      "            \"compiler\": \"GCC 8.3.0\",\n",
      "            \"implementation\": \"CPython\"\n",
      "         },\n",
      "         \"environment\": {\n",
      "            \"CONDA_DEFAULT_ENV\": null,\n",
      "            \"CONDA_PREFIX\": null,\n",
      "            \"CONDA_PYTHON_EXE\": null,\n",
      "            \"CONDA_EXE\": null,\n",
      "            \"CONDA_PROMPT_MODIFIER\": null,\n",
      "            \"CONDA_SHLVL\": null,\n",
      "            \"PATH\": \"/usr/local/bin:/usr/local/sbin:/usr/local/bin:/usr/sbin:/usr/bin:/sbin:/bin\",\n",
      "            \"LD_LIBRARY_PATH\": null,\n",
      "            \"DYLD_LIBRARY_PATH\": null,\n",
      "            \"USER\": null,\n",
      "            \"HOME\": \"/github/home\",\n",
      "            \"SHELL\": null\n",
      "         },\n",
      "         \"arguments\": [\n",
      "            \"/usr/local/lib/python3.8/site-packages/ipykernel_launcher.py\",\n",
      "            \"-f\",\n",
      "            \"/tmp/tmppi_g3_18.json\",\n",
      "            \"--HistoryManager.hist_file=:memory:\"\n",
      "         ],\n",
      "         \"start_time_utc\": \"2021-01-20T12:49:22.987\"\n",
      "      },\n",
      "      \"input\": [],\n",
      "      \"output\": [],\n",
      "      \"config\": {\n",
      "         \"MyTool\": {\n",
      "            \"config_file\": null,\n",
      "            \"iterations\": 3,\n",
      "            \"log_config\": {\n",
      "               \"version\": 1,\n",
      "               \"disable_existing_loggers\": false,\n",
      "               \"formatters\": {\n",
      "                  \"file\": {\n",
      "                     \"()\": null,\n",
      "                     \"fmt\": \"%(asctime)s %(levelname)s [%(name)s] (%(module)s.%(funcName)s): %(message)s\"\n",
      "                  },\n",
      "                  \"console\": {\n",
      "                     \"()\": null,\n",
      "                     \"fmt\": \"%(asctime)s %(levelname)s [%(name)s] (%(module)s.%(funcName)s): %(message)s\"\n",
      "                  }\n",
      "               },\n",
      "               \"handlers\": {\n",
      "                  \"ctapipe-console\": {\n",
      "                     \"class\": \"logging.StreamHandler\",\n",
      "                     \"formatter\": \"console\",\n",
      "                     \"stream\": \"ext://sys.stderr\",\n",
      "                     \"level\": 10\n",
      "                  },\n",
      "                  \"console\": {\n",
      "                     \"class\": \"logging.StreamHandler\",\n",
      "                     \"formatter\": \"console\",\n",
      "                     \"stream\": \"ext://sys.stderr\",\n",
      "                     \"level\": \"NOTSET\"\n",
      "                  }\n",
      "               },\n",
      "               \"loggers\": {\n",
      "                  \"ctapipe\": {\n",
      "                     \"level\": 10,\n",
      "                     \"handlers\": [\n",
      "                        \"ctapipe-console\"\n",
      "                     ],\n",
      "                     \"propagate\": false\n",
      "                  }\n",
      "               }\n",
      "            },\n",
      "            \"log_datefmt\": \"%Y-%m-%d %H:%M:%S\",\n",
      "            \"log_file\": null,\n",
      "            \"log_file_level\": \"INFO\",\n",
      "            \"log_format\": \"%(asctime)s : %(levelname)s [%(name)s %(funcName)s] %(message)s\",\n",
      "            \"log_level\": 10,\n",
      "            \"provenance_log\": \"/github/workspace/docs/examples/mytool.provenance.log\",\n",
      "            \"quiet\": false,\n",
      "            \"show_config\": false,\n",
      "            \"show_config_json\": false,\n",
      "            \"MyComponent\": {\n",
      "               \"value\": -1\n",
      "            },\n",
      "            \"SecondaryMyComponent\": {\n",
      "               \"value\": -1\n",
      "            },\n",
      "            \"TelescopeWiseComponent\": {\n",
      "               \"param\": [\n",
      "                  [\n",
      "                     \"type\",\n",
      "                     \"*\",\n",
      "                     5.0\n",
      "                  ]\n",
      "               ]\n",
      "            },\n",
      "            \"AdvancedComponent\": {\n",
      "               \"infile\": \"/github/home/.cache/ctapipe/gamma_test.simtel.gz\",\n",
      "               \"outfile\": null,\n",
      "               \"value1\": -1,\n",
      "               \"MyComponent\": {\n",
      "                  \"value\": -1\n",
      "               }\n",
      "            }\n",
      "         }\n",
      "      },\n",
      "      \"status\": \"completed\",\n",
      "      \"duration_min\": 0.005533333333289647\n",
      "   }\n",
      "]'\n"
     ]
    },
    {
     "name": "stderr",
     "output_type": "stream",
     "text": [
      "2021-01-20 12:49:23,327 \u001b[1;34mDEBUG\u001b[0m [ctapipe.mytool] (application.exit): Exiting application: mytool\n"
     ]
    }
   ],
   "source": [
    "tool.iterations = 1\n",
    "tool.log_level = 0\n",
    "\n",
    "try:\n",
    "    tool.run(['--infile', str(GAMMA_FILE)])\n",
    "except SystemExit as e:\n",
    "    assert e.code == 0, f'Tool returned with error status {e}'"
   ]
  },
  {
   "cell_type": "markdown",
   "metadata": {},
   "source": [
    "see what happens when a value is set that is not of the correct type:"
   ]
  },
  {
   "cell_type": "code",
   "execution_count": 16,
   "metadata": {
    "execution": {
     "iopub.execute_input": "2021-01-20T12:49:23.337776Z",
     "iopub.status.busy": "2021-01-20T12:49:23.337056Z",
     "iopub.status.idle": "2021-01-20T12:49:23.341037Z",
     "shell.execute_reply": "2021-01-20T12:49:23.340556Z"
    }
   },
   "outputs": [
    {
     "name": "stdout",
     "output_type": "stream",
     "text": [
      "bad value: The 'iterations' trait of a MyTool instance expected an int, not the str 'badval'.\n"
     ]
    }
   ],
   "source": [
    "try:\n",
    "    tool.iterations = \"badval\"\n",
    "except TraitError as E:\n",
    "    print(\"bad value:\",E)\n",
    "except SystemExit as e:\n",
    "    assert e.code == 0, f'Tool returned with error status {e}'"
   ]
  },
  {
   "cell_type": "markdown",
   "metadata": {},
   "source": [
    "Example of what happens when you change a parameter that is being \"observed\" in a class. It's handler is called:"
   ]
  },
  {
   "cell_type": "code",
   "execution_count": 17,
   "metadata": {
    "execution": {
     "iopub.execute_input": "2021-01-20T12:49:23.345465Z",
     "iopub.status.busy": "2021-01-20T12:49:23.344902Z",
     "iopub.status.idle": "2021-01-20T12:49:23.347416Z",
     "shell.execute_reply": "2021-01-20T12:49:23.347997Z"
    }
   },
   "outputs": [
    {
     "name": "stderr",
     "output_type": "stream",
     "text": [
      "2021-01-20 12:49:23,343 \u001b[1;33mWARNING\u001b[0m [ctapipe.mytool.AdvancedComponent] (<ipython-input-1-a087b1827cdf>.on_outfile_changed): Outfile was changed to '{'name': 'outfile', 'old': None, 'new': PosixPath('/github/workspace/docs/examples/Another.txt'), 'owner': <__main__.AdvancedComponent object at 0x7f73724e14c0>, 'type': 'change'}'\n"
     ]
    }
   ],
   "source": [
    "tool.advanced.outfile = \"Another.txt\""
   ]
  },
  {
   "cell_type": "markdown",
   "metadata": {},
   "source": [
    "we see that the handler for `outfile` was called, and it receive a change dict that shows the old and new values."
   ]
  },
  {
   "cell_type": "markdown",
   "metadata": {},
   "source": [
    "create a tool using a config file:"
   ]
  },
  {
   "cell_type": "code",
   "execution_count": 18,
   "metadata": {
    "execution": {
     "iopub.execute_input": "2021-01-20T12:49:23.352816Z",
     "iopub.status.busy": "2021-01-20T12:49:23.351813Z",
     "iopub.status.idle": "2021-01-20T12:49:23.354539Z",
     "shell.execute_reply": "2021-01-20T12:49:23.354997Z"
    }
   },
   "outputs": [],
   "source": [
    "tool2 = MyTool()"
   ]
  },
  {
   "cell_type": "code",
   "execution_count": 19,
   "metadata": {
    "execution": {
     "iopub.execute_input": "2021-01-20T12:49:23.362510Z",
     "iopub.status.busy": "2021-01-20T12:49:23.359942Z",
     "iopub.status.idle": "2021-01-20T12:49:23.924264Z",
     "shell.execute_reply": "2021-01-20T12:49:23.924729Z"
    },
    "scrolled": false
   },
   "outputs": [
    {
     "name": "stderr",
     "output_type": "stream",
     "text": [
      "2021-01-20 12:49:23,364 \u001b[1;32mINFO\u001b[0m [ctapipe.mytool] (tool.initialize): ctapipe version 0.1.dev1+gf1cd0bb\n"
     ]
    },
    {
     "name": "stderr",
     "output_type": "stream",
     "text": [
      "2021-01-20 12:49:23,365 \u001b[1;32mINFO\u001b[0m [ctapipe.mytool] (tool.run): Starting: mytool\n"
     ]
    },
    {
     "name": "stderr",
     "output_type": "stream",
     "text": [
      "2021-01-20 12:49:23,373 \u001b[1;34mDEBUG\u001b[0m [ctapipe.core.provenance] (provenance.start_activity): started activity: mytool\n"
     ]
    },
    {
     "name": "stderr",
     "output_type": "stream",
     "text": [
      "2021-01-20 12:49:23,376 \u001b[1;34mDEBUG\u001b[0m [ctapipe.core.traits] (traits.attach_subarray): argument '*' matched: ['LST_LST_LSTCam', 'MST_MST_NectarCam']\n"
     ]
    },
    {
     "name": "stderr",
     "output_type": "stream",
     "text": [
      "2021-01-20 12:49:23,380 \u001b[1;34mDEBUG\u001b[0m [ctapipe.mytool] (tool.run): CONFIG: {'MyTool': {'config_file': PosixPath('/github/workspace/docs/examples/Tools.json'), 'iterations': 5, 'log_config': {'version': 1, 'disable_existing_loggers': False, 'formatters': {'file': {'()': <class 'ctapipe.core.logging.PlainFormatter'>, 'fmt': '%(asctime)s %(levelname)s [%(name)s] (%(module)s.%(funcName)s): %(message)s'}, 'console': {'()': <class 'ctapipe.core.logging.ColoredFormatter'>, 'fmt': '%(asctime)s %(levelname)s [%(name)s] (%(module)s.%(funcName)s): %(message)s'}}, 'handlers': {'ctapipe-console': {'class': 'logging.StreamHandler', 'formatter': 'console', 'stream': 'ext://sys.stderr', 'level': 10}, 'console': {'class': 'logging.StreamHandler', 'formatter': 'console', 'stream': 'ext://sys.stderr', 'level': 'NOTSET'}}, 'loggers': {'ctapipe': {'level': 10, 'handlers': ['ctapipe-console'], 'propagate': False}}}, 'log_datefmt': '%Y-%m-%d %H:%M:%S', 'log_file': None, 'log_file_level': 'INFO', 'log_format': '[%(name)s]%(highlevel)s %(message)s', 'log_level': 10, 'provenance_log': PosixPath('/github/workspace/docs/examples/mytool.provenance.log'), 'quiet': False, 'show_config': False, 'show_config_json': False, 'MyComponent': {'value': -1}, 'SecondaryMyComponent': {'value': -1}, 'TelescopeWiseComponent': {'param': [('type', '*', 5.0)]}, 'AdvancedComponent': {'infile': PosixPath('/github/workspace/docs/examples/something.txt'), 'outfile': None, 'value1': -1, 'MyComponent': {'value': -1}}}}\n"
     ]
    },
    {
     "name": "stderr",
     "output_type": "stream",
     "text": [
      "2021-01-20 12:49:23,381 \u001b[1;32mINFO\u001b[0m [ctapipe.mytool] (<ipython-input-1-d7fc398e7046>.start): Performing 5 iterations...\n"
     ]
    },
    {
     "name": "stderr",
     "output_type": "stream",
     "text": [
      "2021-01-20 12:49:23,382 \u001b[1;32mINFO\u001b[0m [ctapipe.mytool] (<ipython-input-1-d7fc398e7046>.start): ITERATION 0\n"
     ]
    },
    {
     "name": "stderr",
     "output_type": "stream",
     "text": [
      "2021-01-20 12:49:23,383 \u001b[1;34mDEBUG\u001b[0m [ctapipe.mytool.MyComponent] (<ipython-input-1-a087b1827cdf>.do_thing): Did thing\n"
     ]
    },
    {
     "name": "stderr",
     "output_type": "stream",
     "text": [
      "2021-01-20 12:49:23,385 \u001b[1;34mDEBUG\u001b[0m [ctapipe.mytool.SecondaryMyComponent] (<ipython-input-1-a087b1827cdf>.do_thing): Did thing\n"
     ]
    },
    {
     "name": "stderr",
     "output_type": "stream",
     "text": [
      "2021-01-20 12:49:23,486 \u001b[1;32mINFO\u001b[0m [ctapipe.mytool] (<ipython-input-1-d7fc398e7046>.start): ITERATION 1\n"
     ]
    },
    {
     "name": "stderr",
     "output_type": "stream",
     "text": [
      "2021-01-20 12:49:23,487 \u001b[1;34mDEBUG\u001b[0m [ctapipe.mytool.MyComponent] (<ipython-input-1-a087b1827cdf>.do_thing): Did thing\n"
     ]
    },
    {
     "name": "stderr",
     "output_type": "stream",
     "text": [
      "2021-01-20 12:49:23,488 \u001b[1;34mDEBUG\u001b[0m [ctapipe.mytool.SecondaryMyComponent] (<ipython-input-1-a087b1827cdf>.do_thing): Did thing\n"
     ]
    },
    {
     "name": "stderr",
     "output_type": "stream",
     "text": [
      "2021-01-20 12:49:23,590 \u001b[1;32mINFO\u001b[0m [ctapipe.mytool] (<ipython-input-1-d7fc398e7046>.start): ITERATION 2\n"
     ]
    },
    {
     "name": "stderr",
     "output_type": "stream",
     "text": [
      "2021-01-20 12:49:23,591 \u001b[1;34mDEBUG\u001b[0m [ctapipe.mytool.MyComponent] (<ipython-input-1-a087b1827cdf>.do_thing): Did thing\n"
     ]
    },
    {
     "name": "stderr",
     "output_type": "stream",
     "text": [
      "2021-01-20 12:49:23,594 \u001b[1;34mDEBUG\u001b[0m [ctapipe.mytool.SecondaryMyComponent] (<ipython-input-1-a087b1827cdf>.do_thing): Did thing\n"
     ]
    },
    {
     "name": "stderr",
     "output_type": "stream",
     "text": [
      "2021-01-20 12:49:23,696 \u001b[1;32mINFO\u001b[0m [ctapipe.mytool] (<ipython-input-1-d7fc398e7046>.start): ITERATION 3\n"
     ]
    },
    {
     "name": "stderr",
     "output_type": "stream",
     "text": [
      "2021-01-20 12:49:23,696 \u001b[1;34mDEBUG\u001b[0m [ctapipe.mytool.MyComponent] (<ipython-input-1-a087b1827cdf>.do_thing): Did thing\n"
     ]
    },
    {
     "name": "stderr",
     "output_type": "stream",
     "text": [
      "2021-01-20 12:49:23,697 \u001b[1;34mDEBUG\u001b[0m [ctapipe.mytool.SecondaryMyComponent] (<ipython-input-1-a087b1827cdf>.do_thing): Did thing\n"
     ]
    },
    {
     "name": "stderr",
     "output_type": "stream",
     "text": [
      "2021-01-20 12:49:23,798 \u001b[1;32mINFO\u001b[0m [ctapipe.mytool] (<ipython-input-1-d7fc398e7046>.start): ITERATION 4\n"
     ]
    },
    {
     "name": "stderr",
     "output_type": "stream",
     "text": [
      "2021-01-20 12:49:23,799 \u001b[1;34mDEBUG\u001b[0m [ctapipe.mytool.MyComponent] (<ipython-input-1-a087b1827cdf>.do_thing): Did thing\n"
     ]
    },
    {
     "name": "stderr",
     "output_type": "stream",
     "text": [
      "2021-01-20 12:49:23,801 \u001b[1;34mDEBUG\u001b[0m [ctapipe.mytool.SecondaryMyComponent] (<ipython-input-1-a087b1827cdf>.do_thing): Did thing\n"
     ]
    },
    {
     "name": "stderr",
     "output_type": "stream",
     "text": [
      "2021-01-20 12:49:23,902 \u001b[1;33mWARNING\u001b[0m [ctapipe.mytool] (<ipython-input-1-d7fc398e7046>.finish): Shutting down.\n"
     ]
    },
    {
     "name": "stderr",
     "output_type": "stream",
     "text": [
      "2021-01-20 12:49:23,903 \u001b[1;32mINFO\u001b[0m [ctapipe.mytool] (tool.run): Finished: mytool\n"
     ]
    },
    {
     "name": "stderr",
     "output_type": "stream",
     "text": [
      "2021-01-20 12:49:23,907 \u001b[1;34mDEBUG\u001b[0m [ctapipe.core.provenance] (provenance.finish_activity): finished activity: mytool\n"
     ]
    },
    {
     "name": "stderr",
     "output_type": "stream",
     "text": [
      "2021-01-20 12:49:23,907 \u001b[1;32mINFO\u001b[0m [ctapipe.mytool] (tool.write_provenance): Output: \n"
     ]
    },
    {
     "name": "stderr",
     "output_type": "stream",
     "text": [
      "2021-01-20 12:49:23,908 \u001b[1;32mINFO\u001b[0m [ctapipe.mytool] (tool.write_provenance): Output: \n"
     ]
    },
    {
     "name": "stderr",
     "output_type": "stream",
     "text": [
      "2021-01-20 12:49:23,909 \u001b[1;32mINFO\u001b[0m [ctapipe.mytool] (tool.write_provenance): Output: \n"
     ]
    },
    {
     "name": "stderr",
     "output_type": "stream",
     "text": [
      "2021-01-20 12:49:23,909 \u001b[1;32mINFO\u001b[0m [ctapipe.mytool] (tool.write_provenance): Output: \n"
     ]
    },
    {
     "name": "stderr",
     "output_type": "stream",
     "text": [
      "2021-01-20 12:49:23,910 \u001b[1;32mINFO\u001b[0m [ctapipe.mytool] (tool.write_provenance): Output: \n"
     ]
    },
    {
     "name": "stderr",
     "output_type": "stream",
     "text": [
      "2021-01-20 12:49:23,912 \u001b[1;34mDEBUG\u001b[0m [ctapipe.mytool] (tool.write_provenance): PROVENANCE: '[\n",
      "   {\n",
      "      \"activity_name\": \"mytool\",\n",
      "      \"activity_uuid\": \"c2220cdd-64fa-453b-aa62-371f8f2b492f\",\n",
      "      \"start\": {\n",
      "         \"time_utc\": \"2021-01-20T12:49:21.726\"\n",
      "      },\n",
      "      \"stop\": {\n",
      "         \"time_utc\": \"2021-01-20T12:49:22.243\"\n",
      "      },\n",
      "      \"system\": {\n",
      "         \"ctapipe_version\": \"0.1.dev1+gf1cd0bb\",\n",
      "         \"ctapipe_resources_version\": \"not installed\",\n",
      "         \"eventio_version\": \"1.4.2\",\n",
      "         \"ctapipe_svc_path\": null,\n",
      "         \"executable\": \"/usr/local/bin/python3\",\n",
      "         \"platform\": {\n",
      "            \"architecture_bits\": \"64bit\",\n",
      "            \"architecture_linkage\": \"\",\n",
      "            \"machine\": \"x86_64\",\n",
      "            \"processor\": \"\",\n",
      "            \"node\": \"6ca3fe3bdc1b\",\n",
      "            \"version\": \"#38~18.04.1-Ubuntu SMP Wed Jan 6 18:26:30 UTC 2021\",\n",
      "            \"system\": \"Linux\",\n",
      "            \"release\": \"5.4.0-1036-azure\",\n",
      "            \"libcver\": [\n",
      "               \"glibc\",\n",
      "               \"2.28\"\n",
      "            ],\n",
      "            \"num_cpus\": 2,\n",
      "            \"boot_time\": \"2021-01-20T12:44:08.000\"\n",
      "         },\n",
      "         \"python\": {\n",
      "            \"version_string\": \"3.8.2 (default, Feb 26 2020, 15:09:34) \\n[GCC 8.3.0]\",\n",
      "            \"version\": [\n",
      "               \"3\",\n",
      "               \"8\",\n",
      "               \"2\"\n",
      "            ],\n",
      "            \"compiler\": \"GCC 8.3.0\",\n",
      "            \"implementation\": \"CPython\"\n",
      "         },\n",
      "         \"environment\": {\n",
      "            \"CONDA_DEFAULT_ENV\": null,\n",
      "            \"CONDA_PREFIX\": null,\n",
      "            \"CONDA_PYTHON_EXE\": null,\n",
      "            \"CONDA_EXE\": null,\n",
      "            \"CONDA_PROMPT_MODIFIER\": null,\n",
      "            \"CONDA_SHLVL\": null,\n",
      "            \"PATH\": \"/usr/local/bin:/usr/local/sbin:/usr/local/bin:/usr/sbin:/usr/bin:/sbin:/bin\",\n",
      "            \"LD_LIBRARY_PATH\": null,\n",
      "            \"DYLD_LIBRARY_PATH\": null,\n",
      "            \"USER\": null,\n",
      "            \"HOME\": \"/github/home\",\n",
      "            \"SHELL\": null\n",
      "         },\n",
      "         \"arguments\": [\n",
      "            \"/usr/local/lib/python3.8/site-packages/ipykernel_launcher.py\",\n",
      "            \"-f\",\n",
      "            \"/tmp/tmppi_g3_18.json\",\n",
      "            \"--HistoryManager.hist_file=:memory:\"\n",
      "         ],\n",
      "         \"start_time_utc\": \"2021-01-20T12:49:21.734\"\n",
      "      },\n",
      "      \"input\": [],\n",
      "      \"output\": [],\n",
      "      \"config\": {\n",
      "         \"MyTool\": {\n",
      "            \"config_file\": null,\n",
      "            \"iterations\": 5,\n",
      "            \"log_config\": {\n",
      "               \"version\": 1,\n",
      "               \"disable_existing_loggers\": false,\n",
      "               \"formatters\": {\n",
      "                  \"file\": {\n",
      "                     \"()\": null,\n",
      "                     \"fmt\": \"%(asctime)s %(levelname)s [%(name)s] (%(module)s.%(funcName)s): %(message)s\"\n",
      "                  },\n",
      "                  \"console\": {\n",
      "                     \"()\": null,\n",
      "                     \"fmt\": \"%(asctime)s %(levelname)s [%(name)s] (%(module)s.%(funcName)s): %(message)s\"\n",
      "                  }\n",
      "               },\n",
      "               \"handlers\": {\n",
      "                  \"ctapipe-console\": {\n",
      "                     \"class\": \"logging.StreamHandler\",\n",
      "                     \"formatter\": \"console\",\n",
      "                     \"stream\": \"ext://sys.stderr\",\n",
      "                     \"level\": 10\n",
      "                  },\n",
      "                  \"console\": {\n",
      "                     \"class\": \"logging.StreamHandler\",\n",
      "                     \"formatter\": \"console\",\n",
      "                     \"stream\": \"ext://sys.stderr\",\n",
      "                     \"level\": \"NOTSET\"\n",
      "                  }\n",
      "               },\n",
      "               \"loggers\": {\n",
      "                  \"ctapipe\": {\n",
      "                     \"level\": 10,\n",
      "                     \"handlers\": [\n",
      "                        \"ctapipe-console\"\n",
      "                     ],\n",
      "                     \"propagate\": false\n",
      "                  }\n",
      "               }\n",
      "            },\n",
      "            \"log_datefmt\": \"%Y-%m-%d %H:%M:%S\",\n",
      "            \"log_file\": null,\n",
      "            \"log_file_level\": \"INFO\",\n",
      "            \"log_format\": \"[%(name)s]%(highlevel)s %(message)s\",\n",
      "            \"log_level\": 30,\n",
      "            \"provenance_log\": \"/github/workspace/docs/examples/mytool.provenance.log\",\n",
      "            \"quiet\": false,\n",
      "            \"show_config\": false,\n",
      "            \"show_config_json\": false,\n",
      "            \"MyComponent\": {\n",
      "               \"value\": -1\n",
      "            },\n",
      "            \"SecondaryMyComponent\": {\n",
      "               \"value\": -1\n",
      "            },\n",
      "            \"TelescopeWiseComponent\": {\n",
      "               \"param\": [\n",
      "                  [\n",
      "                     \"type\",\n",
      "                     \"*\",\n",
      "                     5.0\n",
      "                  ]\n",
      "               ]\n",
      "            },\n",
      "            \"AdvancedComponent\": {\n",
      "               \"infile\": \"/github/home/.cache/ctapipe/gamma_test.simtel.gz\",\n",
      "               \"outfile\": null,\n",
      "               \"value1\": -1,\n",
      "               \"MyComponent\": {\n",
      "                  \"value\": -1\n",
      "               }\n",
      "            }\n",
      "         }\n",
      "      },\n",
      "      \"status\": \"completed\",\n",
      "      \"duration_min\": 0.008616666666583228\n",
      "   },\n",
      "   {\n",
      "      \"activity_name\": \"mytool\",\n",
      "      \"activity_uuid\": \"44811c99-1ac0-41df-970b-af6b7ac2b020\",\n",
      "      \"start\": {\n",
      "         \"time_utc\": \"2021-01-20T12:49:22.272\"\n",
      "      },\n",
      "      \"stop\": {\n",
      "         \"time_utc\": \"2021-01-20T12:49:22.589\"\n",
      "      },\n",
      "      \"system\": {\n",
      "         \"ctapipe_version\": \"0.1.dev1+gf1cd0bb\",\n",
      "         \"ctapipe_resources_version\": \"not installed\",\n",
      "         \"eventio_version\": \"1.4.2\",\n",
      "         \"ctapipe_svc_path\": null,\n",
      "         \"executable\": \"/usr/local/bin/python3\",\n",
      "         \"platform\": {\n",
      "            \"architecture_bits\": \"64bit\",\n",
      "            \"architecture_linkage\": \"\",\n",
      "            \"machine\": \"x86_64\",\n",
      "            \"processor\": \"\",\n",
      "            \"node\": \"6ca3fe3bdc1b\",\n",
      "            \"version\": \"#38~18.04.1-Ubuntu SMP Wed Jan 6 18:26:30 UTC 2021\",\n",
      "            \"system\": \"Linux\",\n",
      "            \"release\": \"5.4.0-1036-azure\",\n",
      "            \"libcver\": [\n",
      "               \"glibc\",\n",
      "               \"2.28\"\n",
      "            ],\n",
      "            \"num_cpus\": 2,\n",
      "            \"boot_time\": \"2021-01-20T12:44:08.000\"\n",
      "         },\n",
      "         \"python\": {\n",
      "            \"version_string\": \"3.8.2 (default, Feb 26 2020, 15:09:34) \\n[GCC 8.3.0]\",\n",
      "            \"version\": [\n",
      "               \"3\",\n",
      "               \"8\",\n",
      "               \"2\"\n",
      "            ],\n",
      "            \"compiler\": \"GCC 8.3.0\",\n",
      "            \"implementation\": \"CPython\"\n",
      "         },\n",
      "         \"environment\": {\n",
      "            \"CONDA_DEFAULT_ENV\": null,\n",
      "            \"CONDA_PREFIX\": null,\n",
      "            \"CONDA_PYTHON_EXE\": null,\n",
      "            \"CONDA_EXE\": null,\n",
      "            \"CONDA_PROMPT_MODIFIER\": null,\n",
      "            \"CONDA_SHLVL\": null,\n",
      "            \"PATH\": \"/usr/local/bin:/usr/local/sbin:/usr/local/bin:/usr/sbin:/usr/bin:/sbin:/bin\",\n",
      "            \"LD_LIBRARY_PATH\": null,\n",
      "            \"DYLD_LIBRARY_PATH\": null,\n",
      "            \"USER\": null,\n",
      "            \"HOME\": \"/github/home\",\n",
      "            \"SHELL\": null\n",
      "         },\n",
      "         \"arguments\": [\n",
      "            \"/usr/local/lib/python3.8/site-packages/ipykernel_launcher.py\",\n",
      "            \"-f\",\n",
      "            \"/tmp/tmppi_g3_18.json\",\n",
      "            \"--HistoryManager.hist_file=:memory:\"\n",
      "         ],\n",
      "         \"start_time_utc\": \"2021-01-20T12:49:22.279\"\n",
      "      },\n",
      "      \"input\": [],\n",
      "      \"output\": [],\n",
      "      \"config\": {\n",
      "         \"MyTool\": {\n",
      "            \"config_file\": null,\n",
      "            \"iterations\": 3,\n",
      "            \"log_config\": {\n",
      "               \"version\": 1,\n",
      "               \"disable_existing_loggers\": false,\n",
      "               \"formatters\": {\n",
      "                  \"file\": {\n",
      "                     \"()\": null,\n",
      "                     \"fmt\": \"%(asctime)s %(levelname)s [%(name)s] (%(module)s.%(funcName)s): %(message)s\"\n",
      "                  },\n",
      "                  \"console\": {\n",
      "                     \"()\": null,\n",
      "                     \"fmt\": \"%(asctime)s %(levelname)s [%(name)s] (%(module)s.%(funcName)s): %(message)s\"\n",
      "                  }\n",
      "               },\n",
      "               \"handlers\": {\n",
      "                  \"ctapipe-console\": {\n",
      "                     \"class\": \"logging.StreamHandler\",\n",
      "                     \"formatter\": \"console\",\n",
      "                     \"stream\": \"ext://sys.stderr\",\n",
      "                     \"level\": 10\n",
      "                  },\n",
      "                  \"console\": {\n",
      "                     \"class\": \"logging.StreamHandler\",\n",
      "                     \"formatter\": \"console\",\n",
      "                     \"stream\": \"ext://sys.stderr\",\n",
      "                     \"level\": \"NOTSET\"\n",
      "                  }\n",
      "               },\n",
      "               \"loggers\": {\n",
      "                  \"ctapipe\": {\n",
      "                     \"level\": 10,\n",
      "                     \"handlers\": [\n",
      "                        \"ctapipe-console\"\n",
      "                     ],\n",
      "                     \"propagate\": false\n",
      "                  }\n",
      "               }\n",
      "            },\n",
      "            \"log_datefmt\": \"%Y-%m-%d %H:%M:%S\",\n",
      "            \"log_file\": null,\n",
      "            \"log_file_level\": \"INFO\",\n",
      "            \"log_format\": \"%(asctime)s : %(levelname)s [%(name)s %(funcName)s] %(message)s\",\n",
      "            \"log_level\": 20,\n",
      "            \"provenance_log\": \"/github/workspace/docs/examples/mytool.provenance.log\",\n",
      "            \"quiet\": false,\n",
      "            \"show_config\": false,\n",
      "            \"show_config_json\": false,\n",
      "            \"MyComponent\": {\n",
      "               \"value\": -1\n",
      "            },\n",
      "            \"SecondaryMyComponent\": {\n",
      "               \"value\": -1\n",
      "            },\n",
      "            \"TelescopeWiseComponent\": {\n",
      "               \"param\": [\n",
      "                  [\n",
      "                     \"type\",\n",
      "                     \"*\",\n",
      "                     5.0\n",
      "                  ]\n",
      "               ]\n",
      "            },\n",
      "            \"AdvancedComponent\": {\n",
      "               \"infile\": \"/github/home/.cache/ctapipe/gamma_test.simtel.gz\",\n",
      "               \"outfile\": null,\n",
      "               \"value1\": -1,\n",
      "               \"MyComponent\": {\n",
      "                  \"value\": -1\n",
      "               }\n",
      "            }\n",
      "         }\n",
      "      },\n",
      "      \"status\": \"completed\",\n",
      "      \"duration_min\": 0.0052833333333879295\n",
      "   },\n",
      "   {\n",
      "      \"activity_name\": \"mytool\",\n",
      "      \"activity_uuid\": \"23bb3cbd-63cf-4388-8a7b-56a31646d3e4\",\n",
      "      \"start\": {\n",
      "         \"time_utc\": \"2021-01-20T12:49:22.614\"\n",
      "      },\n",
      "      \"stop\": {\n",
      "         \"time_utc\": \"2021-01-20T12:49:22.949\"\n",
      "      },\n",
      "      \"system\": {\n",
      "         \"ctapipe_version\": \"0.1.dev1+gf1cd0bb\",\n",
      "         \"ctapipe_resources_version\": \"not installed\",\n",
      "         \"eventio_version\": \"1.4.2\",\n",
      "         \"ctapipe_svc_path\": null,\n",
      "         \"executable\": \"/usr/local/bin/python3\",\n",
      "         \"platform\": {\n",
      "            \"architecture_bits\": \"64bit\",\n",
      "            \"architecture_linkage\": \"\",\n",
      "            \"machine\": \"x86_64\",\n",
      "            \"processor\": \"\",\n",
      "            \"node\": \"6ca3fe3bdc1b\",\n",
      "            \"version\": \"#38~18.04.1-Ubuntu SMP Wed Jan 6 18:26:30 UTC 2021\",\n",
      "            \"system\": \"Linux\",\n",
      "            \"release\": \"5.4.0-1036-azure\",\n",
      "            \"libcver\": [\n",
      "               \"glibc\",\n",
      "               \"2.28\"\n",
      "            ],\n",
      "            \"num_cpus\": 2,\n",
      "            \"boot_time\": \"2021-01-20T12:44:08.000\"\n",
      "         },\n",
      "         \"python\": {\n",
      "            \"version_string\": \"3.8.2 (default, Feb 26 2020, 15:09:34) \\n[GCC 8.3.0]\",\n",
      "            \"version\": [\n",
      "               \"3\",\n",
      "               \"8\",\n",
      "               \"2\"\n",
      "            ],\n",
      "            \"compiler\": \"GCC 8.3.0\",\n",
      "            \"implementation\": \"CPython\"\n",
      "         },\n",
      "         \"environment\": {\n",
      "            \"CONDA_DEFAULT_ENV\": null,\n",
      "            \"CONDA_PREFIX\": null,\n",
      "            \"CONDA_PYTHON_EXE\": null,\n",
      "            \"CONDA_EXE\": null,\n",
      "            \"CONDA_PROMPT_MODIFIER\": null,\n",
      "            \"CONDA_SHLVL\": null,\n",
      "            \"PATH\": \"/usr/local/bin:/usr/local/sbin:/usr/local/bin:/usr/sbin:/usr/bin:/sbin:/bin\",\n",
      "            \"LD_LIBRARY_PATH\": null,\n",
      "            \"DYLD_LIBRARY_PATH\": null,\n",
      "            \"USER\": null,\n",
      "            \"HOME\": \"/github/home\",\n",
      "            \"SHELL\": null\n",
      "         },\n",
      "         \"arguments\": [\n",
      "            \"/usr/local/lib/python3.8/site-packages/ipykernel_launcher.py\",\n",
      "            \"-f\",\n",
      "            \"/tmp/tmppi_g3_18.json\",\n",
      "            \"--HistoryManager.hist_file=:memory:\"\n",
      "         ],\n",
      "         \"start_time_utc\": \"2021-01-20T12:49:22.622\"\n",
      "      },\n",
      "      \"input\": [],\n",
      "      \"output\": [],\n",
      "      \"config\": {\n",
      "         \"MyTool\": {\n",
      "            \"config_file\": null,\n",
      "            \"iterations\": 3,\n",
      "            \"log_config\": {\n",
      "               \"version\": 1,\n",
      "               \"disable_existing_loggers\": false,\n",
      "               \"formatters\": {\n",
      "                  \"file\": {\n",
      "                     \"()\": null,\n",
      "                     \"fmt\": \"%(asctime)s %(levelname)s [%(name)s] (%(module)s.%(funcName)s): %(message)s\"\n",
      "                  },\n",
      "                  \"console\": {\n",
      "                     \"()\": null,\n",
      "                     \"fmt\": \"%(asctime)s %(levelname)s [%(name)s] (%(module)s.%(funcName)s): %(message)s\"\n",
      "                  }\n",
      "               },\n",
      "               \"handlers\": {\n",
      "                  \"ctapipe-console\": {\n",
      "                     \"class\": \"logging.StreamHandler\",\n",
      "                     \"formatter\": \"console\",\n",
      "                     \"stream\": \"ext://sys.stderr\",\n",
      "                     \"level\": 10\n",
      "                  },\n",
      "                  \"console\": {\n",
      "                     \"class\": \"logging.StreamHandler\",\n",
      "                     \"formatter\": \"console\",\n",
      "                     \"stream\": \"ext://sys.stderr\",\n",
      "                     \"level\": \"NOTSET\"\n",
      "                  }\n",
      "               },\n",
      "               \"loggers\": {\n",
      "                  \"ctapipe\": {\n",
      "                     \"level\": 10,\n",
      "                     \"handlers\": [\n",
      "                        \"ctapipe-console\"\n",
      "                     ],\n",
      "                     \"propagate\": false\n",
      "                  }\n",
      "               }\n",
      "            },\n",
      "            \"log_datefmt\": \"%Y-%m-%d %H:%M:%S\",\n",
      "            \"log_file\": null,\n",
      "            \"log_file_level\": \"INFO\",\n",
      "            \"log_format\": \"%(asctime)s : %(levelname)s [%(name)s %(funcName)s] %(message)s\",\n",
      "            \"log_level\": 10,\n",
      "            \"provenance_log\": \"/github/workspace/docs/examples/mytool.provenance.log\",\n",
      "            \"quiet\": false,\n",
      "            \"show_config\": false,\n",
      "            \"show_config_json\": false,\n",
      "            \"MyComponent\": {\n",
      "               \"value\": -1\n",
      "            },\n",
      "            \"SecondaryMyComponent\": {\n",
      "               \"value\": -1\n",
      "            },\n",
      "            \"TelescopeWiseComponent\": {\n",
      "               \"param\": [\n",
      "                  [\n",
      "                     \"type\",\n",
      "                     \"*\",\n",
      "                     5.0\n",
      "                  ]\n",
      "               ]\n",
      "            },\n",
      "            \"AdvancedComponent\": {\n",
      "               \"infile\": \"/github/home/.cache/ctapipe/gamma_test.simtel.gz\",\n",
      "               \"outfile\": null,\n",
      "               \"value1\": -1,\n",
      "               \"MyComponent\": {\n",
      "                  \"value\": -1\n",
      "               }\n",
      "            }\n",
      "         }\n",
      "      },\n",
      "      \"status\": \"completed\",\n",
      "      \"duration_min\": 0.005583333333269991\n",
      "   },\n",
      "   {\n",
      "      \"activity_name\": \"mytool\",\n",
      "      \"activity_uuid\": \"d6580c5d-12ba-4465-b3f3-5d7264d0332f\",\n",
      "      \"start\": {\n",
      "         \"time_utc\": \"2021-01-20T12:49:22.980\"\n",
      "      },\n",
      "      \"stop\": {\n",
      "         \"time_utc\": \"2021-01-20T12:49:23.312\"\n",
      "      },\n",
      "      \"system\": {\n",
      "         \"ctapipe_version\": \"0.1.dev1+gf1cd0bb\",\n",
      "         \"ctapipe_resources_version\": \"not installed\",\n",
      "         \"eventio_version\": \"1.4.2\",\n",
      "         \"ctapipe_svc_path\": null,\n",
      "         \"executable\": \"/usr/local/bin/python3\",\n",
      "         \"platform\": {\n",
      "            \"architecture_bits\": \"64bit\",\n",
      "            \"architecture_linkage\": \"\",\n",
      "            \"machine\": \"x86_64\",\n",
      "            \"processor\": \"\",\n",
      "            \"node\": \"6ca3fe3bdc1b\",\n",
      "            \"version\": \"#38~18.04.1-Ubuntu SMP Wed Jan 6 18:26:30 UTC 2021\",\n",
      "            \"system\": \"Linux\",\n",
      "            \"release\": \"5.4.0-1036-azure\",\n",
      "            \"libcver\": [\n",
      "               \"glibc\",\n",
      "               \"2.28\"\n",
      "            ],\n",
      "            \"num_cpus\": 2,\n",
      "            \"boot_time\": \"2021-01-20T12:44:08.000\"\n",
      "         },\n",
      "         \"python\": {\n",
      "            \"version_string\": \"3.8.2 (default, Feb 26 2020, 15:09:34) \\n[GCC 8.3.0]\",\n",
      "            \"version\": [\n",
      "               \"3\",\n",
      "               \"8\",\n",
      "               \"2\"\n",
      "            ],\n",
      "            \"compiler\": \"GCC 8.3.0\",\n",
      "            \"implementation\": \"CPython\"\n",
      "         },\n",
      "         \"environment\": {\n",
      "            \"CONDA_DEFAULT_ENV\": null,\n",
      "            \"CONDA_PREFIX\": null,\n",
      "            \"CONDA_PYTHON_EXE\": null,\n",
      "            \"CONDA_EXE\": null,\n",
      "            \"CONDA_PROMPT_MODIFIER\": null,\n",
      "            \"CONDA_SHLVL\": null,\n",
      "            \"PATH\": \"/usr/local/bin:/usr/local/sbin:/usr/local/bin:/usr/sbin:/usr/bin:/sbin:/bin\",\n",
      "            \"LD_LIBRARY_PATH\": null,\n",
      "            \"DYLD_LIBRARY_PATH\": null,\n",
      "            \"USER\": null,\n",
      "            \"HOME\": \"/github/home\",\n",
      "            \"SHELL\": null\n",
      "         },\n",
      "         \"arguments\": [\n",
      "            \"/usr/local/lib/python3.8/site-packages/ipykernel_launcher.py\",\n",
      "            \"-f\",\n",
      "            \"/tmp/tmppi_g3_18.json\",\n",
      "            \"--HistoryManager.hist_file=:memory:\"\n",
      "         ],\n",
      "         \"start_time_utc\": \"2021-01-20T12:49:22.987\"\n",
      "      },\n",
      "      \"input\": [],\n",
      "      \"output\": [],\n",
      "      \"config\": {\n",
      "         \"MyTool\": {\n",
      "            \"config_file\": null,\n",
      "            \"iterations\": 3,\n",
      "            \"log_config\": {\n",
      "               \"version\": 1,\n",
      "               \"disable_existing_loggers\": false,\n",
      "               \"formatters\": {\n",
      "                  \"file\": {\n",
      "                     \"()\": null,\n",
      "                     \"fmt\": \"%(asctime)s %(levelname)s [%(name)s] (%(module)s.%(funcName)s): %(message)s\"\n",
      "                  },\n",
      "                  \"console\": {\n",
      "                     \"()\": null,\n",
      "                     \"fmt\": \"%(asctime)s %(levelname)s [%(name)s] (%(module)s.%(funcName)s): %(message)s\"\n",
      "                  }\n",
      "               },\n",
      "               \"handlers\": {\n",
      "                  \"ctapipe-console\": {\n",
      "                     \"class\": \"logging.StreamHandler\",\n",
      "                     \"formatter\": \"console\",\n",
      "                     \"stream\": \"ext://sys.stderr\",\n",
      "                     \"level\": 10\n",
      "                  },\n",
      "                  \"console\": {\n",
      "                     \"class\": \"logging.StreamHandler\",\n",
      "                     \"formatter\": \"console\",\n",
      "                     \"stream\": \"ext://sys.stderr\",\n",
      "                     \"level\": \"NOTSET\"\n",
      "                  }\n",
      "               },\n",
      "               \"loggers\": {\n",
      "                  \"ctapipe\": {\n",
      "                     \"level\": 10,\n",
      "                     \"handlers\": [\n",
      "                        \"ctapipe-console\"\n",
      "                     ],\n",
      "                     \"propagate\": false\n",
      "                  }\n",
      "               }\n",
      "            },\n",
      "            \"log_datefmt\": \"%Y-%m-%d %H:%M:%S\",\n",
      "            \"log_file\": null,\n",
      "            \"log_file_level\": \"INFO\",\n",
      "            \"log_format\": \"%(asctime)s : %(levelname)s [%(name)s %(funcName)s] %(message)s\",\n",
      "            \"log_level\": 10,\n",
      "            \"provenance_log\": \"/github/workspace/docs/examples/mytool.provenance.log\",\n",
      "            \"quiet\": false,\n",
      "            \"show_config\": false,\n",
      "            \"show_config_json\": false,\n",
      "            \"MyComponent\": {\n",
      "               \"value\": -1\n",
      "            },\n",
      "            \"SecondaryMyComponent\": {\n",
      "               \"value\": -1\n",
      "            },\n",
      "            \"TelescopeWiseComponent\": {\n",
      "               \"param\": [\n",
      "                  [\n",
      "                     \"type\",\n",
      "                     \"*\",\n",
      "                     5.0\n",
      "                  ]\n",
      "               ]\n",
      "            },\n",
      "            \"AdvancedComponent\": {\n",
      "               \"infile\": \"/github/home/.cache/ctapipe/gamma_test.simtel.gz\",\n",
      "               \"outfile\": null,\n",
      "               \"value1\": -1,\n",
      "               \"MyComponent\": {\n",
      "                  \"value\": -1\n",
      "               }\n",
      "            }\n",
      "         }\n",
      "      },\n",
      "      \"status\": \"completed\",\n",
      "      \"duration_min\": 0.005533333333289647\n",
      "   },\n",
      "   {\n",
      "      \"activity_name\": \"mytool\",\n",
      "      \"activity_uuid\": \"139a1a2f-15d9-44ff-b5d7-fd19113a5060\",\n",
      "      \"start\": {\n",
      "         \"time_utc\": \"2021-01-20T12:49:23.366\"\n",
      "      },\n",
      "      \"stop\": {\n",
      "         \"time_utc\": \"2021-01-20T12:49:23.905\"\n",
      "      },\n",
      "      \"system\": {\n",
      "         \"ctapipe_version\": \"0.1.dev1+gf1cd0bb\",\n",
      "         \"ctapipe_resources_version\": \"not installed\",\n",
      "         \"eventio_version\": \"1.4.2\",\n",
      "         \"ctapipe_svc_path\": null,\n",
      "         \"executable\": \"/usr/local/bin/python3\",\n",
      "         \"platform\": {\n",
      "            \"architecture_bits\": \"64bit\",\n",
      "            \"architecture_linkage\": \"\",\n",
      "            \"machine\": \"x86_64\",\n",
      "            \"processor\": \"\",\n",
      "            \"node\": \"6ca3fe3bdc1b\",\n",
      "            \"version\": \"#38~18.04.1-Ubuntu SMP Wed Jan 6 18:26:30 UTC 2021\",\n",
      "            \"system\": \"Linux\",\n",
      "            \"release\": \"5.4.0-1036-azure\",\n",
      "            \"libcver\": [\n",
      "               \"glibc\",\n",
      "               \"2.28\"\n",
      "            ],\n",
      "            \"num_cpus\": 2,\n",
      "            \"boot_time\": \"2021-01-20T12:44:08.000\"\n",
      "         },\n",
      "         \"python\": {\n",
      "            \"version_string\": \"3.8.2 (default, Feb 26 2020, 15:09:34) \\n[GCC 8.3.0]\",\n",
      "            \"version\": [\n",
      "               \"3\",\n",
      "               \"8\",\n",
      "               \"2\"\n",
      "            ],\n",
      "            \"compiler\": \"GCC 8.3.0\",\n",
      "            \"implementation\": \"CPython\"\n",
      "         },\n",
      "         \"environment\": {\n",
      "            \"CONDA_DEFAULT_ENV\": null,\n",
      "            \"CONDA_PREFIX\": null,\n",
      "            \"CONDA_PYTHON_EXE\": null,\n",
      "            \"CONDA_EXE\": null,\n",
      "            \"CONDA_PROMPT_MODIFIER\": null,\n",
      "            \"CONDA_SHLVL\": null,\n",
      "            \"PATH\": \"/usr/local/bin:/usr/local/sbin:/usr/local/bin:/usr/sbin:/usr/bin:/sbin:/bin\",\n",
      "            \"LD_LIBRARY_PATH\": null,\n",
      "            \"DYLD_LIBRARY_PATH\": null,\n",
      "            \"USER\": null,\n",
      "            \"HOME\": \"/github/home\",\n",
      "            \"SHELL\": null\n",
      "         },\n",
      "         \"arguments\": [\n",
      "            \"/usr/local/lib/python3.8/site-packages/ipykernel_launcher.py\",\n",
      "            \"-f\",\n",
      "            \"/tmp/tmppi_g3_18.json\",\n",
      "            \"--HistoryManager.hist_file=:memory:\"\n",
      "         ],\n",
      "         \"start_time_utc\": \"2021-01-20T12:49:23.373\"\n",
      "      },\n",
      "      \"input\": [],\n",
      "      \"output\": [],\n",
      "      \"config\": {\n",
      "         \"MyTool\": {\n",
      "            \"config_file\": \"/github/workspace/docs/examples/Tools.json\",\n",
      "            \"iterations\": 5,\n",
      "            \"log_config\": {\n",
      "               \"version\": 1,\n",
      "               \"disable_existing_loggers\": false,\n",
      "               \"formatters\": {\n",
      "                  \"file\": {\n",
      "                     \"()\": null,\n",
      "                     \"fmt\": \"%(asctime)s %(levelname)s [%(name)s] (%(module)s.%(funcName)s): %(message)s\"\n",
      "                  },\n",
      "                  \"console\": {\n",
      "                     \"()\": null,\n",
      "                     \"fmt\": \"%(asctime)s %(levelname)s [%(name)s] (%(module)s.%(funcName)s): %(message)s\"\n",
      "                  }\n",
      "               },\n",
      "               \"handlers\": {\n",
      "                  \"ctapipe-console\": {\n",
      "                     \"class\": \"logging.StreamHandler\",\n",
      "                     \"formatter\": \"console\",\n",
      "                     \"stream\": \"ext://sys.stderr\",\n",
      "                     \"level\": 10\n",
      "                  },\n",
      "                  \"console\": {\n",
      "                     \"class\": \"logging.StreamHandler\",\n",
      "                     \"formatter\": \"console\",\n",
      "                     \"stream\": \"ext://sys.stderr\",\n",
      "                     \"level\": \"NOTSET\"\n",
      "                  }\n",
      "               },\n",
      "               \"loggers\": {\n",
      "                  \"ctapipe\": {\n",
      "                     \"level\": 10,\n",
      "                     \"handlers\": [\n",
      "                        \"ctapipe-console\"\n",
      "                     ],\n",
      "                     \"propagate\": false\n",
      "                  }\n",
      "               }\n",
      "            },\n",
      "            \"log_datefmt\": \"%Y-%m-%d %H:%M:%S\",\n",
      "            \"log_file\": null,\n",
      "            \"log_file_level\": \"INFO\",\n",
      "            \"log_format\": \"[%(name)s]%(highlevel)s %(message)s\",\n",
      "            \"log_level\": 10,\n",
      "            \"provenance_log\": \"/github/workspace/docs/examples/mytool.provenance.log\",\n",
      "            \"quiet\": false,\n",
      "            \"show_config\": false,\n",
      "            \"show_config_json\": false,\n",
      "            \"MyComponent\": {\n",
      "               \"value\": -1\n",
      "            },\n",
      "            \"SecondaryMyComponent\": {\n",
      "               \"value\": -1\n",
      "            },\n",
      "            \"TelescopeWiseComponent\": {\n",
      "               \"param\": [\n",
      "                  [\n",
      "                     \"type\",\n",
      "                     \"*\",\n",
      "                     5.0\n",
      "                  ]\n",
      "               ]\n",
      "            },\n",
      "            \"AdvancedComponent\": {\n",
      "               \"infile\": \"/github/workspace/docs/examples/something.txt\",\n",
      "               \"outfile\": null,\n",
      "               \"value1\": -1,\n",
      "               \"MyComponent\": {\n",
      "                  \"value\": -1\n",
      "               }\n",
      "            }\n",
      "         }\n",
      "      },\n",
      "      \"status\": \"completed\",\n",
      "      \"duration_min\": 0.008983333333212329\n",
      "   }\n",
      "]'\n"
     ]
    },
    {
     "name": "stderr",
     "output_type": "stream",
     "text": [
      "2021-01-20 12:49:23,915 \u001b[1;34mDEBUG\u001b[0m [ctapipe.mytool] (application.exit): Exiting application: mytool\n"
     ]
    }
   ],
   "source": [
    "try:\n",
    "    tool2.run(argv=['--config', 'Tools.json'])\n",
    "except SystemExit as e:\n",
    "    assert e.code == 0, f'Tool returned with error status {e}'"
   ]
  },
  {
   "cell_type": "code",
   "execution_count": 20,
   "metadata": {
    "execution": {
     "iopub.execute_input": "2021-01-20T12:49:23.929500Z",
     "iopub.status.busy": "2021-01-20T12:49:23.928955Z",
     "iopub.status.idle": "2021-01-20T12:49:23.930982Z",
     "shell.execute_reply": "2021-01-20T12:49:23.931441Z"
    }
   },
   "outputs": [
    {
     "name": "stdout",
     "output_type": "stream",
     "text": [
      "/github/workspace/docs/examples/something.txt\n"
     ]
    }
   ],
   "source": [
    "print(tool2.advanced.infile)"
   ]
  },
  {
   "cell_type": "code",
   "execution_count": 21,
   "metadata": {
    "execution": {
     "iopub.execute_input": "2021-01-20T12:49:23.935373Z",
     "iopub.status.busy": "2021-01-20T12:49:23.934840Z",
     "iopub.status.idle": "2021-01-20T12:49:23.938740Z",
     "shell.execute_reply": "2021-01-20T12:49:23.938002Z"
    }
   },
   "outputs": [
    {
     "name": "stdout",
     "output_type": "stream",
     "text": [
      "{'MyTool': {'config_file': 'Tools.json', 'log_level': 'DEBUG'}, 'AdvancedComponent': {'infile': 'something.txt'}, 'attach_subarray': <LazyConfigValue {}>}\n"
     ]
    }
   ],
   "source": [
    "print(tool2.config)"
   ]
  },
  {
   "cell_type": "code",
   "execution_count": 22,
   "metadata": {
    "execution": {
     "iopub.execute_input": "2021-01-20T12:49:23.943283Z",
     "iopub.status.busy": "2021-01-20T12:49:23.942706Z",
     "iopub.status.idle": "2021-01-20T12:49:23.946923Z",
     "shell.execute_reply": "2021-01-20T12:49:23.946443Z"
    }
   },
   "outputs": [
    {
     "data": {
      "text/plain": [
       "True"
      ]
     },
     "execution_count": 1,
     "metadata": {},
     "output_type": "execute_result"
    }
   ],
   "source": [
    "tool2.is_setup"
   ]
  },
  {
   "cell_type": "code",
   "execution_count": 23,
   "metadata": {
    "execution": {
     "iopub.execute_input": "2021-01-20T12:49:23.951843Z",
     "iopub.status.busy": "2021-01-20T12:49:23.950892Z",
     "iopub.status.idle": "2021-01-20T12:49:23.954128Z",
     "shell.execute_reply": "2021-01-20T12:49:23.953626Z"
    }
   },
   "outputs": [],
   "source": [
    "tool3 = MyTool()"
   ]
  },
  {
   "cell_type": "code",
   "execution_count": 24,
   "metadata": {
    "execution": {
     "iopub.execute_input": "2021-01-20T12:49:23.958317Z",
     "iopub.status.busy": "2021-01-20T12:49:23.957726Z",
     "iopub.status.idle": "2021-01-20T12:49:23.960293Z",
     "shell.execute_reply": "2021-01-20T12:49:23.960738Z"
    }
   },
   "outputs": [
    {
     "data": {
      "text/plain": [
       "False"
      ]
     },
     "execution_count": 1,
     "metadata": {},
     "output_type": "execute_result"
    }
   ],
   "source": [
    "tool3.is_setup"
   ]
  },
  {
   "cell_type": "code",
   "execution_count": 25,
   "metadata": {
    "execution": {
     "iopub.execute_input": "2021-01-20T12:49:23.967730Z",
     "iopub.status.busy": "2021-01-20T12:49:23.965274Z",
     "iopub.status.idle": "2021-01-20T12:49:23.971838Z",
     "shell.execute_reply": "2021-01-20T12:49:23.971372Z"
    }
   },
   "outputs": [],
   "source": [
    "tool3.initialize(argv=[])"
   ]
  },
  {
   "cell_type": "code",
   "execution_count": 26,
   "metadata": {
    "execution": {
     "iopub.execute_input": "2021-01-20T12:49:23.976529Z",
     "iopub.status.busy": "2021-01-20T12:49:23.975629Z",
     "iopub.status.idle": "2021-01-20T12:49:23.978127Z",
     "shell.execute_reply": "2021-01-20T12:49:23.978557Z"
    }
   },
   "outputs": [
    {
     "data": {
      "text/plain": [
       "False"
      ]
     },
     "execution_count": 1,
     "metadata": {},
     "output_type": "execute_result"
    }
   ],
   "source": [
    "tool3.is_setup"
   ]
  },
  {
   "cell_type": "code",
   "execution_count": 27,
   "metadata": {
    "execution": {
     "iopub.execute_input": "2021-01-20T12:49:23.983212Z",
     "iopub.status.busy": "2021-01-20T12:49:23.982185Z",
     "iopub.status.idle": "2021-01-20T12:49:23.985327Z",
     "shell.execute_reply": "2021-01-20T12:49:23.985777Z"
    }
   },
   "outputs": [
    {
     "data": {
      "text/html": [
       "<b>MyTool</b>\n",
       "<p> do some things and stuff </p>\n",
       "<table>\n",
       "<tr><th>config_file</th>\n",
       "<td>None</td>\n",
       "<td style=\"text-align:left\"><i>name of a configuration file with parameters to load in addition to command-line parameters (default: None)</i></td></tr>\n",
       "<tr><th>iterations</th>\n",
       "<td>5</td>\n",
       "<td style=\"text-align:left\"><i>Number of times to run (default: 5)</i></td></tr>\n",
       "<tr><th>log_config</th>\n",
       "<td><span style='color:blue'>{'version': 1, 'disable_existing_loggers': False, 'formatters': {'file': {'()': <class 'ctapipe.core.logging.PlainFormatter'>, 'fmt': '%(asctime)s %(levelname)s [%(name)s] (%(module)s.%(funcName)s): %(message)s'}, 'console': {'()': <class 'ctapipe.core.logging.ColoredFormatter'>, 'fmt': '%(asctime)s %(levelname)s [%(name)s] (%(module)s.%(funcName)s): %(message)s'}}, 'handlers': {'ctapipe-console': {'class': 'logging.StreamHandler', 'formatter': 'console', 'stream': 'ext://sys.stderr', 'level': 30}, 'console': {'class': 'logging.StreamHandler', 'formatter': 'console', 'stream': 'ext://sys.stderr', 'level': 'NOTSET'}}, 'loggers': {'ctapipe': {'level': 30, 'handlers': ['ctapipe-console'], 'propagate': False}}}</span></td>\n",
       "<td style=\"text-align:left\"><i> (default: traitlets.Undefined)</i></td></tr>\n",
       "<tr><th>log_datefmt</th>\n",
       "<td>%Y-%m-%d %H:%M:%S</td>\n",
       "<td style=\"text-align:left\"><i>The date format used by logging formatters for %(asctime)s (default: %Y-%m-%d %H:%M:%S)</i></td></tr>\n",
       "<tr><th>log_file</th>\n",
       "<td>None</td>\n",
       "<td style=\"text-align:left\"><i>Filename for the log (default: None)</i></td></tr>\n",
       "<tr><th>log_file_level</th>\n",
       "<td>INFO</td>\n",
       "<td style=\"text-align:left\"><i>Logging Level for File Logging (default: INFO)</i></td></tr>\n",
       "<tr><th>log_format</th>\n",
       "<td>[%(name)s]%(highlevel)s %(message)s</td>\n",
       "<td style=\"text-align:left\"><i>The Logging format template (default: [%(name)s]%(highlevel)s %(message)s)</i></td></tr>\n",
       "<tr><th>log_level</th>\n",
       "<td>30</td>\n",
       "<td style=\"text-align:left\"><i>Set the log level by value or name. (default: 30)</i></td></tr>\n",
       "<tr><th>provenance_log</th>\n",
       "<td><span style='color:blue'>/github/workspace/docs/examples/mytool.provenance.log</span></td>\n",
       "<td style=\"text-align:left\"><i> (default: None)</i></td></tr>\n",
       "<tr><th>quiet</th>\n",
       "<td>False</td>\n",
       "<td style=\"text-align:left\"><i> (default: False)</i></td></tr>\n",
       "<tr><th>show_config</th>\n",
       "<td>False</td>\n",
       "<td style=\"text-align:left\"><i>Instead of starting the Application, dump configuration to stdout (default: False)</i></td></tr>\n",
       "<tr><th>show_config_json</th>\n",
       "<td>False</td>\n",
       "<td style=\"text-align:left\"><i>Instead of starting the Application, dump configuration to stdout (as JSON) (default: False)</i></td></tr>\n",
       "</table>\n",
       "<p><i>Components:</i>\n",
       "MyTool, MyComponent, AdvancedComponent, SecondaryMyComponent, TelescopeWiseComponent\n",
       "</p>"
      ],
      "text/plain": [
       "<__main__.MyTool at 0x7f73724c48b0>"
      ]
     },
     "execution_count": 1,
     "metadata": {},
     "output_type": "execute_result"
    }
   ],
   "source": [
    "tool3"
   ]
  },
  {
   "cell_type": "code",
   "execution_count": 28,
   "metadata": {
    "execution": {
     "iopub.execute_input": "2021-01-20T12:49:23.990570Z",
     "iopub.status.busy": "2021-01-20T12:49:23.990012Z",
     "iopub.status.idle": "2021-01-20T12:49:23.997234Z",
     "shell.execute_reply": "2021-01-20T12:49:23.997686Z"
    }
   },
   "outputs": [
    {
     "ename": "KeyError",
     "evalue": "'MyComponent'",
     "output_type": "error",
     "traceback": [
      "\u001b[0;31m---------------------------------------------------------------------------\u001b[0m",
      "\u001b[0;31mKeyError\u001b[0m                                  Traceback (most recent call last)",
      "\u001b[0;32m/usr/local/lib/python3.8/site-packages/IPython/core/formatters.py\u001b[0m in \u001b[0;36m__call__\u001b[0;34m(self, obj)\u001b[0m\n\u001b[1;32m    343\u001b[0m             \u001b[0mmethod\u001b[0m \u001b[0;34m=\u001b[0m \u001b[0mget_real_method\u001b[0m\u001b[0;34m(\u001b[0m\u001b[0mobj\u001b[0m\u001b[0;34m,\u001b[0m \u001b[0mself\u001b[0m\u001b[0;34m.\u001b[0m\u001b[0mprint_method\u001b[0m\u001b[0;34m)\u001b[0m\u001b[0;34m\u001b[0m\u001b[0;34m\u001b[0m\u001b[0m\n\u001b[1;32m    344\u001b[0m             \u001b[0;32mif\u001b[0m \u001b[0mmethod\u001b[0m \u001b[0;32mis\u001b[0m \u001b[0;32mnot\u001b[0m \u001b[0;32mNone\u001b[0m\u001b[0;34m:\u001b[0m\u001b[0;34m\u001b[0m\u001b[0;34m\u001b[0m\u001b[0m\n\u001b[0;32m--> 345\u001b[0;31m                 \u001b[0;32mreturn\u001b[0m \u001b[0mmethod\u001b[0m\u001b[0;34m(\u001b[0m\u001b[0;34m)\u001b[0m\u001b[0;34m\u001b[0m\u001b[0;34m\u001b[0m\u001b[0m\n\u001b[0m\u001b[1;32m    346\u001b[0m             \u001b[0;32mreturn\u001b[0m \u001b[0;32mNone\u001b[0m\u001b[0;34m\u001b[0m\u001b[0;34m\u001b[0m\u001b[0m\n\u001b[1;32m    347\u001b[0m         \u001b[0;32melse\u001b[0m\u001b[0;34m:\u001b[0m\u001b[0;34m\u001b[0m\u001b[0;34m\u001b[0m\u001b[0m\n",
      "\u001b[0;32m/github/workspace/ctapipe/core/tool.py\u001b[0m in \u001b[0;36m_repr_html_\u001b[0;34m(self)\u001b[0m\n\u001b[1;32m    320\u001b[0m         ]\n\u001b[1;32m    321\u001b[0m         \u001b[0;32mfor\u001b[0m \u001b[0mkey\u001b[0m\u001b[0;34m,\u001b[0m \u001b[0mval\u001b[0m \u001b[0;32min\u001b[0m \u001b[0mself\u001b[0m\u001b[0;34m.\u001b[0m\u001b[0mget_current_config\u001b[0m\u001b[0;34m(\u001b[0m\u001b[0;34m)\u001b[0m\u001b[0;34m[\u001b[0m\u001b[0mname\u001b[0m\u001b[0;34m]\u001b[0m\u001b[0;34m.\u001b[0m\u001b[0mitems\u001b[0m\u001b[0;34m(\u001b[0m\u001b[0;34m)\u001b[0m\u001b[0;34m:\u001b[0m\u001b[0;34m\u001b[0m\u001b[0;34m\u001b[0m\u001b[0m\n\u001b[0;32m--> 322\u001b[0;31m             \u001b[0mdefault\u001b[0m \u001b[0;34m=\u001b[0m \u001b[0mtraits\u001b[0m\u001b[0;34m[\u001b[0m\u001b[0mkey\u001b[0m\u001b[0;34m]\u001b[0m\u001b[0;34m.\u001b[0m\u001b[0mdefault_value\u001b[0m\u001b[0;34m\u001b[0m\u001b[0;34m\u001b[0m\u001b[0m\n\u001b[0m\u001b[1;32m    323\u001b[0m             \u001b[0mthehelp\u001b[0m \u001b[0;34m=\u001b[0m \u001b[0;34mf\"{traits[key].help} (default: {default})\"\u001b[0m\u001b[0;34m\u001b[0m\u001b[0;34m\u001b[0m\u001b[0m\n\u001b[1;32m    324\u001b[0m             \u001b[0mlines\u001b[0m\u001b[0;34m.\u001b[0m\u001b[0mappend\u001b[0m\u001b[0;34m(\u001b[0m\u001b[0;34mf\"<tr><th>{key}</th>\"\u001b[0m\u001b[0;34m)\u001b[0m\u001b[0;34m\u001b[0m\u001b[0;34m\u001b[0m\u001b[0m\n",
      "\u001b[0;31mKeyError\u001b[0m: 'MyComponent'"
     ]
    },
    {
     "data": {
      "text/plain": [
       "<__main__.MyTool at 0x7f737ecba070>"
      ]
     },
     "execution_count": 1,
     "metadata": {},
     "output_type": "execute_result"
    }
   ],
   "source": [
    "tool"
   ]
  },
  {
   "cell_type": "code",
   "execution_count": 29,
   "metadata": {
    "execution": {
     "iopub.execute_input": "2021-01-20T12:49:24.002190Z",
     "iopub.status.busy": "2021-01-20T12:49:24.001372Z",
     "iopub.status.idle": "2021-01-20T12:49:24.003974Z",
     "shell.execute_reply": "2021-01-20T12:49:24.004607Z"
    }
   },
   "outputs": [
    {
     "data": {
      "text/html": [
       "<b>SecondaryMyComponent</b>\n",
       "<p> Undocumented! </p>\n",
       "<table>\n",
       "<tr><th>value</th>\n",
       "<td>-1</td>\n",
       "<td style=\"text-align:left\"><i>Value to use (default: -1)</i></td></tr>\n",
       "</table>"
      ],
      "text/plain": [
       "<__main__.SecondaryMyComponent at 0x7f73724e1400>"
      ]
     },
     "execution_count": 1,
     "metadata": {},
     "output_type": "execute_result"
    }
   ],
   "source": [
    "tool.comp2"
   ]
  },
  {
   "cell_type": "markdown",
   "metadata": {},
   "source": [
    "## Getting the configuration of an instance"
   ]
  },
  {
   "cell_type": "code",
   "execution_count": 30,
   "metadata": {
    "execution": {
     "iopub.execute_input": "2021-01-20T12:49:24.011121Z",
     "iopub.status.busy": "2021-01-20T12:49:24.010196Z",
     "iopub.status.idle": "2021-01-20T12:49:24.012772Z",
     "shell.execute_reply": "2021-01-20T12:49:24.013221Z"
    }
   },
   "outputs": [
    {
     "data": {
      "text/plain": [
       "{'MyTool': {'config_file': None,\n",
       "  'iterations': 3,\n",
       "  'log_config': {'version': 1,\n",
       "   'disable_existing_loggers': False,\n",
       "   'formatters': {'file': {'()': ctapipe.core.logging.PlainFormatter,\n",
       "     'fmt': '%(asctime)s %(levelname)s [%(name)s] (%(module)s.%(funcName)s): %(message)s'},\n",
       "    'console': {'()': ctapipe.core.logging.ColoredFormatter,\n",
       "     'fmt': '%(asctime)s %(levelname)s [%(name)s] (%(module)s.%(funcName)s): %(message)s'}},\n",
       "   'handlers': {'ctapipe-console': {'class': 'logging.StreamHandler',\n",
       "     'formatter': 'console',\n",
       "     'stream': 'ext://sys.stderr',\n",
       "     'level': 30},\n",
       "    'console': {'class': 'logging.StreamHandler',\n",
       "     'formatter': 'console',\n",
       "     'stream': 'ext://sys.stderr',\n",
       "     'level': 'NOTSET'}},\n",
       "   'loggers': {'ctapipe': {'level': 30,\n",
       "     'handlers': ['ctapipe-console'],\n",
       "     'propagate': False}}},\n",
       "  'log_datefmt': '%Y-%m-%d %H:%M:%S',\n",
       "  'log_file': None,\n",
       "  'log_file_level': 'INFO',\n",
       "  'log_format': '%(asctime)s : %(levelname)s [%(name)s %(funcName)s] %(message)s',\n",
       "  'log_level': 10,\n",
       "  'provenance_log': PosixPath('/github/workspace/docs/examples/mytool.provenance.log'),\n",
       "  'quiet': False,\n",
       "  'show_config': False,\n",
       "  'show_config_json': False,\n",
       "  'MyComponent': {'value': -1},\n",
       "  'SecondaryMyComponent': {'value': -1},\n",
       "  'TelescopeWiseComponent': {'param': [('type', '*', 5.0)]},\n",
       "  'AdvancedComponent': {'infile': PosixPath('/github/home/.cache/ctapipe/gamma_test.simtel.gz'),\n",
       "   'outfile': PosixPath('/github/workspace/docs/examples/Another.txt'),\n",
       "   'value1': -1,\n",
       "   'MyComponent': {'value': -1}}}}"
      ]
     },
     "execution_count": 1,
     "metadata": {},
     "output_type": "execute_result"
    }
   ],
   "source": [
    "tool.get_current_config()"
   ]
  },
  {
   "cell_type": "code",
   "execution_count": 31,
   "metadata": {
    "execution": {
     "iopub.execute_input": "2021-01-20T12:49:24.019730Z",
     "iopub.status.busy": "2021-01-20T12:49:24.019023Z",
     "iopub.status.idle": "2021-01-20T12:49:24.022874Z",
     "shell.execute_reply": "2021-01-20T12:49:24.022390Z"
    }
   },
   "outputs": [
    {
     "data": {
      "text/plain": [
       "{'MyTool': {'config_file': None,\n",
       "  'iterations': 12,\n",
       "  'log_config': {'version': 1,\n",
       "   'disable_existing_loggers': False,\n",
       "   'formatters': {'file': {'()': ctapipe.core.logging.PlainFormatter,\n",
       "     'fmt': '%(asctime)s %(levelname)s [%(name)s] (%(module)s.%(funcName)s): %(message)s'},\n",
       "    'console': {'()': ctapipe.core.logging.ColoredFormatter,\n",
       "     'fmt': '%(asctime)s %(levelname)s [%(name)s] (%(module)s.%(funcName)s): %(message)s'}},\n",
       "   'handlers': {'ctapipe-console': {'class': 'logging.StreamHandler',\n",
       "     'formatter': 'console',\n",
       "     'stream': 'ext://sys.stderr',\n",
       "     'level': 30},\n",
       "    'console': {'class': 'logging.StreamHandler',\n",
       "     'formatter': 'console',\n",
       "     'stream': 'ext://sys.stderr',\n",
       "     'level': 'NOTSET'}},\n",
       "   'loggers': {'ctapipe': {'level': 30,\n",
       "     'handlers': ['ctapipe-console'],\n",
       "     'propagate': False}}},\n",
       "  'log_datefmt': '%Y-%m-%d %H:%M:%S',\n",
       "  'log_file': None,\n",
       "  'log_file_level': 'INFO',\n",
       "  'log_format': '%(asctime)s : %(levelname)s [%(name)s %(funcName)s] %(message)s',\n",
       "  'log_level': 10,\n",
       "  'provenance_log': PosixPath('/github/workspace/docs/examples/mytool.provenance.log'),\n",
       "  'quiet': False,\n",
       "  'show_config': False,\n",
       "  'show_config_json': False,\n",
       "  'MyComponent': {'value': -1},\n",
       "  'SecondaryMyComponent': {'value': -1},\n",
       "  'TelescopeWiseComponent': {'param': [('type', '*', 5.0)]},\n",
       "  'AdvancedComponent': {'infile': PosixPath('/github/home/.cache/ctapipe/gamma_test.simtel.gz'),\n",
       "   'outfile': PosixPath('/github/workspace/docs/examples/Another.txt'),\n",
       "   'value1': -1,\n",
       "   'MyComponent': {'value': -1}}}}"
      ]
     },
     "execution_count": 1,
     "metadata": {},
     "output_type": "execute_result"
    }
   ],
   "source": [
    "tool.iterations = 12\n",
    "tool.get_current_config()"
   ]
  },
  {
   "cell_type": "markdown",
   "metadata": {},
   "source": [
    "## Writing a Sample Config File"
   ]
  },
  {
   "cell_type": "code",
   "execution_count": 32,
   "metadata": {
    "execution": {
     "iopub.execute_input": "2021-01-20T12:49:24.035547Z",
     "iopub.status.busy": "2021-01-20T12:49:24.030057Z",
     "iopub.status.idle": "2021-01-20T12:49:24.045730Z",
     "shell.execute_reply": "2021-01-20T12:49:24.045166Z"
    }
   },
   "outputs": [
    {
     "name": "stdout",
     "output_type": "stream",
     "text": [
      "# Configuration file for mytool.\n",
      "\n",
      "#------------------------------------------------------------------------------\n",
      "# Application(SingletonConfigurable) configuration\n",
      "#------------------------------------------------------------------------------\n",
      "## This is an application.\n",
      "\n",
      "## The date format used by logging formatters for %(asctime)s\n",
      "#  Default: '%Y-%m-%d %H:%M:%S'\n",
      "# c.Application.log_datefmt = '%Y-%m-%d %H:%M:%S'\n",
      "\n",
      "## The Logging format template\n",
      "#  Default: '[%(name)s]%(highlevel)s %(message)s'\n",
      "# c.Application.log_format = '[%(name)s]%(highlevel)s %(message)s'\n",
      "\n",
      "## Set the log level by value or name.\n",
      "#  Choices: any of [0, 10, 20, 30, 40, 50, 'DEBUG', 'INFO', 'WARN', 'ERROR', 'CRITICAL']\n",
      "#  Default: 30\n",
      "# c.Application.log_level = 30\n",
      "\n",
      "## Instead of starting the Application, dump configuration to stdout\n",
      "#  Default: False\n",
      "# c.Application.show_config = False\n",
      "\n",
      "## Instead of starting the Application, dump configuration to stdout (as JSON)\n",
      "#  Default: False\n",
      "# c.Application.show_config_json = False\n",
      "\n",
      "#------------------------------------------------------------------------------\n",
      "# Tool(Application) configuration\n",
      "#------------------------------------------------------------------------------\n",
      "## This is an application.\n",
      "\n",
      "## name of a configuration file with parameters to load in addition to command-\n",
      "#  line parameters\n",
      "#  Default: None\n",
      "# c.Tool.config_file = None\n",
      "\n",
      "#  Default: {'version': 1, 'disable_existing_loggers': False, 'formatters': {'file': {'()': <class 'ctapipe.core.logging.PlainFormatter'>, 'fmt': '%(asctime)s %(levelname)s [%(name)s] (%(module)s.%(funcName)s): %(message)s'}, 'console': {'()': <class 'ctapipe.core.logging.ColoredFormatter'>, 'fmt': '%(asctime)s %(levelname)s [%(name)s] (%(module)s.%(funcName)s): %(message)s'}}, 'handlers': {'ctapipe-console': {'class': 'logging.StreamHandler', 'formatter': 'console', 'stream': 'ext://sys.stderr', 'level': 30}, 'console': {'class': 'logging.StreamHandler', 'formatter': 'console', 'stream': 'ext://sys.stderr', 'level': 'NOTSET'}}, 'loggers': {'ctapipe': {'level': 30, 'handlers': ['ctapipe-console'], 'propagate': False}}}\n",
      "# c.Tool.log_config = {'version': 1, 'disable_existing_loggers': False, 'formatters': {'file': {'()': <class 'ctapipe.core.logging.PlainFormatter'>, 'fmt': '%(asctime)s %(levelname)s [%(name)s] (%(module)s.%(funcName)s): %(message)s'}, 'console': {'()': <class 'ctapipe.core.logging.ColoredFormatter'>, 'fmt': '%(asctime)s %(levelname)s [%(name)s] (%(module)s.%(funcName)s): %(message)s'}}, 'handlers': {'ctapipe-console': {'class': 'logging.StreamHandler', 'formatter': 'console', 'stream': 'ext://sys.stderr', 'level': 30}, 'console': {'class': 'logging.StreamHandler', 'formatter': 'console', 'stream': 'ext://sys.stderr', 'level': 'NOTSET'}}, 'loggers': {'ctapipe': {'level': 30, 'handlers': ['ctapipe-console'], 'propagate': False}}}\n",
      "\n",
      "## The date format used by logging formatters for %(asctime)s\n",
      "#  See also: Application.log_datefmt\n",
      "# c.Tool.log_datefmt = '%Y-%m-%d %H:%M:%S'\n",
      "\n",
      "## Filename for the log\n",
      "#  Default: None\n",
      "# c.Tool.log_file = None\n",
      "\n",
      "## Logging Level for File Logging\n",
      "#  Choices: any of [0, 10, 20, 30, 40, 50, 'DEBUG', 'INFO', 'WARN', 'ERROR', 'CRITICAL']\n",
      "#  Default: 'INFO'\n",
      "# c.Tool.log_file_level = 'INFO'\n",
      "\n",
      "## The Logging format template\n",
      "#  See also: Application.log_format\n",
      "# c.Tool.log_format = '[%(name)s]%(highlevel)s %(message)s'\n",
      "\n",
      "## Set the log level by value or name.\n",
      "#  See also: Application.log_level\n",
      "# c.Tool.log_level = 30\n",
      "\n",
      "#  Default: None\n",
      "# c.Tool.provenance_log = None\n",
      "\n",
      "#  Default: False\n",
      "# c.Tool.quiet = False\n",
      "\n",
      "## Instead of starting the Application, dump configuration to stdout\n",
      "#  See also: Application.show_config\n",
      "# c.Tool.show_config = False\n",
      "\n",
      "## Instead of starting the Application, dump configuration to stdout (as JSON)\n",
      "#  See also: Application.show_config_json\n",
      "# c.Tool.show_config_json = False\n",
      "\n",
      "#------------------------------------------------------------------------------\n",
      "# MyTool(Tool) configuration\n",
      "#------------------------------------------------------------------------------\n",
      "## name of a configuration file with parameters to load in addition to command-\n",
      "#  line parameters\n",
      "#  See also: Tool.config_file\n",
      "# c.MyTool.config_file = None\n",
      "\n",
      "## Number of times to run\n",
      "#  Default: 5\n",
      "# c.MyTool.iterations = 5\n",
      "\n",
      "#  See also: Tool.log_config\n",
      "# c.MyTool.log_config = {'version': 1, 'disable_existing_loggers': False, 'formatters': {'file': {'()': <class 'ctapipe.core.logging.PlainFormatter'>, 'fmt': '%(asctime)s %(levelname)s [%(name)s] (%(module)s.%(funcName)s): %(message)s'}, 'console': {'()': <class 'ctapipe.core.logging.ColoredFormatter'>, 'fmt': '%(asctime)s %(levelname)s [%(name)s] (%(module)s.%(funcName)s): %(message)s'}}, 'handlers': {'ctapipe-console': {'class': 'logging.StreamHandler', 'formatter': 'console', 'stream': 'ext://sys.stderr', 'level': 30}, 'console': {'class': 'logging.StreamHandler', 'formatter': 'console', 'stream': 'ext://sys.stderr', 'level': 'NOTSET'}}, 'loggers': {'ctapipe': {'level': 30, 'handlers': ['ctapipe-console'], 'propagate': False}}}\n",
      "\n",
      "## The date format used by logging formatters for %(asctime)s\n",
      "#  See also: Application.log_datefmt\n",
      "# c.MyTool.log_datefmt = '%Y-%m-%d %H:%M:%S'\n",
      "\n",
      "## Filename for the log\n",
      "#  See also: Tool.log_file\n",
      "# c.MyTool.log_file = None\n",
      "\n",
      "## Logging Level for File Logging\n",
      "#  See also: Tool.log_file_level\n",
      "# c.MyTool.log_file_level = 'INFO'\n",
      "\n",
      "## The Logging format template\n",
      "#  See also: Application.log_format\n",
      "# c.MyTool.log_format = '[%(name)s]%(highlevel)s %(message)s'\n",
      "\n",
      "## Set the log level by value or name.\n",
      "#  See also: Application.log_level\n",
      "# c.MyTool.log_level = 30\n",
      "\n",
      "#  See also: Tool.provenance_log\n",
      "# c.MyTool.provenance_log = None\n",
      "\n",
      "#  See also: Tool.quiet\n",
      "# c.MyTool.quiet = False\n",
      "\n",
      "## Instead of starting the Application, dump configuration to stdout\n",
      "#  See also: Application.show_config\n",
      "# c.MyTool.show_config = False\n",
      "\n",
      "## Instead of starting the Application, dump configuration to stdout (as JSON)\n",
      "#  See also: Application.show_config_json\n",
      "# c.MyTool.show_config_json = False\n",
      "\n",
      "#------------------------------------------------------------------------------\n",
      "# MyComponent(Component) configuration\n",
      "#------------------------------------------------------------------------------\n",
      "## A Component that does stuff\n",
      "\n",
      "## Value to use\n",
      "#  Default: -1\n",
      "# c.MyComponent.value = -1\n",
      "\n",
      "#------------------------------------------------------------------------------\n",
      "# AdvancedComponent(Component) configuration\n",
      "#------------------------------------------------------------------------------\n",
      "## An advanced technique\n",
      "\n",
      "## input file name\n",
      "#  Default: None\n",
      "# c.AdvancedComponent.infile = None\n",
      "\n",
      "## output file name\n",
      "#  Default: None\n",
      "# c.AdvancedComponent.outfile = None\n",
      "\n",
      "## Value to use\n",
      "#  Default: -1\n",
      "# c.AdvancedComponent.value1 = -1\n",
      "\n",
      "#------------------------------------------------------------------------------\n",
      "# SecondaryMyComponent(MyComponent) configuration\n",
      "#------------------------------------------------------------------------------\n",
      "## Value to use\n",
      "#  See also: MyComponent.value\n",
      "# c.SecondaryMyComponent.value = -1\n",
      "\n",
      "#------------------------------------------------------------------------------\n",
      "# TelescopeWiseComponent(TelescopeComponent) configuration\n",
      "#------------------------------------------------------------------------------\n",
      "## a component that contains parameters that are per-telescope configurable\n",
      "\n",
      "## Something configurable with telescope patterns\n",
      "#  Default: [('type', '*', 5.0)]\n",
      "# c.TelescopeWiseComponent.param = [('type', '*', 5.0)]\n",
      "\n"
     ]
    }
   ],
   "source": [
    "print(tool.generate_config_file())"
   ]
  }
 ],
 "metadata": {
  "kernelspec": {
   "display_name": "Python 3",
   "language": "python",
   "name": "python3"
  },
  "language_info": {
   "codemirror_mode": {
    "name": "ipython",
    "version": 3
   },
   "file_extension": ".py",
   "mimetype": "text/x-python",
   "name": "python",
   "nbconvert_exporter": "python",
   "pygments_lexer": "ipython3",
   "version": "3.8.2"
  }
 },
 "nbformat": 4,
 "nbformat_minor": 4
}
