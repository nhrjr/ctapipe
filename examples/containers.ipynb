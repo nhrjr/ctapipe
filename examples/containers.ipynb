{
 "cells": [
  {
   "cell_type": "markdown",
   "metadata": {},
   "source": [
    "# Using Container classes\n",
    "\n",
    "`ctapipe.core.Container` is the base class for all event-wise data classes in ctapipe. It works like a object-relational mapper, in that it defines a set of `Fields` along with their metadata (description, unit, default), which can be later translated automatially into an output table using a `ctapipe.io.TableWriter`."
   ]
  },
  {
   "cell_type": "code",
   "execution_count": 1,
   "metadata": {
    "execution": {
     "iopub.execute_input": "2021-01-20T12:49:34.881580Z",
     "iopub.status.busy": "2021-01-20T12:49:34.881024Z",
     "iopub.status.idle": "2021-01-20T12:49:35.328571Z",
     "shell.execute_reply": "2021-01-20T12:49:35.327154Z"
    }
   },
   "outputs": [
    {
     "name": "stderr",
     "output_type": "stream",
     "text": [
      "/usr/local/lib/python3.8/site-packages/setuptools_scm/git.py:68: UserWarning: \"/github/workspace\" is shallow and may cause errors\n",
      "  warnings.warn('\"{}\" is shallow and may cause errors'.format(wd.path))\n"
     ]
    }
   ],
   "source": [
    "from ctapipe.core import Container, Field, Map\n",
    "import numpy as np\n",
    "from astropy import units as u"
   ]
  },
  {
   "cell_type": "markdown",
   "metadata": {},
   "source": [
    "Let's define a few example containers with some dummy fields in them:"
   ]
  },
  {
   "cell_type": "code",
   "execution_count": 2,
   "metadata": {
    "execution": {
     "iopub.execute_input": "2021-01-20T12:49:35.334519Z",
     "iopub.status.busy": "2021-01-20T12:49:35.333928Z",
     "iopub.status.idle": "2021-01-20T12:49:35.337364Z",
     "shell.execute_reply": "2021-01-20T12:49:35.336911Z"
    }
   },
   "outputs": [],
   "source": [
    "class SubContainer(Container):\n",
    "    junk = Field(\"nothing\",\"Some junk\")\n",
    "    value = Field(0.0, \"some value\", unit=u.deg)\n",
    "\n",
    "class EventContainer(Container):\n",
    "    event_id = Field(-1,\"event id number\")\n",
    "    tels_with_data = Field([], \"list of telescopes with data\")\n",
    "    sub = Field(SubContainer(), \"stuff\")  # a sub-container in the hierarchy\n",
    "\n",
    "    # for dicts of sub-containers, use Map instead \n",
    "    # of a dict() as the default value to support serialization\n",
    "    tel = Field(Map(), \"telescopes\")  \n"
   ]
  },
  {
   "cell_type": "markdown",
   "metadata": {},
   "source": [
    "## Basic features"
   ]
  },
  {
   "cell_type": "code",
   "execution_count": 3,
   "metadata": {
    "execution": {
     "iopub.execute_input": "2021-01-20T12:49:35.341862Z",
     "iopub.status.busy": "2021-01-20T12:49:35.340636Z",
     "iopub.status.idle": "2021-01-20T12:49:35.342517Z",
     "shell.execute_reply": "2021-01-20T12:49:35.342962Z"
    }
   },
   "outputs": [],
   "source": [
    "ev = EventContainer()"
   ]
  },
  {
   "cell_type": "markdown",
   "metadata": {},
   "source": [
    "Check that default values are automatically filled in"
   ]
  },
  {
   "cell_type": "code",
   "execution_count": 4,
   "metadata": {
    "execution": {
     "iopub.execute_input": "2021-01-20T12:49:35.348290Z",
     "iopub.status.busy": "2021-01-20T12:49:35.347022Z",
     "iopub.status.idle": "2021-01-20T12:49:35.350151Z",
     "shell.execute_reply": "2021-01-20T12:49:35.349654Z"
    }
   },
   "outputs": [
    {
     "name": "stdout",
     "output_type": "stream",
     "text": [
      "-1\n",
      "dict_keys([])\n",
      "Map(None, {})\n"
     ]
    }
   ],
   "source": [
    "print(ev.event_id)\n",
    "print(ev.tel.keys())\n",
    "print(ev.tel)"
   ]
  },
  {
   "cell_type": "markdown",
   "metadata": {},
   "source": [
    "print the json representation"
   ]
  },
  {
   "cell_type": "code",
   "execution_count": 5,
   "metadata": {
    "execution": {
     "iopub.execute_input": "2021-01-20T12:49:35.355227Z",
     "iopub.status.busy": "2021-01-20T12:49:35.354021Z",
     "iopub.status.idle": "2021-01-20T12:49:35.357006Z",
     "shell.execute_reply": "2021-01-20T12:49:35.356541Z"
    }
   },
   "outputs": [
    {
     "name": "stdout",
     "output_type": "stream",
     "text": [
      "{'event_id': -1,\n",
      " 'sub': {'junk': 'nothing', 'value': 0.0},\n",
      " 'tel': {},\n",
      " 'tels_with_data': []}\n"
     ]
    }
   ],
   "source": [
    "print(ev)"
   ]
  },
  {
   "cell_type": "markdown",
   "metadata": {},
   "source": [
    "values can be set as normal for a class:"
   ]
  },
  {
   "cell_type": "code",
   "execution_count": 6,
   "metadata": {
    "execution": {
     "iopub.execute_input": "2021-01-20T12:49:35.367344Z",
     "iopub.status.busy": "2021-01-20T12:49:35.366412Z",
     "iopub.status.idle": "2021-01-20T12:49:35.369680Z",
     "shell.execute_reply": "2021-01-20T12:49:35.369221Z"
    }
   },
   "outputs": [
    {
     "data": {
      "text/plain": [
       "100"
      ]
     },
     "execution_count": 1,
     "metadata": {},
     "output_type": "execute_result"
    }
   ],
   "source": [
    "ev.event_id = 100\n",
    "ev.event_id"
   ]
  },
  {
   "cell_type": "code",
   "execution_count": 7,
   "metadata": {
    "execution": {
     "iopub.execute_input": "2021-01-20T12:49:35.374614Z",
     "iopub.status.busy": "2021-01-20T12:49:35.373676Z",
     "iopub.status.idle": "2021-01-20T12:49:35.376708Z",
     "shell.execute_reply": "2021-01-20T12:49:35.377153Z"
    }
   },
   "outputs": [
    {
     "data": {
      "text/plain": [
       "{'event_id': 100,\n",
       " 'tels_with_data': [],\n",
       " 'sub': __main__.SubContainer:\n",
       "                           junk: Some junk\n",
       "                          value: some value [deg],\n",
       " 'tel': Map(None, {})}"
      ]
     },
     "execution_count": 1,
     "metadata": {},
     "output_type": "execute_result"
    }
   ],
   "source": [
    "ev.as_dict()  # by default only shows the bare items, not sub-containers (See later)"
   ]
  },
  {
   "cell_type": "code",
   "execution_count": 8,
   "metadata": {
    "execution": {
     "iopub.execute_input": "2021-01-20T12:49:35.382091Z",
     "iopub.status.busy": "2021-01-20T12:49:35.381144Z",
     "iopub.status.idle": "2021-01-20T12:49:35.383803Z",
     "shell.execute_reply": "2021-01-20T12:49:35.384213Z"
    }
   },
   "outputs": [
    {
     "data": {
      "text/plain": [
       "{'event_id': 100,\n",
       " 'tels_with_data': [],\n",
       " 'sub': {'junk': 'nothing', 'value': 0.0},\n",
       " 'tel': {}}"
      ]
     },
     "execution_count": 1,
     "metadata": {},
     "output_type": "execute_result"
    }
   ],
   "source": [
    "ev.as_dict(recursive=True)"
   ]
  },
  {
   "cell_type": "markdown",
   "metadata": {},
   "source": [
    "Now, let's define a sub-container that we can add per telescope:"
   ]
  },
  {
   "cell_type": "code",
   "execution_count": 9,
   "metadata": {
    "execution": {
     "iopub.execute_input": "2021-01-20T12:49:35.388849Z",
     "iopub.status.busy": "2021-01-20T12:49:35.387713Z",
     "iopub.status.idle": "2021-01-20T12:49:35.389465Z",
     "shell.execute_reply": "2021-01-20T12:49:35.389907Z"
    }
   },
   "outputs": [],
   "source": [
    "class TelContainer(Container):\n",
    "    tel_id = Field(-1, \"telescope ID number\")\n",
    "    image = Field(np.zeros(10), \"camera pixel data\")\n",
    "\n"
   ]
  },
  {
   "cell_type": "markdown",
   "metadata": {},
   "source": [
    "and we can add a few of these to the parent container inside the tel dict:"
   ]
  },
  {
   "cell_type": "code",
   "execution_count": 10,
   "metadata": {
    "execution": {
     "iopub.execute_input": "2021-01-20T12:49:35.394420Z",
     "iopub.status.busy": "2021-01-20T12:49:35.393268Z",
     "iopub.status.idle": "2021-01-20T12:49:35.395037Z",
     "shell.execute_reply": "2021-01-20T12:49:35.395476Z"
    }
   },
   "outputs": [],
   "source": [
    "ev.tel[10] = TelContainer()\n",
    "ev.tel[5] = TelContainer()\n",
    "ev.tel[42] = TelContainer()"
   ]
  },
  {
   "cell_type": "code",
   "execution_count": 11,
   "metadata": {
    "execution": {
     "iopub.execute_input": "2021-01-20T12:49:35.400210Z",
     "iopub.status.busy": "2021-01-20T12:49:35.399447Z",
     "iopub.status.idle": "2021-01-20T12:49:35.402056Z",
     "shell.execute_reply": "2021-01-20T12:49:35.402502Z"
    }
   },
   "outputs": [
    {
     "data": {
      "text/plain": [
       "Map(None,\n",
       "    {10: __main__.TelContainer:\n",
       "                             tel_id: telescope ID number\n",
       "                              image: camera pixel data,\n",
       "     5: __main__.TelContainer:\n",
       "                             tel_id: telescope ID number\n",
       "                              image: camera pixel data,\n",
       "     42: __main__.TelContainer:\n",
       "                             tel_id: telescope ID number\n",
       "                              image: camera pixel data})"
      ]
     },
     "execution_count": 1,
     "metadata": {},
     "output_type": "execute_result"
    }
   ],
   "source": [
    "ev.tel"
   ]
  },
  {
   "cell_type": "markdown",
   "metadata": {},
   "source": [
    "## Converion to dictionaries"
   ]
  },
  {
   "cell_type": "code",
   "execution_count": 12,
   "metadata": {
    "execution": {
     "iopub.execute_input": "2021-01-20T12:49:35.406889Z",
     "iopub.status.busy": "2021-01-20T12:49:35.406347Z",
     "iopub.status.idle": "2021-01-20T12:49:35.408217Z",
     "shell.execute_reply": "2021-01-20T12:49:35.408741Z"
    }
   },
   "outputs": [
    {
     "data": {
      "text/plain": [
       "{'event_id': 100,\n",
       " 'tels_with_data': [],\n",
       " 'sub': __main__.SubContainer:\n",
       "                           junk: Some junk\n",
       "                          value: some value [deg],\n",
       " 'tel': Map(None,\n",
       "     {10: __main__.TelContainer:\n",
       "                              tel_id: telescope ID number\n",
       "                               image: camera pixel data,\n",
       "      5: __main__.TelContainer:\n",
       "                              tel_id: telescope ID number\n",
       "                               image: camera pixel data,\n",
       "      42: __main__.TelContainer:\n",
       "                              tel_id: telescope ID number\n",
       "                               image: camera pixel data})}"
      ]
     },
     "execution_count": 1,
     "metadata": {},
     "output_type": "execute_result"
    }
   ],
   "source": [
    "ev.as_dict()"
   ]
  },
  {
   "cell_type": "code",
   "execution_count": 13,
   "metadata": {
    "execution": {
     "iopub.execute_input": "2021-01-20T12:49:35.414502Z",
     "iopub.status.busy": "2021-01-20T12:49:35.413569Z",
     "iopub.status.idle": "2021-01-20T12:49:35.416121Z",
     "shell.execute_reply": "2021-01-20T12:49:35.416567Z"
    }
   },
   "outputs": [
    {
     "data": {
      "text/plain": [
       "{'event_id': 100,\n",
       " 'tels_with_data': [],\n",
       " 'sub': {'junk': 'nothing', 'value': 0.0},\n",
       " 'tel': {10: {'tel_id': -1,\n",
       "   'image': array([0., 0., 0., 0., 0., 0., 0., 0., 0., 0.])},\n",
       "  5: {'tel_id': -1, 'image': array([0., 0., 0., 0., 0., 0., 0., 0., 0., 0.])},\n",
       "  42: {'tel_id': -1,\n",
       "   'image': array([0., 0., 0., 0., 0., 0., 0., 0., 0., 0.])}}}"
      ]
     },
     "execution_count": 1,
     "metadata": {},
     "output_type": "execute_result"
    }
   ],
   "source": [
    "ev.as_dict(recursive=True, flatten=False)"
   ]
  },
  {
   "cell_type": "markdown",
   "metadata": {},
   "source": [
    "for serialization to a table, we can even flatten the output into a single set of columns"
   ]
  },
  {
   "cell_type": "code",
   "execution_count": 14,
   "metadata": {
    "execution": {
     "iopub.execute_input": "2021-01-20T12:49:35.421618Z",
     "iopub.status.busy": "2021-01-20T12:49:35.421131Z",
     "iopub.status.idle": "2021-01-20T12:49:35.423509Z",
     "shell.execute_reply": "2021-01-20T12:49:35.423954Z"
    }
   },
   "outputs": [
    {
     "data": {
      "text/plain": [
       "{'event_id': 100,\n",
       " 'tels_with_data': [],\n",
       " 'sub_junk': 'nothing',\n",
       " 'sub_value': 0.0,\n",
       " 'tel_10': {'tel_id': -1,\n",
       "  'image': array([0., 0., 0., 0., 0., 0., 0., 0., 0., 0.])},\n",
       " 'tel_5': {'tel_id': -1,\n",
       "  'image': array([0., 0., 0., 0., 0., 0., 0., 0., 0., 0.])},\n",
       " 'tel_42': {'tel_id': -1,\n",
       "  'image': array([0., 0., 0., 0., 0., 0., 0., 0., 0., 0.])}}"
      ]
     },
     "execution_count": 1,
     "metadata": {},
     "output_type": "execute_result"
    }
   ],
   "source": [
    "ev.as_dict(recursive=True, flatten=True)"
   ]
  },
  {
   "cell_type": "markdown",
   "metadata": {},
   "source": [
    "## Setting and clearing values"
   ]
  },
  {
   "cell_type": "code",
   "execution_count": 15,
   "metadata": {
    "execution": {
     "iopub.execute_input": "2021-01-20T12:49:35.431005Z",
     "iopub.status.busy": "2021-01-20T12:49:35.429824Z",
     "iopub.status.idle": "2021-01-20T12:49:35.432778Z",
     "shell.execute_reply": "2021-01-20T12:49:35.432305Z"
    }
   },
   "outputs": [
    {
     "name": "stdout",
     "output_type": "stream",
     "text": [
      "{'event_id': 100,\n",
      " 'sub': {'junk': 'nothing', 'value': 0.0},\n",
      " 'tel': {5: {'image': array([9., 9., 9., 9., 9., 9., 9., 9., 9., 9.]),\n",
      "             'tel_id': -1},\n",
      "         10: {'image': array([0., 0., 0., 0., 0., 0., 0., 0., 0., 0.]),\n",
      "              'tel_id': -1},\n",
      "         42: {'image': array([0., 0., 0., 0., 0., 0., 0., 0., 0., 0.]),\n",
      "              'tel_id': -1}},\n",
      " 'tels_with_data': []}\n"
     ]
    }
   ],
   "source": [
    "ev.tel[5].image[:] = 9\n",
    "print(ev)"
   ]
  },
  {
   "cell_type": "code",
   "execution_count": 16,
   "metadata": {
    "execution": {
     "iopub.execute_input": "2021-01-20T12:49:35.437211Z",
     "iopub.status.busy": "2021-01-20T12:49:35.436665Z",
     "iopub.status.idle": "2021-01-20T12:49:35.439214Z",
     "shell.execute_reply": "2021-01-20T12:49:35.439650Z"
    }
   },
   "outputs": [
    {
     "data": {
      "text/plain": [
       "{'event_id': -1, 'tels_with_data': [], 'sub_junk': 'nothing', 'sub_value': 0.0}"
      ]
     },
     "execution_count": 1,
     "metadata": {},
     "output_type": "execute_result"
    }
   ],
   "source": [
    "ev.reset()\n",
    "ev.as_dict(recursive=True, flatten=True)"
   ]
  },
  {
   "cell_type": "markdown",
   "metadata": {},
   "source": [
    "## look at a pre-defined Container"
   ]
  },
  {
   "cell_type": "code",
   "execution_count": 17,
   "metadata": {
    "execution": {
     "iopub.execute_input": "2021-01-20T12:49:35.442772Z",
     "iopub.status.busy": "2021-01-20T12:49:35.442244Z",
     "iopub.status.idle": "2021-01-20T12:49:35.615610Z",
     "shell.execute_reply": "2021-01-20T12:49:35.614691Z"
    }
   },
   "outputs": [],
   "source": [
    "from ctapipe.containers import SimulatedShowerContainer"
   ]
  },
  {
   "cell_type": "code",
   "execution_count": 18,
   "metadata": {
    "execution": {
     "iopub.execute_input": "2021-01-20T12:49:35.620486Z",
     "iopub.status.busy": "2021-01-20T12:49:35.619203Z",
     "iopub.status.idle": "2021-01-20T12:49:35.621089Z",
     "shell.execute_reply": "2021-01-20T12:49:35.621525Z"
    }
   },
   "outputs": [],
   "source": [
    "shower = SimulatedShowerContainer()"
   ]
  },
  {
   "cell_type": "code",
   "execution_count": 19,
   "metadata": {
    "execution": {
     "iopub.execute_input": "2021-01-20T12:49:35.626599Z",
     "iopub.status.busy": "2021-01-20T12:49:35.625650Z",
     "iopub.status.idle": "2021-01-20T12:49:35.628739Z",
     "shell.execute_reply": "2021-01-20T12:49:35.628295Z"
    },
    "scrolled": true
   },
   "outputs": [
    {
     "data": {
      "text/plain": [
       "ctapipe.containers.SimulatedShowerContainer:\n",
       "                        energy: Simulated Energy [TeV]\n",
       "                           alt: Simulated altitude [deg]\n",
       "                            az: Simulated azimuth [deg]\n",
       "                        core_x: Simulated core position (x) [m]\n",
       "                        core_y: Simulated core position (y) [m]\n",
       "                   h_first_int: Height of first interaction [m]\n",
       "                         x_max: Simulated Xmax value [g / cm2]\n",
       "             shower_primary_id: Simulated shower primary ID 0 (gamma),\n",
       "                                1(e-),2(mu-), 100*A+Z for nucleons and\n",
       "                                nuclei,negative for antimatter."
      ]
     },
     "execution_count": 1,
     "metadata": {},
     "output_type": "execute_result"
    }
   ],
   "source": [
    "shower"
   ]
  }
 ],
 "metadata": {
  "anaconda-cloud": {},
  "kernelspec": {
   "display_name": "Python 3",
   "language": "python",
   "name": "python3"
  },
  "language_info": {
   "codemirror_mode": {
    "name": "ipython",
    "version": 3
   },
   "file_extension": ".py",
   "mimetype": "text/x-python",
   "name": "python",
   "nbconvert_exporter": "python",
   "pygments_lexer": "ipython3",
   "version": "3.8.2"
  }
 },
 "nbformat": 4,
 "nbformat_minor": 4
}
